{
  "nbformat": 4,
  "nbformat_minor": 0,
  "metadata": {
    "colab": {
      "name": "LeiYang_project.ipynb",
      "provenance": [],
      "collapsed_sections": [],
      "authorship_tag": "ABX9TyMLYZzGiZBZg/p+KTbgXnS9",
      "include_colab_link": true
    },
    "kernelspec": {
      "display_name": "Python 3",
      "name": "python3"
    },
    "accelerator": "GPU"
  },
  "cells": [
    {
      "cell_type": "markdown",
      "metadata": {
        "id": "view-in-github",
        "colab_type": "text"
      },
      "source": [
        "<a href=\"https://colab.research.google.com/github/lei-yang5/ml-bigData-projects/blob/main/LeiYang_project.ipynb\" target=\"_parent\"><img src=\"https://colab.research.google.com/assets/colab-badge.svg\" alt=\"Open In Colab\"/></a>"
      ]
    },
    {
      "cell_type": "markdown",
      "metadata": {
        "id": "-CJagTDhMh9_"
      },
      "source": [
        "# Conventional ML Model\n",
        "\n",
        "The final conventional model that produced the best-performing predictions for Kaggle submission (accuracy 56%) was Random Forest with hyper-parameters of   “n_estimators=200,criterion=“gini”.  "
      ]
    },
    {
      "cell_type": "markdown",
      "metadata": {
        "id": "bzOnZdeu0rvv"
      },
      "source": [
        "Looking into our dataset and plotting of the Emotion Labels in Training Dataset, we knew we dealt with imbalanced dataset of 7 lables and more than 2500 data labled “happy” and olny less than 300 data labelled “disgusted”.\n",
        "\n",
        "SVM was tried first. Since SVM is imbalance dataset sensitive, class_weight was set to “balanced” (assigning higher misclassification penalties to training instances of the minority class). The validation accuracy was 50% which took extremely long time to train.  \n",
        "\n",
        "To reduce training time, PCA was applied for dimentionality reduction which reduced training time significantly. However the accuracy dropped to 45% unexpectedly. It seemed PCA eliminated useful features.\n",
        "\n",
        "Random Forest was the next attempt as it isn’t imbalanced data sensitive and it is a great classification algorithm. Dataset was fitted in n_estimators=100 model and the accuracy improved to 54%.\n",
        "\n",
        "To improve accuracy further, cross validation was used to find the better hyper parameters  which are “n_estimators=200,criterion=\"gini”. After retraining, the accuracy of validation slightly improved to 55%. However, the training accuracy already reached 99.87% indicating the model had been overfitted. \n",
        "\n",
        "Other conventional algorithms(SGD,Perceptron,AdaBoost, MLPClassifier) were also experimented. However they didn't perform well as Radom Forest and the accuracy were in the range of 28-48%.\n",
        "\n",
        "Interestingly, the accuracy of Random Forest on public test data improved from 50.968% to 53.521% simply by splitting train-validation dataset from 25% validation data to 10% validation data. That again proved bigger data helps models to train better. "
      ]
    },
    {
      "cell_type": "markdown",
      "metadata": {
        "id": "Mg5_Bwx5FsMY"
      },
      "source": [
        "The detail of code and brief notes of conventional modes are as follows."
      ]
    },
    {
      "cell_type": "code",
      "metadata": {
        "id": "B0_iocJIljcP",
        "colab": {
          "base_uri": "https://localhost:8080/"
        },
        "outputId": "c85bfcb5-8344-430c-ee86-96abc1e8ba55"
      },
      "source": [
        "import numpy as np\n",
        "from os.path import join\n",
        "import matplotlib.pyplot as plt\n",
        "import tensorflow as tf\n",
        "from tensorflow.keras import layers, models\n",
        "from google.colab import drive\n",
        "import random\n",
        "from sklearn.model_selection import train_test_split\n",
        "from sklearn.metrics import classification_report\n",
        "from sklearn.model_selection import GridSearchCV\n",
        "\n",
        "drive.mount('/content/drive/')\n",
        "\n",
        "image_size = 48\n",
        "EMOTIONS = ['angry', 'disgusted', 'fearful','happy', 'sad', 'surprised', 'neutral']\n",
        "dataset_directory = '/content/drive/My Drive/handson-ml2/projectData'  ## CHANGE TO YOUR OWN DIRECTORY\n",
        "\n",
        "images_train = np.load(join(dataset_directory, 'Training_data_images.npy'))\n",
        "labels_train = np.load(join(dataset_directory, 'Training_data_labels.npy'))\n",
        "\n",
        "images_test_public = np.load(join(dataset_directory, 'PublicTest_data_images.npy'))\n",
        "images_test_private= np.load(join(dataset_directory, 'PrivateTest_data_images.npy'))\n",
        "\n",
        "images_train = images_train.reshape([-1, image_size, image_size])\n",
        "images_test_public = images_test_public.reshape([-1, image_size, image_size])\n",
        "\n",
        "print(images_train.shape)\n",
        "print(labels_train.shape)\n",
        "print(images_test_public.shape)\n",
        "print(images_test_private.shape)\n",
        "\n"
      ],
      "execution_count": null,
      "outputs": [
        {
          "output_type": "stream",
          "text": [
            "Mounted at /content/drive/\n",
            "(9328, 48, 48)\n",
            "(9328,)\n",
            "(1136, 48, 48)\n",
            "(1153, 48, 48)\n"
          ],
          "name": "stdout"
        }
      ]
    },
    {
      "cell_type": "code",
      "metadata": {
        "id": "PYehHddIhMWs",
        "colab": {
          "base_uri": "https://localhost:8080/"
        },
        "outputId": "4710b5e1-0602-4d3d-9be9-d1e7830c04e9"
      },
      "source": [
        "from google.colab import drive\n",
        "drive.mount('/content/drive')"
      ],
      "execution_count": null,
      "outputs": [
        {
          "output_type": "stream",
          "text": [
            "Drive already mounted at /content/drive; to attempt to forcibly remount, call drive.mount(\"/content/drive\", force_remount=True).\n"
          ],
          "name": "stdout"
        }
      ]
    },
    {
      "cell_type": "code",
      "metadata": {
        "id": "Q2fixDn1pi7X",
        "colab": {
          "base_uri": "https://localhost:8080/"
        },
        "outputId": "d281b34c-7458-4824-ff51-1277b956e2d9"
      },
      "source": [
        "sample = 7\n",
        "print(images_train[sample])\n",
        "print(labels_train[sample])\n",
        "print(EMOTIONS[labels_train[sample]])"
      ],
      "execution_count": null,
      "outputs": [
        {
          "output_type": "stream",
          "text": [
            "[[0.42352941 0.42745098 0.41176471 ... 0.42352941 0.41960784 0.41960784]\n",
            " [0.42745098 0.42352941 0.42745098 ... 0.42745098 0.41568627 0.41568627]\n",
            " [0.43137255 0.41568627 0.43137255 ... 0.43137255 0.41568627 0.41568627]\n",
            " ...\n",
            " [0.36470588 0.35686275 0.34509804 ... 0.32941176 0.34117647 0.34509804]\n",
            " [0.36470588 0.35686275 0.35294118 ... 0.32941176 0.3372549  0.34509804]\n",
            " [0.36470588 0.36078431 0.35294118 ... 0.3254902  0.3254902  0.3372549 ]]\n",
            "5\n",
            "surprised\n"
          ],
          "name": "stdout"
        }
      ]
    },
    {
      "cell_type": "code",
      "metadata": {
        "id": "Me1716kltWPe",
        "colab": {
          "base_uri": "https://localhost:8080/",
          "height": 589
        },
        "outputId": "41955799-464c-4833-dce6-96bf54c0ce45"
      },
      "source": [
        "plt.figure(figsize=(10,10))\n",
        "for i in range(25):\n",
        "    plt.subplot(5,5,i+1)\n",
        "    plt.xticks([])\n",
        "    plt.yticks([])\n",
        "    plt.grid(False)\n",
        "    plt.imshow(images_train[i], cmap='gray')\n",
        "    plt.xlabel( EMOTIONS[ labels_train[i] ] )\n",
        "plt.show()"
      ],
      "execution_count": null,
      "outputs": [
        {
          "output_type": "display_data",
          "data": {
            "image/png": "[encoded data removed]",
            "text/plain": [
              "<Figure size 720x720 with 25 Axes>"
            ]
          },
          "metadata": {
            "tags": []
          }
        }
      ]
    },
    {
      "cell_type": "code",
      "metadata": {
        "id": "-808b9_fn8WZ",
        "colab": {
          "base_uri": "https://localhost:8080/"
        },
        "outputId": "8ebb75b8-3a2d-4320-b78a-7c55a1570224"
      },
      "source": [
        "labels_train[0:8]"
      ],
      "execution_count": null,
      "outputs": [
        {
          "output_type": "execute_result",
          "data": {
            "text/plain": [
              "array([0, 6, 3, 3, 0, 6, 3, 5])"
            ]
          },
          "metadata": {
            "tags": []
          },
          "execution_count": 41
        }
      ]
    },
    {
      "cell_type": "code",
      "metadata": {
        "id": "GpTdlf0QqWAU",
        "colab": {
          "base_uri": "https://localhost:8080/",
          "height": 312
        },
        "outputId": "d5a90d7b-4fad-40b9-b975-1158b38bd6da"
      },
      "source": [
        "#plot EMOTION labels\n",
        "plt.hist(labels_train)\n",
        "plt.xlabel(EMOTIONS)\n",
        "plt.title(\"Emotion Labels in Training Data\")"
      ],
      "execution_count": null,
      "outputs": [
        {
          "output_type": "execute_result",
          "data": {
            "text/plain": [
              "Text(0.5, 1.0, 'Emotion Labels in Training Data')"
            ]
          },
          "metadata": {
            "tags": []
          },
          "execution_count": 42
        },
        {
          "output_type": "display_data",
          "data": {
            "image/png": "[encoded data removed]",
            "text/plain": [
              "<Figure size 432x288 with 1 Axes>"
            ]
          },
          "metadata": {
            "tags": [],
            "needs_background": "light"
          }
        }
      ]
    },
    {
      "cell_type": "markdown",
      "metadata": {
        "id": "pd_QrZbXsCFM"
      },
      "source": [
        "We can see most emotion labels from training data are happy and neutral and disgusted is the least. We are dealing unbalance dataset. We may consider banlance the date before applying models"
      ]
    },
    {
      "cell_type": "code",
      "metadata": {
        "id": "Zvy0v4mRKLJt",
        "colab": {
          "base_uri": "https://localhost:8080/"
        },
        "outputId": "571454e1-b33b-483f-e5d0-d67e8f53423e"
      },
      "source": [
        "images_train.shape"
      ],
      "execution_count": null,
      "outputs": [
        {
          "output_type": "execute_result",
          "data": {
            "text/plain": [
              "(9328, 48, 48)"
            ]
          },
          "metadata": {
            "tags": []
          },
          "execution_count": 43
        }
      ]
    },
    {
      "cell_type": "code",
      "metadata": {
        "id": "6WHvznYAyvLz"
      },
      "source": [
        "#random.shuffle(images_train)"
      ],
      "execution_count": null,
      "outputs": []
    },
    {
      "cell_type": "code",
      "metadata": {
        "id": "dOoR8aMyxOo-"
      },
      "source": [
        "#convert training data from 3d to 2d data\n",
        "nsamples, nx, ny = images_train.shape\n",
        "d2_images_train = images_train.reshape((nsamples,nx*ny))\n",
        "nsamples1,nx1,ny1=images_test_public.shape\n",
        "X_test=images_test_public.reshape(nsamples1,nx1*ny1)\n",
        "\n",
        "X_train,X_validation,y_train,y_validation=train_test_split(d2_images_train,labels_train,test_size=0.1)"
      ],
      "execution_count": null,
      "outputs": []
    },
    {
      "cell_type": "markdown",
      "metadata": {
        "id": "OkY_ETWPG6nU"
      },
      "source": [
        "Data augementation for the minority class"
      ]
    },
    {
      "cell_type": "code",
      "metadata": {
        "id": "IsmvwtXbN59y",
        "colab": {
          "base_uri": "https://localhost:8080/"
        },
        "outputId": "76800955-50bf-4dde-a02e-2e7415ae49d2"
      },
      "source": [
        "from imblearn.over_sampling import SMOTE\n",
        "smote=SMOTE(\"minority\")\n",
        "X_train_sm,y_train_sm=smote.fit_sample(X_train,y_train)"
      ],
      "execution_count": null,
      "outputs": [
        {
          "output_type": "stream",
          "text": [
            "/usr/local/lib/python3.6/dist-packages/sklearn/externals/six.py:31: FutureWarning: The module is deprecated in version 0.21 and will be removed in version 0.23 since we've dropped support for Python 2.7. Please rely on the official version of six (https://pypi.org/project/six/).\n",
            "  \"(https://pypi.org/project/six/).\", FutureWarning)\n",
            "/usr/local/lib/python3.6/dist-packages/sklearn/utils/deprecation.py:144: FutureWarning: The sklearn.neighbors.base module is  deprecated in version 0.22 and will be removed in version 0.24. The corresponding classes / functions should instead be imported from sklearn.neighbors. Anything that cannot be imported from sklearn.neighbors is now part of the private API.\n",
            "  warnings.warn(message, FutureWarning)\n",
            "/usr/local/lib/python3.6/dist-packages/sklearn/utils/deprecation.py:87: FutureWarning: Function safe_indexing is deprecated; safe_indexing is deprecated in version 0.22 and will be removed in version 0.24.\n",
            "  warnings.warn(msg, category=FutureWarning)\n"
          ],
          "name": "stderr"
        }
      ]
    },
    {
      "cell_type": "code",
      "metadata": {
        "id": "5h-jvJWDP0R_",
        "colab": {
          "base_uri": "https://localhost:8080/"
        },
        "outputId": "4f31a7c8-c8f3-4ea7-a513-665c24ce8180"
      },
      "source": [
        "print(X_train.shape)\n",
        "print(X_train_sm.shape)"
      ],
      "execution_count": null,
      "outputs": [
        {
          "output_type": "stream",
          "text": [
            "(8395, 2304)\n",
            "(10650, 2304)\n"
          ],
          "name": "stdout"
        }
      ]
    },
    {
      "cell_type": "code",
      "metadata": {
        "id": "bksNt48lQGn8",
        "colab": {
          "base_uri": "https://localhost:8080/",
          "height": 312
        },
        "outputId": "a760eca4-31f2-4146-d9f7-69a065789102"
      },
      "source": [
        "plt.hist(y_train_sm)\n",
        "plt.xlabel(EMOTIONS)\n",
        "plt.title(\"SMOTE Emotion Labels in Training Data\")"
      ],
      "execution_count": null,
      "outputs": [
        {
          "output_type": "execute_result",
          "data": {
            "text/plain": [
              "Text(0.5, 1.0, 'SMOTE Emotion Labels in Training Data')"
            ]
          },
          "metadata": {
            "tags": []
          },
          "execution_count": 6
        },
        {
          "output_type": "display_data",
          "data": {
            "image/png": "[encoded data removed]",
            "text/plain": [
              "<Figure size 432x288 with 1 Axes>"
            ]
          },
          "metadata": {
            "tags": [],
            "needs_background": "light"
          }
        }
      ]
    },
    {
      "cell_type": "markdown",
      "metadata": {
        "id": "AizN9lqRHDca"
      },
      "source": [
        "The minority class-\"disgusted\" increased by 2255"
      ]
    },
    {
      "cell_type": "markdown",
      "metadata": {
        "id": "egbTauiDO6zI"
      },
      "source": [
        "### SVM with class_weight=\"balanced\""
      ]
    },
    {
      "cell_type": "code",
      "metadata": {
        "id": "p3WitmJPrWGQ"
      },
      "source": [
        "#train the data using SVM with balanced data\n",
        "from sklearn.svm import SVC\n",
        "model_svc=SVC(class_weight=\"balanced\").fit(X_train,y_train)"
      ],
      "execution_count": null,
      "outputs": []
    },
    {
      "cell_type": "code",
      "metadata": {
        "id": "qCmNxy8RGc5T"
      },
      "source": [
        "predicts=model_svc.predict(X_validation)"
      ],
      "execution_count": null,
      "outputs": []
    },
    {
      "cell_type": "code",
      "metadata": {
        "id": "W_U7cz_L2MZy",
        "colab": {
          "base_uri": "https://localhost:8080/",
          "height": 289
        },
        "outputId": "fd3914e8-2038-4099-881d-1a57d586dd90"
      },
      "source": [
        "from sklearn.metrics import classification_report\n",
        "print(\"\\n SVM Classification Report\\n\",classification_report( y_validation,predicts,target_names=EMOTIONS))"
      ],
      "execution_count": null,
      "outputs": [
        {
          "output_type": "stream",
          "text": [
            "\n",
            " SVM Classification Report\n",
            "               precision    recall  f1-score   support\n",
            "\n",
            "       angry       0.35      0.40      0.38       120\n",
            "   disgusted       0.53      0.56      0.54        18\n",
            "     fearful       0.41      0.36      0.38       119\n",
            "       happy       0.74      0.66      0.70       260\n",
            "         sad       0.24      0.29      0.26        92\n",
            "   surprised       0.57      0.62      0.60       119\n",
            "     neutral       0.47      0.46      0.47       205\n",
            "\n",
            "    accuracy                           0.50       933\n",
            "   macro avg       0.47      0.48      0.48       933\n",
            "weighted avg       0.52      0.50      0.51       933\n",
            "\n"
          ],
          "name": "stdout"
        }
      ]
    },
    {
      "cell_type": "markdown",
      "metadata": {
        "id": "5be4vEiVnW9c"
      },
      "source": [
        "Low accuracy score and super slow train rate. Consider reducing data dimension to reduce training time and improve accuracy"
      ]
    },
    {
      "cell_type": "markdown",
      "metadata": {
        "id": "Z0uzf1BtXEA3"
      },
      "source": [
        "### Use PCA Reducing Data Dimensionality"
      ]
    },
    {
      "cell_type": "code",
      "metadata": {
        "id": "aFgTDTRvPDni",
        "colab": {
          "base_uri": "https://localhost:8080/",
          "height": 51
        },
        "outputId": "4b94c387-cd9a-46df-972d-06f52e107bad"
      },
      "source": [
        "\n",
        "print(\"Dimensions of the images:\", X_train.shape[1])\n",
        "reduced_dimensions=int(np.round(np.sqrt(X_train.shape[1])))\n",
        "print(\"Reduced dimensions:\", reduced_dimensions)"
      ],
      "execution_count": null,
      "outputs": [
        {
          "output_type": "stream",
          "text": [
            "Dimensions of the images: 2304\n",
            "Reduced dimensions: 48\n"
          ],
          "name": "stdout"
        }
      ]
    },
    {
      "cell_type": "markdown",
      "metadata": {
        "id": "1pN3ehsaPjpa"
      },
      "source": [
        "The dimensiions were reduced to 48 from 2304"
      ]
    },
    {
      "cell_type": "code",
      "metadata": {
        "id": "KaBKWDYMW9lW"
      },
      "source": [
        "from sklearn.decomposition import PCA\n",
        "pca=PCA(n_components=reduced_dimensions).fit(d2_images_train)\n",
        "X_train_pca=pca.transform(X_train)\n",
        "X_validation_pca=pca.transform(X_validation)"
      ],
      "execution_count": null,
      "outputs": []
    },
    {
      "cell_type": "code",
      "metadata": {
        "id": "CSIdAeM-aWOD",
        "colab": {
          "base_uri": "https://localhost:8080/",
          "height": 51
        },
        "outputId": "48d14010-e46b-40a7-c59c-3a3d560eab45"
      },
      "source": [
        "print(X_train_pca.shape)\n",
        "print(X_validation_pca.shape)"
      ],
      "execution_count": null,
      "outputs": [
        {
          "output_type": "stream",
          "text": [
            "(8395, 48)\n",
            "(933, 48)\n"
          ],
          "name": "stdout"
        }
      ]
    },
    {
      "cell_type": "code",
      "metadata": {
        "id": "z3FCluUZacLw"
      },
      "source": [
        "model_svc_pca=SVC(class_weight=\"balanced\").fit(X_train_pca,y_train)"
      ],
      "execution_count": null,
      "outputs": []
    },
    {
      "cell_type": "code",
      "metadata": {
        "id": "wpF9dHEUauM2",
        "colab": {
          "base_uri": "https://localhost:8080/",
          "height": 289
        },
        "outputId": "a7cdcea2-829a-4389-a026-9cfa47437b16"
      },
      "source": [
        "predicts_pca=model_svc_pca.predict(X_validation_pca)\n",
        "print(\"\\n Classification Report for SVC after pca \\n\", classification_report(y_validation,predicts_pca,target_names=EMOTIONS))"
      ],
      "execution_count": null,
      "outputs": [
        {
          "output_type": "stream",
          "text": [
            "\n",
            " Classification Report for SVC after pca \n",
            "               precision    recall  f1-score   support\n",
            "\n",
            "       angry       0.26      0.31      0.28       120\n",
            "   disgusted       0.23      0.61      0.33        18\n",
            "     fearful       0.31      0.27      0.29       119\n",
            "       happy       0.71      0.59      0.64       260\n",
            "         sad       0.22      0.26      0.24        92\n",
            "   surprised       0.60      0.59      0.59       119\n",
            "     neutral       0.46      0.44      0.45       205\n",
            "\n",
            "    accuracy                           0.45       933\n",
            "   macro avg       0.40      0.44      0.40       933\n",
            "weighted avg       0.47      0.45      0.46       933\n",
            "\n"
          ],
          "name": "stdout"
        }
      ]
    },
    {
      "cell_type": "markdown",
      "metadata": {
        "id": "aAe61Y0WQE5t"
      },
      "source": [
        "#### Tuning the parameters(\"C\" and \"gamma\") in SVC "
      ]
    },
    {
      "cell_type": "code",
      "metadata": {
        "id": "GIvybaIGPZpu",
        "colab": {
          "background_save": true
        }
      },
      "source": [
        "\n",
        "param_grid={\"C\":[0.1,0.5,1,2,3],\n",
        "            #\"kernel\":('linear', 'poly', 'rbf', 'sigmoid'),\n",
        "            \"gamma\":[0.003,0.004,0.005,0.006,0.007]}\n",
        "clf=GridSearchCV(SVC(),param_grid=param_grid).fit(X_train_pca,y_train)\n"
      ],
      "execution_count": null,
      "outputs": []
    },
    {
      "cell_type": "code",
      "metadata": {
        "id": "ZVF9Btep_3ke",
        "colab": {
          "background_save": true
        },
        "outputId": "344bdb7c-1a64-49be-fb9c-435e7a12dae8"
      },
      "source": [
        "print(clf.best_estimator_)"
      ],
      "execution_count": null,
      "outputs": [
        {
          "output_type": "stream",
          "text": [
            "SVC(C=3, break_ties=False, cache_size=200, class_weight=None, coef0=0.0,\n",
            "    decision_function_shape='ovr', degree=3, gamma=0.007, kernel='rbf',\n",
            "    max_iter=-1, probability=False, random_state=None, shrinking=True,\n",
            "    tol=0.001, verbose=False)\n"
          ],
          "name": "stdout"
        }
      ]
    },
    {
      "cell_type": "code",
      "metadata": {
        "id": "uqf2Z6WFaqT0",
        "colab": {
          "background_save": true
        }
      },
      "source": [
        "svc_new=SVC(C=3,gamma=0.007,class_weight=\"balanced\").fit(X_train_pca,y_train)"
      ],
      "execution_count": null,
      "outputs": []
    },
    {
      "cell_type": "code",
      "metadata": {
        "id": "1uad5y4FVllE",
        "colab": {
          "background_save": true
        },
        "outputId": "f925f715-d1a4-42bd-cd31-bf811fa7a597"
      },
      "source": [
        "print(\"\\n Classification Report after Tuning \\n\",classification_report(y_validation,clf.predict(X_validation_pca)))"
      ],
      "execution_count": null,
      "outputs": [
        {
          "output_type": "stream",
          "text": [
            "\n",
            " Classification Report after Tuning \n",
            "               precision    recall  f1-score   support\n",
            "\n",
            "           0       0.34      0.32      0.33       120\n",
            "           1       1.00      0.17      0.29        18\n",
            "           2       0.43      0.19      0.27       119\n",
            "           3       0.57      0.76      0.65       260\n",
            "           4       0.27      0.13      0.18        92\n",
            "           5       0.61      0.51      0.56       119\n",
            "           6       0.41      0.55      0.47       205\n",
            "\n",
            "    accuracy                           0.48       933\n",
            "   macro avg       0.52      0.37      0.39       933\n",
            "weighted avg       0.47      0.48      0.45       933\n",
            "\n"
          ],
          "name": "stdout"
        }
      ]
    },
    {
      "cell_type": "markdown",
      "metadata": {
        "id": "emQb2VhtQfUU"
      },
      "source": [
        "Accuracy was improved to 50%. Still not satisfing "
      ]
    },
    {
      "cell_type": "markdown",
      "metadata": {
        "id": "X1VxcQoadbjX"
      },
      "source": [
        "### Random Forest"
      ]
    },
    {
      "cell_type": "code",
      "metadata": {
        "id": "QFnJP-S3bHA0"
      },
      "source": [
        " from sklearn.ensemble import RandomForestClassifier\n",
        " rfc=RandomForestClassifier(n_estimators=100).fit(X_train,y_train)"
      ],
      "execution_count": null,
      "outputs": []
    },
    {
      "cell_type": "code",
      "metadata": {
        "id": "GCgwNhdJcANT",
        "colab": {
          "background_save": true
        },
        "outputId": "5fd7706f-65ed-45ab-bda9-9fef8b1f2b0e"
      },
      "source": [
        "print(\"\\n Random Forest Classification_report\\n\", classification_report(y_validation,rfc.predict(X_validation),target_names=EMOTIONS))"
      ],
      "execution_count": null,
      "outputs": [
        {
          "output_type": "stream",
          "text": [
            "\n",
            " Random Forest Classification_report\n",
            "               precision    recall  f1-score   support\n",
            "\n",
            "       angry       0.45      0.28      0.35       120\n",
            "   disgusted       1.00      0.44      0.62        18\n",
            "     fearful       0.58      0.25      0.35       119\n",
            "       happy       0.54      0.87      0.66       260\n",
            "         sad       0.38      0.13      0.19        92\n",
            "   surprised       0.71      0.59      0.64       119\n",
            "     neutral       0.45      0.55      0.50       205\n",
            "\n",
            "    accuracy                           0.53       933\n",
            "   macro avg       0.59      0.44      0.47       933\n",
            "weighted avg       0.53      0.53      0.50       933\n",
            "\n"
          ],
          "name": "stdout"
        }
      ]
    },
    {
      "cell_type": "code",
      "metadata": {
        "id": "4rpw-_B-XbRt",
        "colab": {
          "base_uri": "https://localhost:8080/"
        },
        "outputId": "625b617c-b6e2-4893-b79a-ae759cb9613d"
      },
      "source": [
        "print(\"\\n Random Forest Classification_report\\n\", classification_report(y_validation,rfc.predict(X_validation),target_names=EMOTIONS))"
      ],
      "execution_count": null,
      "outputs": [
        {
          "output_type": "stream",
          "text": [
            "\n",
            " Random Forest Classification_report\n",
            "               precision    recall  f1-score   support\n",
            "\n",
            "       angry       0.41      0.30      0.34       118\n",
            "   disgusted       1.00      0.29      0.44        28\n",
            "     fearful       0.62      0.26      0.37       115\n",
            "       happy       0.57      0.86      0.69       272\n",
            "         sad       0.52      0.12      0.20       106\n",
            "   surprised       0.67      0.67      0.67       111\n",
            "     neutral       0.40      0.54      0.46       183\n",
            "\n",
            "    accuracy                           0.53       933\n",
            "   macro avg       0.60      0.43      0.45       933\n",
            "weighted avg       0.54      0.53      0.49       933\n",
            "\n"
          ],
          "name": "stdout"
        }
      ]
    },
    {
      "cell_type": "markdown",
      "metadata": {
        "id": "lcou2QHLRR_c"
      },
      "source": [
        "RandomForest achived the 53% accuracy"
      ]
    },
    {
      "cell_type": "markdown",
      "metadata": {
        "id": "1sfRuScyRXe8"
      },
      "source": [
        "#### Tuning the parameters(\"n_estimators\" and \"criterion\") of RandomForest "
      ]
    },
    {
      "cell_type": "code",
      "metadata": {
        "id": "RjpnDqCigmRJ",
        "colab": {
          "base_uri": "https://localhost:8080/"
        },
        "outputId": "93b6d8af-938e-4bf2-ac15-b0d3d764e0a2"
      },
      "source": [
        "param_grid_rfc={\"n_estimators\":[100,200],\n",
        "            #\"kernel\":('linear', 'poly', 'rbf', 'sigmoid'),\n",
        "            \"criterion\":(\"gini\",\"entropy\")}\n",
        "\n",
        "clf_rfc=GridSearchCV(RandomForestClassifier(),param_grid=param_grid_rfc).fit(X_train,y_train)\n",
        "print(clf_rfc.best_estimator_)"
      ],
      "execution_count": null,
      "outputs": [
        {
          "output_type": "stream",
          "text": [
            "RandomForestClassifier(bootstrap=True, ccp_alpha=0.0, class_weight=None,\n",
            "                       criterion='gini', max_depth=None, max_features='auto',\n",
            "                       max_leaf_nodes=None, max_samples=None,\n",
            "                       min_impurity_decrease=0.0, min_impurity_split=None,\n",
            "                       min_samples_leaf=1, min_samples_split=2,\n",
            "                       min_weight_fraction_leaf=0.0, n_estimators=200,\n",
            "                       n_jobs=None, oob_score=False, random_state=None,\n",
            "                       verbose=0, warm_start=False)\n"
          ],
          "name": "stdout"
        }
      ]
    },
    {
      "cell_type": "code",
      "metadata": {
        "id": "GIL1lfv7sF8q"
      },
      "source": [
        "rfc_1=RandomForestClassifier(n_estimators=200,criterion=\"gini\").fit(X_train,y_train)"
      ],
      "execution_count": null,
      "outputs": []
    },
    {
      "cell_type": "code",
      "metadata": {
        "id": "Oyp1Y9AOsh6s",
        "colab": {
          "base_uri": "https://localhost:8080/"
        },
        "outputId": "df6549a8-2809-4e8f-e2ca-a8dbf6fea5bb"
      },
      "source": [
        "print(classification_report(y_validation,clf_rfc.predict(X_validation)))"
      ],
      "execution_count": null,
      "outputs": [
        {
          "output_type": "stream",
          "text": [
            "              precision    recall  f1-score   support\n",
            "\n",
            "           0       0.59      0.34      0.43       132\n",
            "           1       1.00      0.40      0.57        25\n",
            "           2       0.56      0.21      0.30       111\n",
            "           3       0.55      0.85      0.67       268\n",
            "           4       0.46      0.11      0.17       103\n",
            "           5       0.76      0.64      0.70       100\n",
            "           6       0.46      0.66      0.54       194\n",
            "\n",
            "    accuracy                           0.55       933\n",
            "   macro avg       0.63      0.46      0.48       933\n",
            "weighted avg       0.56      0.55      0.51       933\n",
            "\n"
          ],
          "name": "stdout"
        }
      ]
    },
    {
      "cell_type": "code",
      "metadata": {
        "id": "IbYtl-90Mz_h",
        "colab": {
          "background_save": true
        },
        "outputId": "ee1efa32-15ba-42c3-f0ad-e4352d428406"
      },
      "source": [
        "print(rfc.score(X_train,y_train))\n"
      ],
      "execution_count": null,
      "outputs": [
        {
          "output_type": "stream",
          "text": [
            "0.9986896962477665\n"
          ],
          "name": "stdout"
        }
      ]
    },
    {
      "cell_type": "markdown",
      "metadata": {
        "id": "MuBoboT8RwGr"
      },
      "source": [
        "The accuracy was back to 55% but comparing with the training rate of 99.89%. The model after tuning is apparently overfitting."
      ]
    },
    {
      "cell_type": "markdown",
      "metadata": {
        "id": "s91E-UQQIjU0"
      },
      "source": [
        "### First Submission using Random Forest Predictions"
      ]
    },
    {
      "cell_type": "code",
      "metadata": {
        "id": "m1LBcYH5beUb",
        "colab": {
          "background_save": true
        },
        "outputId": "b6041219-28a1-4e53-d04d-bcc756146fd3"
      },
      "source": [
        "import pandas as pd\n",
        "predictions=pd.DataFrame(rfc.predict(X_test))\n",
        "#make the index a colunm (level means how many index left, the others will be \n",
        "#moved to the columns)\n",
        "predictions_s=predictions.reset_index(level=0)\n",
        "predictions_s.columns=[\"ID\",\"Predictions\"]\n",
        "print(predictions_s)"
      ],
      "execution_count": null,
      "outputs": [
        {
          "output_type": "stream",
          "text": [
            "        ID  Predictions\n",
            "0        0            3\n",
            "1        1            3\n",
            "2        2            3\n",
            "3        3            5\n",
            "4        4            6\n",
            "...    ...          ...\n",
            "1131  1131            5\n",
            "1132  1132            2\n",
            "1133  1133            6\n",
            "1134  1134            3\n",
            "1135  1135            6\n",
            "\n",
            "[1136 rows x 2 columns]\n"
          ],
          "name": "stdout"
        }
      ]
    },
    {
      "cell_type": "code",
      "metadata": {
        "id": "VSSk2OXQjJdl",
        "colab": {
          "background_save": true
        },
        "outputId": "9b2ff3be-eefd-4533-96c9-b885d1a3e4a5"
      },
      "source": [
        "submission = predictions_s\n",
        "print(submission.head())\n",
        "submission.to_csv('46039791-conv1.csv', index=False)\n"
      ],
      "execution_count": null,
      "outputs": [
        {
          "output_type": "stream",
          "text": [
            "   ID  Predictions\n",
            "0   0            3\n",
            "1   1            3\n",
            "2   2            3\n",
            "3   3            5\n",
            "4   4            6\n"
          ],
          "name": "stdout"
        }
      ]
    },
    {
      "cell_type": "markdown",
      "metadata": {
        "id": "7uZkQiUNXY2w"
      },
      "source": [
        "### SGD"
      ]
    },
    {
      "cell_type": "code",
      "metadata": {
        "id": "HluMryQAU5Es",
        "colab": {
          "background_save": true
        },
        "outputId": "b1e65aad-77ca-433d-c7e1-1408eb33fc5c"
      },
      "source": [
        "from sklearn.linear_model import SGDClassifier\n",
        "from sklearn.pipeline import make_pipeline\n",
        "from sklearn.preprocessing import StandardScaler\n",
        "#sgd=make_pipeline(StandardScaler().fit(X_train),SGDClassifier()).fit(X_train)\n",
        "#sgd=SGDClassifier().fit(X_train,y_train)\n",
        "scaler = StandardScaler()\n",
        "scaler.fit(X_train)  # Don't cheat - fit only on training data\n",
        "X_train1 = scaler.transform(X_train)\n",
        "X_validation1=scaler.transform(X_validation)\n",
        "sgd=SGDClassifier().fit(X_train1,y_train)"
      ],
      "execution_count": null,
      "outputs": [
        {
          "output_type": "stream",
          "text": [
            "/usr/local/lib/python3.6/dist-packages/sklearn/linear_model/_stochastic_gradient.py:557: ConvergenceWarning: Maximum number of iteration reached before convergence. Consider increasing max_iter to improve the fit.\n",
            "  ConvergenceWarning)\n"
          ],
          "name": "stderr"
        }
      ]
    },
    {
      "cell_type": "code",
      "metadata": {
        "id": "k9rJkXIMYuq1",
        "colab": {
          "background_save": true
        },
        "outputId": "bfca4167-2cd6-475e-91c2-22fe05b63d24"
      },
      "source": [
        "from sklearn.metrics import classification_report\n",
        "print(classification_report(y_validation,sgd.predict(X_validation1)))"
      ],
      "execution_count": null,
      "outputs": [
        {
          "output_type": "stream",
          "text": [
            "              precision    recall  f1-score   support\n",
            "\n",
            "           0       0.25      0.28      0.26       120\n",
            "           1       0.14      0.06      0.08        18\n",
            "           2       0.22      0.18      0.20       119\n",
            "           3       0.57      0.63      0.60       260\n",
            "           4       0.15      0.20      0.17        92\n",
            "           5       0.60      0.46      0.52       119\n",
            "           6       0.38      0.37      0.37       205\n",
            "\n",
            "    accuracy                           0.39       933\n",
            "   macro avg       0.33      0.31      0.31       933\n",
            "weighted avg       0.40      0.39      0.39       933\n",
            "\n"
          ],
          "name": "stdout"
        }
      ]
    },
    {
      "cell_type": "code",
      "metadata": {
        "id": "M3RfIqIXMlz3",
        "colab": {
          "background_save": true
        },
        "outputId": "90ce98c2-c573-4f89-b11a-3902deaaed26"
      },
      "source": [
        "sgd.score(X_train1,y_train)"
      ],
      "execution_count": null,
      "outputs": [
        {
          "output_type": "execute_result",
          "data": {
            "text/plain": [
              "0.651340083382966"
            ]
          },
          "metadata": {
            "tags": []
          },
          "execution_count": 0
        }
      ]
    },
    {
      "cell_type": "markdown",
      "metadata": {
        "id": "vhz07J2wYr1d"
      },
      "source": [
        "### Perceptron"
      ]
    },
    {
      "cell_type": "code",
      "metadata": {
        "id": "mLHcBIryXzr6",
        "colab": {
          "background_save": true
        }
      },
      "source": [
        "sgd_percp=SGDClassifier(loss=\"perceptron\", eta0=1, learning_rate=\"constant\", penalty=None).fit(X_train,y_train)"
      ],
      "execution_count": null,
      "outputs": []
    },
    {
      "cell_type": "code",
      "metadata": {
        "id": "7rcIsStoYPYX",
        "colab": {
          "background_save": true
        },
        "outputId": "85eddd46-bc4f-41bc-f18a-403ea544a7f1"
      },
      "source": [
        "print(classification_report(y_validation,sgd_percp.predict(X_validation)))"
      ],
      "execution_count": null,
      "outputs": [
        {
          "output_type": "stream",
          "text": [
            "              precision    recall  f1-score   support\n",
            "\n",
            "           0       0.32      0.21      0.25       120\n",
            "           1       0.08      0.56      0.14        18\n",
            "           2       0.27      0.36      0.31       119\n",
            "           3       0.74      0.55      0.63       260\n",
            "           4       0.16      0.07      0.09        92\n",
            "           5       0.66      0.21      0.32       119\n",
            "           6       0.41      0.60      0.48       205\n",
            "\n",
            "    accuracy                           0.40       933\n",
            "   macro avg       0.38      0.36      0.32       933\n",
            "weighted avg       0.47      0.40      0.41       933\n",
            "\n"
          ],
          "name": "stdout"
        }
      ]
    },
    {
      "cell_type": "markdown",
      "metadata": {
        "id": "ECl5QZb2XhPO"
      },
      "source": [
        "### AdaBoost"
      ]
    },
    {
      "cell_type": "code",
      "metadata": {
        "id": "94oO3K42ZG-i",
        "colab": {
          "background_save": true
        }
      },
      "source": [
        "from sklearn.ensemble import AdaBoostClassifier\n",
        "ada=AdaBoostClassifier(RandomForestClassifier(n_estimators=100),n_estimators=10).fit(X_train,y_train)"
      ],
      "execution_count": null,
      "outputs": []
    },
    {
      "cell_type": "code",
      "metadata": {
        "id": "Bq9HHA5CEZ3c",
        "colab": {
          "background_save": true
        },
        "outputId": "99cbe072-f0db-4b9a-d717-2bcb6a183798"
      },
      "source": [
        "print(classification_report(y_validation,ada.predict(X_validation)))\n",
        "ada.score(X_train,y_train)"
      ],
      "execution_count": null,
      "outputs": [
        {
          "output_type": "stream",
          "text": [
            "              precision    recall  f1-score   support\n",
            "\n",
            "           0       0.58      0.28      0.38       120\n",
            "           1       1.00      0.39      0.56        18\n",
            "           2       0.78      0.21      0.33       119\n",
            "           3       0.43      0.92      0.58       260\n",
            "           4       0.57      0.09      0.15        92\n",
            "           5       0.85      0.48      0.61       119\n",
            "           6       0.42      0.40      0.41       205\n",
            "\n",
            "    accuracy                           0.48       933\n",
            "   macro avg       0.66      0.39      0.43       933\n",
            "weighted avg       0.57      0.48      0.45       933\n",
            "\n"
          ],
          "name": "stdout"
        },
        {
          "output_type": "execute_result",
          "data": {
            "text/plain": [
              "0.9986896962477665"
            ]
          },
          "metadata": {
            "tags": []
          },
          "execution_count": 0
        }
      ]
    },
    {
      "cell_type": "markdown",
      "metadata": {
        "id": "XSWhDU8OB13z"
      },
      "source": [
        "### MLPClassifier"
      ]
    },
    {
      "cell_type": "code",
      "metadata": {
        "id": "psVHBJvjR4uT",
        "colab": {
          "background_save": true
        },
        "outputId": "9bf534b9-1e5c-4619-bc81-cd85f76a0edb"
      },
      "source": [
        "from sklearn.neural_network import MLPClassifier\n",
        "mlp = MLPClassifier(hidden_layer_sizes=(50,), max_iter=10, alpha=1e-4,solver='sgd', verbose=10, random_state=1,learning_rate_init=.1).fit(X_train,y_train)\n"
      ],
      "execution_count": null,
      "outputs": [
        {
          "output_type": "stream",
          "text": [
            "Iteration 1, loss = 2.23515812\n",
            "Iteration 2, loss = 1.79032327\n",
            "Iteration 3, loss = 1.78672007\n",
            "Iteration 4, loss = 1.78695817\n",
            "Iteration 5, loss = 1.78649692\n",
            "Iteration 6, loss = 1.78645026\n",
            "Iteration 7, loss = 1.78673898\n",
            "Iteration 8, loss = 1.78655805\n",
            "Iteration 9, loss = 1.78664635\n",
            "Iteration 10, loss = 1.78682523\n"
          ],
          "name": "stdout"
        },
        {
          "output_type": "stream",
          "text": [
            "/usr/local/lib/python3.6/dist-packages/sklearn/neural_network/_multilayer_perceptron.py:571: ConvergenceWarning: Stochastic Optimizer: Maximum iterations (10) reached and the optimization hasn't converged yet.\n",
            "  % self.max_iter, ConvergenceWarning)\n"
          ],
          "name": "stderr"
        }
      ]
    },
    {
      "cell_type": "code",
      "metadata": {
        "id": "CUlx5BRdxJ_q",
        "colab": {
          "background_save": true
        },
        "outputId": "b4e03ec1-0259-498e-ad68-fa1c96bd8110"
      },
      "source": [
        "print(classification_report(y_validation,mlp.predict(X_validation)))"
      ],
      "execution_count": null,
      "outputs": [
        {
          "output_type": "stream",
          "text": [
            "              precision    recall  f1-score   support\n",
            "\n",
            "           0       0.00      0.00      0.00       120\n",
            "           1       0.00      0.00      0.00        18\n",
            "           2       0.00      0.00      0.00       119\n",
            "           3       0.28      1.00      0.44       260\n",
            "           4       0.00      0.00      0.00        92\n",
            "           5       0.00      0.00      0.00       119\n",
            "           6       0.00      0.00      0.00       205\n",
            "\n",
            "    accuracy                           0.28       933\n",
            "   macro avg       0.04      0.14      0.06       933\n",
            "weighted avg       0.08      0.28      0.12       933\n",
            "\n"
          ],
          "name": "stdout"
        },
        {
          "output_type": "stream",
          "text": [
            "/usr/local/lib/python3.6/dist-packages/sklearn/metrics/_classification.py:1272: UndefinedMetricWarning: Precision and F-score are ill-defined and being set to 0.0 in labels with no predicted samples. Use `zero_division` parameter to control this behavior.\n",
            "  _warn_prf(average, modifier, msg_start, len(result))\n"
          ],
          "name": "stderr"
        }
      ]
    },
    {
      "cell_type": "markdown",
      "metadata": {
        "id": "jBo0Il9I-Gvj"
      },
      "source": [
        "### Plotting of conventional models vs accuracy"
      ]
    },
    {
      "cell_type": "code",
      "metadata": {
        "id": "2jtPMUwhBoai",
        "colab": {
          "base_uri": "https://localhost:8080/",
          "height": 483
        },
        "outputId": "226da239-a306-4bcf-8447-ac729eb5ecb8"
      },
      "source": [
        "import pandas as pd\n",
        "methods=[\"SVM\",\"RF\",\"SGD\",\"Perceptron\",\"AdaBoost\",\"MLPClassifier\"]\n",
        "accuracy=[0.5,0.55,0.39,0.40,0.48,0.28]\n",
        "y_pos = np.arange(len(methods))\n",
        "\n",
        "MA=pd.DataFrame(list(zip(methods,accuracy)),columns=[\"methods\",\"accuracy\"])\n",
        "MA.plot.barh()\n",
        "plt.xlabel(\"methods\")\n",
        "plt.xlim(0.25,0.60)\n",
        "plt.yticks(y_pos, methods)\n",
        "\n",
        "\n"
      ],
      "execution_count": null,
      "outputs": [
        {
          "output_type": "execute_result",
          "data": {
            "text/plain": [
              "([<matplotlib.axis.YTick at 0x7fef0de43128>,\n",
              "  <matplotlib.axis.YTick at 0x7fef0de92438>,\n",
              "  <matplotlib.axis.YTick at 0x7fef0ddeffd0>,\n",
              "  <matplotlib.axis.YTick at 0x7fef0ddfe2e8>,\n",
              "  <matplotlib.axis.YTick at 0x7fef0ddfe8d0>,\n",
              "  <matplotlib.axis.YTick at 0x7fef0ddfed68>],\n",
              " [Text(0, 0, 'SVM'),\n",
              "  Text(0, 0, 'RF'),\n",
              "  Text(0, 0, 'SGD'),\n",
              "  Text(0, 0, 'Perceptron'),\n",
              "  Text(0, 0, 'AdaBoost'),\n",
              "  Text(0, 0, 'MLPClassifier')])"
            ]
          },
          "metadata": {
            "tags": []
          },
          "execution_count": 79
        },
        {
          "output_type": "display_data",
          "data": {
            "image/png": "[encoded data removed]",
            "text/plain": [
              "<Figure size 432x288 with 1 Axes>"
            ]
          },
          "metadata": {
            "tags": [],
            "needs_background": "light"
          }
        }
      ]
    },
    {
      "cell_type": "markdown",
      "metadata": {
        "id": "_X_D2WL9gsvc"
      },
      "source": [
        "# Deep Learning Model\n",
        "The final model that produced the best-performing predictions for the Kaggle submission(public-test accuracy 61.09%,private-test accuracy 62.185%) is CNN with 4 convolutional layers and 2 dense layers. \n"
      ]
    },
    {
      "cell_type": "markdown",
      "metadata": {
        "id": "bOiwwRGh1Ajb"
      },
      "source": [
        "After preprocessing the dataset and weighting the labels, a 3-layer fully connected neural network was built. The model ended up with a very low and underfitting accuracy(2-3%) which was expected.\n",
        "\n",
        "A very simple CNN with one convolutional layer and two dense layers was built for testing the reaction of dataset(learning rate=0.001). The input was the weighted dataset. The accuracy was increased to 53%-54%. But the model was quickly overfitted from less than 10 epochs. \n",
        "\n",
        "To avoid overfitting, normalisation, dropouts and data augmentation was applied to CNN. Training and validation accuracy started to get close but very low(13.5%) which indicated that the dataset needed more complex models.\n",
        "\n",
        "After adding 4 more convolutional layers and increased batch_sizes, the validation performance improved to 60-63.24% along with training accuracy 82%(this is the best performing model). \n",
        "\n",
        "Original dataset(imbalanced) was also compared with weighted-class dataset on the best performing model. The confusion was the imbalanced dataset had better perfomance which is 63.24% than balanced dataset(61.63%). After consultation with the lecturer, it might be misleading of accuracy metric with imbalanced dataset. The right metric would be F1-score or even better area under the receiver operating characteristic curve (ROC AUC) which is a plot of the false positive rate to the true positive rate for all possible prediction thresholds.  \n",
        "\n",
        "Other complex architectures(e.g.more layers) were also experimented and VGG16 was built from scratch. Unfortunatly, the models were overfitted very quickly and the validation accuracy remained in 58-59%.\n"
      ]
    },
    {
      "cell_type": "markdown",
      "metadata": {
        "id": "5TjuyH0-E8vp"
      },
      "source": [
        "### Buildup CNN"
      ]
    },
    {
      "cell_type": "code",
      "metadata": {
        "id": "i4TEQCnxFR6g"
      },
      "source": [
        "import keras\n",
        "import tensorflow as tf\n",
        "\n",
        "from keras.preprocessing import image\n",
        "from keras.applications.imagenet_utils import preprocess_input\n",
        "from keras.models import Sequential\n",
        "from keras.layers import Dense, Dropout, Flatten, Activation\n",
        "from keras.layers import Conv2D, MaxPooling2D\n",
        "from keras.models import Model\n",
        "from keras.layers.normalization import BatchNormalization\n",
        "from keras.optimizers import Adam\n",
        "from keras.optimizers import SGD\n",
        "from keras.callbacks import ReduceLROnPlateau"
      ],
      "execution_count": null,
      "outputs": []
    },
    {
      "cell_type": "markdown",
      "metadata": {
        "id": "nobECPvblg0A"
      },
      "source": [
        "### Preprocessing the dataset to fit in the CNN\n"
      ]
    },
    {
      "cell_type": "code",
      "metadata": {
        "id": "3uCs-5UlLVeo",
        "colab": {
          "base_uri": "https://localhost:8080/"
        },
        "outputId": "89aabddf-2e72-412e-84bd-3384bc1f3d85"
      },
      "source": [
        "\n",
        "XN_train=X_train.reshape(8395,48,48,1)\n",
        "XN_validation=X_validation.reshape(933,48,48,1)\n",
        "XN_test=X_test.reshape(1136,48,48,1)\n",
        "X_test_private=images_test_private.reshape(1153,48,48,1)\n",
        "yn_train=keras.utils.to_categorical(y_train,7)\n",
        "yn_validation=keras.utils.to_categorical(y_validation,7)\n",
        "\n",
        "num_classes=len(EMOTIONS)\n",
        "\n",
        "print(XN_test.shape)\n",
        "print(X_test_private.shape)\n",
        "print(XN_train.shape)\n",
        "print(XN_validation.shape)\n",
        "print(yn_train.shape)\n",
        "print(yn_validation.shape)\n",
        "print(XN_train[0])\n",
        "print(yn_train)\n",
        "\n"
      ],
      "execution_count": null,
      "outputs": [
        {
          "output_type": "stream",
          "text": [
            "(1136, 48, 48, 1)\n",
            "(1153, 48, 48, 1)\n",
            "(8395, 48, 48, 1)\n",
            "(933, 48, 48, 1)\n",
            "(8395, 7)\n",
            "(933, 7)\n",
            "[[[0.        ]\n",
            "  [0.        ]\n",
            "  [0.00392157]\n",
            "  ...\n",
            "  [0.        ]\n",
            "  [0.        ]\n",
            "  [0.        ]]\n",
            "\n",
            " [[0.        ]\n",
            "  [0.        ]\n",
            "  [0.00392157]\n",
            "  ...\n",
            "  [0.        ]\n",
            "  [0.        ]\n",
            "  [0.        ]]\n",
            "\n",
            " [[0.        ]\n",
            "  [0.00392157]\n",
            "  [0.        ]\n",
            "  ...\n",
            "  [0.00784314]\n",
            "  [0.        ]\n",
            "  [0.        ]]\n",
            "\n",
            " ...\n",
            "\n",
            " [[0.        ]\n",
            "  [0.00784314]\n",
            "  [0.        ]\n",
            "  ...\n",
            "  [0.        ]\n",
            "  [0.        ]\n",
            "  [0.        ]]\n",
            "\n",
            " [[0.        ]\n",
            "  [0.01176471]\n",
            "  [0.        ]\n",
            "  ...\n",
            "  [0.        ]\n",
            "  [0.        ]\n",
            "  [0.        ]]\n",
            "\n",
            " [[0.        ]\n",
            "  [0.05490196]\n",
            "  [0.        ]\n",
            "  ...\n",
            "  [0.        ]\n",
            "  [0.        ]\n",
            "  [0.        ]]]\n",
            "[[0. 0. 0. ... 0. 0. 1.]\n",
            " [1. 0. 0. ... 0. 0. 0.]\n",
            " [0. 1. 0. ... 0. 0. 0.]\n",
            " ...\n",
            " [0. 0. 0. ... 0. 0. 0.]\n",
            " [0. 1. 0. ... 0. 0. 0.]\n",
            " [0. 0. 0. ... 1. 0. 0.]]\n"
          ],
          "name": "stdout"
        }
      ]
    },
    {
      "cell_type": "markdown",
      "metadata": {
        "id": "BfFDRZ4Vvgv0"
      },
      "source": [
        "##### Balancing dataset by weighting class weights"
      ]
    },
    {
      "cell_type": "code",
      "metadata": {
        "id": "-V5Bj0nm-aRQ"
      },
      "source": [
        "from sklearn.utils import class_weight\n",
        "weight=class_weight.compute_class_weight(\"balanced\",np.unique(labels_train),labels_train)\n",
        "weight = {i : weight[i] for i in range(7)}"
      ],
      "execution_count": null,
      "outputs": []
    },
    {
      "cell_type": "code",
      "metadata": {
        "id": "k3w8IMxZA4KP",
        "colab": {
          "base_uri": "https://localhost:8080/"
        },
        "outputId": "221ad003-0190-4a70-d0b2-896acd5b5ff6"
      },
      "source": [
        "print(weight)"
      ],
      "execution_count": null,
      "outputs": [
        {
          "output_type": "stream",
          "text": [
            "{0: 1.0525840668020763, 1: 6.315504400812458, 2: 1.203768228158472, 3: 0.48705096073517123, 4: 1.2776332009313793, 5: 1.2667028788701793, 6: 0.6965872601000672}\n"
          ],
          "name": "stdout"
        }
      ]
    },
    {
      "cell_type": "markdown",
      "metadata": {
        "id": "0HWZ4lANv-Dj"
      },
      "source": [
        "The less number of class-\"disgusted\" got the highest weight 6.3155"
      ]
    },
    {
      "cell_type": "markdown",
      "metadata": {
        "id": "Y84qd_t-7EXE"
      },
      "source": [
        "### Try a fully connected network first"
      ]
    },
    {
      "cell_type": "code",
      "metadata": {
        "id": "qEJnDd1F7NuI",
        "colab": {
          "base_uri": "https://localhost:8080/"
        },
        "outputId": "3fe1d7ca-3e20-493d-d8fb-02f08e3712cc"
      },
      "source": [
        "model00=Sequential()\n",
        "\n",
        "model00.add(Flatten(input_shape=[48,48,1]))\n",
        "model00.add(Dense(512))\n",
        "#model00.add(BatchNormalization())\n",
        "model00.add(Activation('relu'))\n",
        "\n",
        "model00.add(Dense(512))\n",
        "#model00.add(BatchNormalization())\n",
        "model00.add(Activation('relu'))\n",
        "\n",
        "\n",
        "model00.add(Dense(7))\n",
        "\n",
        "model00.summary()\n",
        "opt00=Adam(learning_rate=0.001)\n",
        "model00.compile(loss='categorical_crossentropy',\n",
        "              optimizer=opt00,\n",
        "              metrics=['accuracy'])\n",
        "\n",
        "history00 = model00.fit(XN_train, yn_train,\n",
        "                    batch_size=64,\n",
        "                    epochs=10,\n",
        "                    validation_data=(XN_validation, yn_validation),\n",
        "                    class_weight=weight)"
      ],
      "execution_count": null,
      "outputs": [
        {
          "output_type": "stream",
          "text": [
            "Model: \"sequential_3\"\n",
            "_________________________________________________________________\n",
            "Layer (type)                 Output Shape              Param #   \n",
            "=================================================================\n",
            "flatten_3 (Flatten)          (None, 2304)              0         \n",
            "_________________________________________________________________\n",
            "dense_6 (Dense)              (None, 512)               1180160   \n",
            "_________________________________________________________________\n",
            "activation_18 (Activation)   (None, 512)               0         \n",
            "_________________________________________________________________\n",
            "dense_7 (Dense)              (None, 512)               262656    \n",
            "_________________________________________________________________\n",
            "activation_19 (Activation)   (None, 512)               0         \n",
            "_________________________________________________________________\n",
            "dense_8 (Dense)              (None, 7)                 3591      \n",
            "=================================================================\n",
            "Total params: 1,446,407\n",
            "Trainable params: 1,446,407\n",
            "Non-trainable params: 0\n",
            "_________________________________________________________________\n",
            "Epoch 1/10\n",
            "132/132 [==============================] - 1s 4ms/step - loss: 8.0078 - accuracy: 0.0231 - val_loss: 9.0869 - val_accuracy: 0.0300\n",
            "Epoch 2/10\n",
            "132/132 [==============================] - 0s 3ms/step - loss: 9.1043 - accuracy: 0.0218 - val_loss: 9.0869 - val_accuracy: 0.0300\n",
            "Epoch 3/10\n",
            "132/132 [==============================] - 0s 3ms/step - loss: 9.1043 - accuracy: 0.0218 - val_loss: 9.0869 - val_accuracy: 0.0300\n",
            "Epoch 4/10\n",
            "132/132 [==============================] - 0s 3ms/step - loss: 9.1043 - accuracy: 0.0218 - val_loss: 9.0869 - val_accuracy: 0.0300\n",
            "Epoch 5/10\n",
            "132/132 [==============================] - 0s 4ms/step - loss: 9.1043 - accuracy: 0.0218 - val_loss: 9.0869 - val_accuracy: 0.0300\n",
            "Epoch 6/10\n",
            "132/132 [==============================] - 0s 3ms/step - loss: 9.1043 - accuracy: 0.0218 - val_loss: 9.0869 - val_accuracy: 0.0300\n",
            "Epoch 7/10\n",
            "132/132 [==============================] - 0s 3ms/step - loss: 9.1043 - accuracy: 0.0218 - val_loss: 9.0869 - val_accuracy: 0.0300\n",
            "Epoch 8/10\n",
            "132/132 [==============================] - 0s 3ms/step - loss: 9.1043 - accuracy: 0.0218 - val_loss: 9.0869 - val_accuracy: 0.0300\n",
            "Epoch 9/10\n",
            "132/132 [==============================] - 0s 3ms/step - loss: 9.1043 - accuracy: 0.0218 - val_loss: 9.0869 - val_accuracy: 0.0300\n",
            "Epoch 10/10\n",
            "132/132 [==============================] - 0s 3ms/step - loss: 9.1043 - accuracy: 0.0218 - val_loss: 9.0869 - val_accuracy: 0.0300\n"
          ],
          "name": "stdout"
        }
      ]
    },
    {
      "cell_type": "markdown",
      "metadata": {
        "id": "W1p5VR-YEpzC"
      },
      "source": [
        "The better validation accuracy(3%) than training accuracy(2.18%) indicating an underfitting model. We need a more complex one. "
      ]
    },
    {
      "cell_type": "markdown",
      "metadata": {
        "id": "5rDLPyIyF5dy"
      },
      "source": [
        "### Starting from a very simple CNN with one convolutional layer and two dense layer\n"
      ]
    },
    {
      "cell_type": "code",
      "metadata": {
        "id": "CSvlAMxi0gic",
        "colab": {
          "base_uri": "https://localhost:8080/"
        },
        "outputId": "ec0c7290-d0f7-484e-8316-be0502f4ff9d"
      },
      "source": [
        "# build the network\n",
        "model0 = Sequential()\n",
        "\n",
        "model0.add(Conv2D(64, (3, 3), input_shape=XN_train.shape[1:],data_format=\"channels_last\"))\n",
        "model0.add(Activation('relu'))\n",
        "\n",
        "\n",
        "#fully connected layer\n",
        "model0.add(Flatten())\n",
        "model0.add(Dense(1024))\n",
        "model0.add(Activation('relu'))\n",
        "\n",
        "model0.add(Dense(num_classes))\n",
        "model0.add(Activation('softmax'))\n",
        "\n",
        "model0.summary()\n",
        "opt=Adam(learning_rate=0.001)\n",
        "model0.compile(loss='categorical_crossentropy',\n",
        "              optimizer=opt,\n",
        "              metrics=['accuracy'])\n",
        "\n",
        "#reduce_lr = ReduceLROnPlateau(monitor='val_loss', factor=0.2,\n",
        "#                              patience=5, min_lr=0.0001)\n",
        "history0 = model0.fit(XN_train, yn_train,\n",
        "                    batch_size=64,\n",
        "                    epochs=10,\n",
        "                    validation_data=(XN_validation, yn_validation),\n",
        "                    class_weight=weight)"
      ],
      "execution_count": null,
      "outputs": [
        {
          "output_type": "stream",
          "text": [
            "Model: \"sequential_8\"\n",
            "_________________________________________________________________\n",
            "Layer (type)                 Output Shape              Param #   \n",
            "=================================================================\n",
            "conv2d_5 (Conv2D)            (None, 46, 46, 64)        640       \n",
            "_________________________________________________________________\n",
            "activation_16 (Activation)   (None, 46, 46, 64)        0         \n",
            "_________________________________________________________________\n",
            "flatten_8 (Flatten)          (None, 135424)            0         \n",
            "_________________________________________________________________\n",
            "dense_15 (Dense)             (None, 1024)              138675200 \n",
            "_________________________________________________________________\n",
            "activation_17 (Activation)   (None, 1024)              0         \n",
            "_________________________________________________________________\n",
            "dense_16 (Dense)             (None, 7)                 7175      \n",
            "_________________________________________________________________\n",
            "activation_18 (Activation)   (None, 7)                 0         \n",
            "=================================================================\n",
            "Total params: 138,683,015\n",
            "Trainable params: 138,683,015\n",
            "Non-trainable params: 0\n",
            "_________________________________________________________________\n",
            "Epoch 1/10\n",
            "  1/132 [..............................] - ETA: 4s - loss: 2.0582 - accuracy: 0.0625WARNING:tensorflow:Callbacks method `on_train_batch_end` is slow compared to the batch time (batch time: 0.0111s vs `on_train_batch_end` time: 0.0367s). Check your callbacks.\n",
            "132/132 [==============================] - 6s 42ms/step - loss: 3.2892 - accuracy: 0.2482 - val_loss: 1.7210 - val_accuracy: 0.3376\n",
            "Epoch 2/10\n",
            "132/132 [==============================] - 5s 42ms/step - loss: 1.5103 - accuracy: 0.4568 - val_loss: 1.6039 - val_accuracy: 0.3998\n",
            "Epoch 3/10\n",
            "132/132 [==============================] - 5s 41ms/step - loss: 1.2339 - accuracy: 0.5603 - val_loss: 1.4365 - val_accuracy: 0.4748\n",
            "Epoch 4/10\n",
            "132/132 [==============================] - 5s 41ms/step - loss: 1.0056 - accuracy: 0.6382 - val_loss: 1.4466 - val_accuracy: 0.4855\n",
            "Epoch 5/10\n",
            "132/132 [==============================] - 5s 42ms/step - loss: 0.7820 - accuracy: 0.7105 - val_loss: 1.4549 - val_accuracy: 0.5177\n",
            "Epoch 6/10\n",
            "132/132 [==============================] - 5s 41ms/step - loss: 0.6006 - accuracy: 0.7744 - val_loss: 1.5250 - val_accuracy: 0.5102\n",
            "Epoch 7/10\n",
            "132/132 [==============================] - 5s 41ms/step - loss: 0.4315 - accuracy: 0.8478 - val_loss: 1.5485 - val_accuracy: 0.5348\n",
            "Epoch 8/10\n",
            "132/132 [==============================] - 5s 41ms/step - loss: 0.3032 - accuracy: 0.8997 - val_loss: 1.6357 - val_accuracy: 0.5498\n",
            "Epoch 9/10\n",
            "132/132 [==============================] - 5s 41ms/step - loss: 0.2042 - accuracy: 0.9379 - val_loss: 1.8509 - val_accuracy: 0.5252\n",
            "Epoch 10/10\n",
            "132/132 [==============================] - 5s 41ms/step - loss: 0.1522 - accuracy: 0.9566 - val_loss: 1.9149 - val_accuracy: 0.5520\n"
          ],
          "name": "stdout"
        }
      ]
    },
    {
      "cell_type": "markdown",
      "metadata": {
        "id": "boiQneM7GuSz"
      },
      "source": [
        "The training accuracy is growing and can reached to 98.5%. However validation accuracy remained 55-56% and haven't imporved--the modle is overfitting....  "
      ]
    },
    {
      "cell_type": "markdown",
      "metadata": {
        "id": "8kDBXsaEK1ss"
      },
      "source": [
        "##### Avioding overfitting by adding normalization, max pooling, dropouts and data augmentation"
      ]
    },
    {
      "cell_type": "code",
      "metadata": {
        "id": "stkfAZ0IIfIu",
        "colab": {
          "base_uri": "https://localhost:8080/"
        },
        "outputId": "a66e9959-cade-44d0-edc9-c295bc609db9"
      },
      "source": [
        "# build the network\n",
        "model0_plus = Sequential()\n",
        "# four alternating convolutional and max-pooling layers\n",
        "model0_plus.add(Conv2D(64, (3, 3), input_shape=XN_train.shape[1:],data_format=\"channels_last\"))\n",
        "model0_plus.add(Activation('relu'))\n",
        "model0_plus.add(MaxPooling2D(pool_size=(2, 2)))\n",
        "model0_plus.add(BatchNormalization())\n",
        "model0_plus.add(Dropout(0.5))\n",
        "\n",
        "#fully connected layer\n",
        "model0_plus.add(Flatten())\n",
        "model0_plus.add(Dense(1024))\n",
        "model0_plus.add(Activation('relu'))\n",
        "model0_plus.add(BatchNormalization())\n",
        "model0_plus.add(Dropout(0.5))\n",
        "\n",
        "\n",
        "# final output classifier\n",
        "model0_plus.add(Dense(num_classes))\n",
        "model0_plus.add(Activation('softmax'))\n",
        "model0_plus.add(BatchNormalization())\n",
        "model0_plus.add(Dropout(0.5))\n",
        "\n",
        "model0_plus.summary()\n",
        "opt=Adam(learning_rate=0.001)\n",
        "model0_plus.compile(loss='categorical_crossentropy',\n",
        "              optimizer=opt,\n",
        "              metrics=['accuracy'])\n",
        "\n",
        "#reduce_lr = ReduceLROnPlateau(monitor='val_loss', factor=0.2,\n",
        "#                              patience=5)\n",
        "history0_plus = model0_plus.fit(XN_train, yn_train,\n",
        "                    batch_size=64,\n",
        "                    epochs=10,\n",
        "                    validation_data=(XN_validation, yn_validation),\n",
        "                    class_weight=weight)"
      ],
      "execution_count": null,
      "outputs": [
        {
          "output_type": "stream",
          "text": [
            "Model: \"sequential_10\"\n",
            "_________________________________________________________________\n",
            "Layer (type)                 Output Shape              Param #   \n",
            "=================================================================\n",
            "conv2d_7 (Conv2D)            (None, 46, 46, 64)        640       \n",
            "_________________________________________________________________\n",
            "activation_21 (Activation)   (None, 46, 46, 64)        0         \n",
            "_________________________________________________________________\n",
            "max_pooling2d_3 (MaxPooling2 (None, 23, 23, 64)        0         \n",
            "_________________________________________________________________\n",
            "batch_normalization_5 (Batch (None, 23, 23, 64)        256       \n",
            "_________________________________________________________________\n",
            "dropout_5 (Dropout)          (None, 23, 23, 64)        0         \n",
            "_________________________________________________________________\n",
            "flatten_10 (Flatten)         (None, 33856)             0         \n",
            "_________________________________________________________________\n",
            "dense_19 (Dense)             (None, 1024)              34669568  \n",
            "_________________________________________________________________\n",
            "activation_22 (Activation)   (None, 1024)              0         \n",
            "_________________________________________________________________\n",
            "batch_normalization_6 (Batch (None, 1024)              4096      \n",
            "_________________________________________________________________\n",
            "dropout_6 (Dropout)          (None, 1024)              0         \n",
            "_________________________________________________________________\n",
            "dense_20 (Dense)             (None, 7)                 7175      \n",
            "_________________________________________________________________\n",
            "activation_23 (Activation)   (None, 7)                 0         \n",
            "_________________________________________________________________\n",
            "batch_normalization_7 (Batch (None, 7)                 28        \n",
            "_________________________________________________________________\n",
            "dropout_7 (Dropout)          (None, 7)                 0         \n",
            "=================================================================\n",
            "Total params: 34,681,763\n",
            "Trainable params: 34,679,573\n",
            "Non-trainable params: 2,190\n",
            "_________________________________________________________________\n",
            "Epoch 1/10\n",
            "132/132 [==============================] - 2s 17ms/step - loss: 0.1027 - accuracy: 0.1364 - val_loss: 1.1921e-07 - val_accuracy: 0.1350\n",
            "Epoch 2/10\n",
            "132/132 [==============================] - 2s 15ms/step - loss: 1.1883e-07 - accuracy: 0.1358 - val_loss: 1.1921e-07 - val_accuracy: 0.1350\n",
            "Epoch 3/10\n",
            "132/132 [==============================] - 2s 15ms/step - loss: 1.1883e-07 - accuracy: 0.1358 - val_loss: 1.1921e-07 - val_accuracy: 0.1350\n",
            "Epoch 4/10\n",
            "132/132 [==============================] - 2s 15ms/step - loss: 1.1883e-07 - accuracy: 0.1358 - val_loss: 1.1921e-07 - val_accuracy: 0.1350\n",
            "Epoch 5/10\n",
            "132/132 [==============================] - 2s 15ms/step - loss: 1.1883e-07 - accuracy: 0.1358 - val_loss: 1.1921e-07 - val_accuracy: 0.1350\n",
            "Epoch 6/10\n",
            "132/132 [==============================] - 2s 16ms/step - loss: 1.1883e-07 - accuracy: 0.1358 - val_loss: 1.1921e-07 - val_accuracy: 0.1350\n",
            "Epoch 7/10\n",
            "132/132 [==============================] - 2s 15ms/step - loss: 1.1883e-07 - accuracy: 0.1358 - val_loss: 1.1921e-07 - val_accuracy: 0.1350\n",
            "Epoch 8/10\n",
            "132/132 [==============================] - 2s 15ms/step - loss: 1.1883e-07 - accuracy: 0.1358 - val_loss: 1.1921e-07 - val_accuracy: 0.1350\n",
            "Epoch 9/10\n",
            "132/132 [==============================] - 2s 15ms/step - loss: 1.1883e-07 - accuracy: 0.1358 - val_loss: 1.1921e-07 - val_accuracy: 0.1350\n",
            "Epoch 10/10\n",
            "132/132 [==============================] - 2s 15ms/step - loss: 1.1883e-07 - accuracy: 0.1358 - val_loss: 1.1921e-07 - val_accuracy: 0.1350\n"
          ],
          "name": "stdout"
        }
      ]
    },
    {
      "cell_type": "markdown",
      "metadata": {
        "id": "SM_yQwC-owqn"
      },
      "source": [
        "##### Data augmentation"
      ]
    },
    {
      "cell_type": "code",
      "metadata": {
        "id": "LOEBJ5w5ZuHl"
      },
      "source": [
        "from keras.preprocessing.image import ImageDataGenerator\n",
        "gen = ImageDataGenerator(\n",
        "    brightness_range=[1,1.5],# randomly brighten images,[1,2] is brightening \n",
        "                            #[0,1] is darkening \n",
        "    featurewise_center=False,  # set input mean to 0 over the dataset\n",
        "    samplewise_center=False,  # set each sample mean to 0\n",
        "    featurewise_std_normalization=False,  # divide inputs by std of the dataset\n",
        "    samplewise_std_normalization=False,  # divide each input by its std\n",
        "    zca_whitening=False,  # apply ZCA whitening\n",
        "    rotation_range=15,  # randomly rotate images in the range (degrees, 0 to 180)\n",
        "    width_shift_range=0.1,  # randomly shift images horizontally (fraction of total width)\n",
        "    height_shift_range=0.1,  # randomly shift images vertically (fraction of total height)\n",
        "    horizontal_flip=True,  # randomly flip images\n",
        "    vertical_flip=False) \n",
        "gen.fit(XN_train)"
      ],
      "execution_count": null,
      "outputs": []
    },
    {
      "cell_type": "code",
      "metadata": {
        "id": "EI-2rTX36P7U",
        "colab": {
          "base_uri": "https://localhost:8080/"
        },
        "outputId": "58ef670e-1ec1-44af-88ac-36b971679bd0"
      },
      "source": [
        "\n",
        "history2 = model0_plus.fit_generator(gen.flow(XN_train, yn_train,\n",
        "                                 batch_size=128),\n",
        "                    steps_per_epoch=XN_train.shape[0]//128,\n",
        "                    epochs=10,\n",
        "                    validation_data=(XN_validation, yn_validation))\n",
        "                    #callbacks=[reduce_lr])"
      ],
      "execution_count": null,
      "outputs": [
        {
          "output_type": "stream",
          "text": [
            "Epoch 1/10\n",
            "65/65 [==============================] - 5s 76ms/step - loss: 1.1921e-07 - accuracy: 0.1368 - val_loss: 1.1921e-07 - val_accuracy: 0.1350\n",
            "Epoch 2/10\n",
            "65/65 [==============================] - 5s 75ms/step - loss: 1.1921e-07 - accuracy: 0.1356 - val_loss: 1.1921e-07 - val_accuracy: 0.1350\n",
            "Epoch 3/10\n",
            "65/65 [==============================] - 5s 76ms/step - loss: 1.1921e-07 - accuracy: 0.1355 - val_loss: 1.1921e-07 - val_accuracy: 0.1350\n",
            "Epoch 4/10\n",
            "65/65 [==============================] - 5s 74ms/step - loss: 1.1921e-07 - accuracy: 0.1358 - val_loss: 1.1921e-07 - val_accuracy: 0.1350\n",
            "Epoch 5/10\n",
            "65/65 [==============================] - 5s 75ms/step - loss: 1.1921e-07 - accuracy: 0.1363 - val_loss: 1.1921e-07 - val_accuracy: 0.1350\n",
            "Epoch 6/10\n",
            "65/65 [==============================] - 5s 76ms/step - loss: 1.1921e-07 - accuracy: 0.1355 - val_loss: 1.1921e-07 - val_accuracy: 0.1350\n",
            "Epoch 7/10\n",
            "65/65 [==============================] - 5s 76ms/step - loss: 1.1921e-07 - accuracy: 0.1357 - val_loss: 1.1921e-07 - val_accuracy: 0.1350\n",
            "Epoch 8/10\n",
            "65/65 [==============================] - 5s 75ms/step - loss: 1.1921e-07 - accuracy: 0.1360 - val_loss: 1.1921e-07 - val_accuracy: 0.1350\n",
            "Epoch 9/10\n",
            "65/65 [==============================] - 5s 75ms/step - loss: 1.1921e-07 - accuracy: 0.1352 - val_loss: 1.1921e-07 - val_accuracy: 0.1350\n",
            "Epoch 10/10\n",
            "65/65 [==============================] - 5s 75ms/step - loss: 1.1921e-07 - accuracy: 0.1360 - val_loss: 1.1921e-07 - val_accuracy: 0.1350\n"
          ],
          "name": "stdout"
        }
      ]
    },
    {
      "cell_type": "code",
      "metadata": {
        "id": "QOe8nCtZrLUS",
        "colab": {
          "base_uri": "https://localhost:8080/",
          "height": 234
        },
        "outputId": "84c33df0-ee12-41d4-e072-d43095ac15fb"
      },
      "source": [
        "fig = plt.figure(figsize=(16,4))\n",
        "ax = fig.add_subplot(121)\n",
        "ax.plot(history0.history[\"val_loss\"])\n",
        "ax.plot(history2.history[\"val_loss\"])\n",
        "ax.set_title(\"validation loss\")\n",
        "ax.set_xlabel(\"epochs\")\n",
        "\n",
        "ax2 = fig.add_subplot(122)\n",
        "ax2.plot(history0.history[\"val_accuracy\"])\n",
        "ax2.plot(history2.history[\"val_accuracy\"])\n",
        "ax2.set_title(\"validation accuracy\")\n",
        "ax2.set_xlabel(\"epochs\")\n",
        "ax2.set_ylim(0, 1)\n",
        "\n",
        "plt.show()"
      ],
      "execution_count": null,
      "outputs": [
        {
          "output_type": "display_data",
          "data": {
            "image/png": "[encoded data removed]",
            "text/plain": [
              "<Figure size 1152x288 with 2 Axes>"
            ]
          },
          "metadata": {
            "tags": [],
            "needs_background": "light"
          }
        }
      ]
    },
    {
      "cell_type": "markdown",
      "metadata": {
        "id": "syCg6nYTsWP2"
      },
      "source": [
        "Training and validation accuracy are similar but very low 13.5%. We need more complex models."
      ]
    },
    {
      "cell_type": "markdown",
      "metadata": {
        "id": "Cm3_44L92Jb0"
      },
      "source": [
        "### Add more convolutional layers with maxpooling and dropouts _model1(4 conv layers)"
      ]
    },
    {
      "cell_type": "code",
      "metadata": {
        "id": "2Wv7b7vfIFrJ",
        "colab": {
          "base_uri": "https://localhost:8080/"
        },
        "outputId": "a3c538a9-0b68-4782-d4de-acc640fbbc24"
      },
      "source": [
        "# build the network\n",
        "model1 = Sequential()\n",
        "# four alternating convolutional and max-pooling layers\n",
        "model1.add(Conv2D(64, (3, 3), input_shape=XN_train.shape[1:],data_format=\"channels_last\"))\n",
        "model1.add(Activation('relu'))\n",
        "model1.add(MaxPooling2D(pool_size=(2, 2)))\n",
        "\n",
        "model1.add(Conv2D(32, (3, 3)))\n",
        "model1.add(Activation('relu'))\n",
        "model1.add(MaxPooling2D(pool_size=(2, 2)))\n",
        "\n",
        "model1.add(Dropout(0.25))\n",
        "\n",
        "model1.add(Conv2D(32, (3, 3)))\n",
        "model1.add(Activation('relu'))\n",
        "model1.add(MaxPooling2D(pool_size=(2, 2)))\n",
        "\n",
        "model1.add(Conv2D(32, (3, 3)))\n",
        "model1.add(Activation('relu'))\n",
        "model1.add(MaxPooling2D(pool_size=(2, 2)))\n",
        "\n",
        "model1.add(Dropout(0.25))\n",
        "#fully connected layer\n",
        "model1.add(Flatten())\n",
        "model1.add(Dense(256))\n",
        "model1.add(Activation('relu'))\n",
        "\n",
        "model1.add(Dropout(0.5))\n",
        "# final output classifier\n",
        "model1.add(Dense(num_classes))\n",
        "model1.add(Activation('softmax'))\n",
        "\n",
        "opt1=Adam(learning_rate=0.001)\n",
        "model1.summary()\n",
        "model1.compile(loss='categorical_crossentropy',\n",
        "              optimizer=opt1,\n",
        "              metrics=['accuracy'])\n",
        "\n",
        "history1 = model1.fit(XN_train, yn_train,\n",
        "                    batch_size=64,\n",
        "                    epochs=50,\n",
        "                    validation_data=(XN_validation, yn_validation))"
      ],
      "execution_count": null,
      "outputs": [
        {
          "output_type": "stream",
          "text": [
            "Model: \"sequential_12\"\n",
            "_________________________________________________________________\n",
            "Layer (type)                 Output Shape              Param #   \n",
            "=================================================================\n",
            "conv2d_57 (Conv2D)           (None, 46, 46, 64)        640       \n",
            "_________________________________________________________________\n",
            "activation_36 (Activation)   (None, 46, 46, 64)        0         \n",
            "_________________________________________________________________\n",
            "max_pooling2d_42 (MaxPooling (None, 23, 23, 64)        0         \n",
            "_________________________________________________________________\n",
            "conv2d_58 (Conv2D)           (None, 21, 21, 32)        18464     \n",
            "_________________________________________________________________\n",
            "activation_37 (Activation)   (None, 21, 21, 32)        0         \n",
            "_________________________________________________________________\n",
            "max_pooling2d_43 (MaxPooling (None, 10, 10, 32)        0         \n",
            "_________________________________________________________________\n",
            "dropout_44 (Dropout)         (None, 10, 10, 32)        0         \n",
            "_________________________________________________________________\n",
            "conv2d_59 (Conv2D)           (None, 8, 8, 32)          9248      \n",
            "_________________________________________________________________\n",
            "activation_38 (Activation)   (None, 8, 8, 32)          0         \n",
            "_________________________________________________________________\n",
            "max_pooling2d_44 (MaxPooling (None, 4, 4, 32)          0         \n",
            "_________________________________________________________________\n",
            "conv2d_60 (Conv2D)           (None, 2, 2, 32)          9248      \n",
            "_________________________________________________________________\n",
            "activation_39 (Activation)   (None, 2, 2, 32)          0         \n",
            "_________________________________________________________________\n",
            "max_pooling2d_45 (MaxPooling (None, 1, 1, 32)          0         \n",
            "_________________________________________________________________\n",
            "dropout_45 (Dropout)         (None, 1, 1, 32)          0         \n",
            "_________________________________________________________________\n",
            "flatten_12 (Flatten)         (None, 32)                0         \n",
            "_________________________________________________________________\n",
            "dense_25 (Dense)             (None, 256)               8448      \n",
            "_________________________________________________________________\n",
            "activation_40 (Activation)   (None, 256)               0         \n",
            "_________________________________________________________________\n",
            "dropout_46 (Dropout)         (None, 256)               0         \n",
            "_________________________________________________________________\n",
            "dense_26 (Dense)             (None, 7)                 1799      \n",
            "_________________________________________________________________\n",
            "activation_41 (Activation)   (None, 7)                 0         \n",
            "=================================================================\n",
            "Total params: 47,847\n",
            "Trainable params: 47,847\n",
            "Non-trainable params: 0\n",
            "_________________________________________________________________\n",
            "Epoch 1/50\n",
            "132/132 [==============================] - 1s 9ms/step - loss: 1.8195 - accuracy: 0.2783 - val_loss: 1.7902 - val_accuracy: 0.3098\n",
            "Epoch 2/50\n",
            "132/132 [==============================] - 1s 7ms/step - loss: 1.7968 - accuracy: 0.2883 - val_loss: 1.7841 - val_accuracy: 0.3098\n",
            "Epoch 3/50\n",
            "132/132 [==============================] - 1s 7ms/step - loss: 1.7913 - accuracy: 0.2917 - val_loss: 1.7760 - val_accuracy: 0.3098\n",
            "Epoch 4/50\n",
            "132/132 [==============================] - 1s 7ms/step - loss: 1.7805 - accuracy: 0.2935 - val_loss: 1.7277 - val_accuracy: 0.3151\n",
            "Epoch 5/50\n",
            "132/132 [==============================] - 1s 7ms/step - loss: 1.6774 - accuracy: 0.3418 - val_loss: 1.5918 - val_accuracy: 0.4212\n",
            "Epoch 6/50\n",
            "132/132 [==============================] - 1s 7ms/step - loss: 1.5733 - accuracy: 0.4004 - val_loss: 1.4550 - val_accuracy: 0.4566\n",
            "Epoch 7/50\n",
            "132/132 [==============================] - 1s 7ms/step - loss: 1.5144 - accuracy: 0.4341 - val_loss: 1.4150 - val_accuracy: 0.4727\n",
            "Epoch 8/50\n",
            "132/132 [==============================] - 1s 7ms/step - loss: 1.4599 - accuracy: 0.4555 - val_loss: 1.3594 - val_accuracy: 0.4898\n",
            "Epoch 9/50\n",
            "132/132 [==============================] - 1s 7ms/step - loss: 1.4294 - accuracy: 0.4719 - val_loss: 1.3235 - val_accuracy: 0.5220\n",
            "Epoch 10/50\n",
            "132/132 [==============================] - 1s 7ms/step - loss: 1.3928 - accuracy: 0.4818 - val_loss: 1.3239 - val_accuracy: 0.5080\n",
            "Epoch 11/50\n",
            "132/132 [==============================] - 1s 7ms/step - loss: 1.3764 - accuracy: 0.4947 - val_loss: 1.2772 - val_accuracy: 0.5252\n",
            "Epoch 12/50\n",
            "132/132 [==============================] - 1s 7ms/step - loss: 1.3584 - accuracy: 0.4935 - val_loss: 1.2710 - val_accuracy: 0.5220\n",
            "Epoch 13/50\n",
            "132/132 [==============================] - 1s 7ms/step - loss: 1.3399 - accuracy: 0.5016 - val_loss: 1.2586 - val_accuracy: 0.5273\n",
            "Epoch 14/50\n",
            "132/132 [==============================] - 1s 7ms/step - loss: 1.3246 - accuracy: 0.5127 - val_loss: 1.2546 - val_accuracy: 0.5209\n",
            "Epoch 15/50\n",
            "132/132 [==============================] - 1s 7ms/step - loss: 1.3103 - accuracy: 0.5160 - val_loss: 1.2433 - val_accuracy: 0.5284\n",
            "Epoch 16/50\n",
            "132/132 [==============================] - 1s 7ms/step - loss: 1.2976 - accuracy: 0.5167 - val_loss: 1.2432 - val_accuracy: 0.5359\n",
            "Epoch 17/50\n",
            "132/132 [==============================] - 1s 8ms/step - loss: 1.2903 - accuracy: 0.5164 - val_loss: 1.3083 - val_accuracy: 0.5209\n",
            "Epoch 18/50\n",
            "132/132 [==============================] - 1s 7ms/step - loss: 1.2820 - accuracy: 0.5215 - val_loss: 1.2218 - val_accuracy: 0.5498\n",
            "Epoch 19/50\n",
            "132/132 [==============================] - 1s 7ms/step - loss: 1.2676 - accuracy: 0.5331 - val_loss: 1.2048 - val_accuracy: 0.5423\n",
            "Epoch 20/50\n",
            "132/132 [==============================] - 1s 7ms/step - loss: 1.2556 - accuracy: 0.5339 - val_loss: 1.1955 - val_accuracy: 0.5477\n",
            "Epoch 21/50\n",
            "132/132 [==============================] - 1s 7ms/step - loss: 1.2362 - accuracy: 0.5413 - val_loss: 1.2075 - val_accuracy: 0.5391\n",
            "Epoch 22/50\n",
            "132/132 [==============================] - 1s 8ms/step - loss: 1.2416 - accuracy: 0.5390 - val_loss: 1.2066 - val_accuracy: 0.5413\n",
            "Epoch 23/50\n",
            "132/132 [==============================] - 1s 7ms/step - loss: 1.2310 - accuracy: 0.5415 - val_loss: 1.1661 - val_accuracy: 0.5648\n",
            "Epoch 24/50\n",
            "132/132 [==============================] - 1s 7ms/step - loss: 1.2243 - accuracy: 0.5459 - val_loss: 1.2734 - val_accuracy: 0.5305\n",
            "Epoch 25/50\n",
            "132/132 [==============================] - 1s 7ms/step - loss: 1.2229 - accuracy: 0.5440 - val_loss: 1.1578 - val_accuracy: 0.5606\n",
            "Epoch 26/50\n",
            "132/132 [==============================] - 1s 8ms/step - loss: 1.2151 - accuracy: 0.5539 - val_loss: 1.1691 - val_accuracy: 0.5702\n",
            "Epoch 27/50\n",
            "132/132 [==============================] - 1s 7ms/step - loss: 1.2195 - accuracy: 0.5457 - val_loss: 1.1653 - val_accuracy: 0.5616\n",
            "Epoch 28/50\n",
            "132/132 [==============================] - 1s 7ms/step - loss: 1.2032 - accuracy: 0.5529 - val_loss: 1.1578 - val_accuracy: 0.5648\n",
            "Epoch 29/50\n",
            "132/132 [==============================] - 1s 7ms/step - loss: 1.1870 - accuracy: 0.5562 - val_loss: 1.1527 - val_accuracy: 0.5691\n",
            "Epoch 30/50\n",
            "132/132 [==============================] - 1s 7ms/step - loss: 1.1926 - accuracy: 0.5601 - val_loss: 1.1683 - val_accuracy: 0.5616\n",
            "Epoch 31/50\n",
            "132/132 [==============================] - 1s 7ms/step - loss: 1.1842 - accuracy: 0.5588 - val_loss: 1.1493 - val_accuracy: 0.5820\n",
            "Epoch 32/50\n",
            "132/132 [==============================] - 1s 8ms/step - loss: 1.1853 - accuracy: 0.5565 - val_loss: 1.1649 - val_accuracy: 0.5648\n",
            "Epoch 33/50\n",
            "132/132 [==============================] - 1s 7ms/step - loss: 1.1872 - accuracy: 0.5578 - val_loss: 1.1687 - val_accuracy: 0.5681\n",
            "Epoch 34/50\n",
            "132/132 [==============================] - 1s 8ms/step - loss: 1.1832 - accuracy: 0.5594 - val_loss: 1.1466 - val_accuracy: 0.5659\n",
            "Epoch 35/50\n",
            "132/132 [==============================] - 1s 7ms/step - loss: 1.1734 - accuracy: 0.5596 - val_loss: 1.1407 - val_accuracy: 0.5820\n",
            "Epoch 36/50\n",
            "132/132 [==============================] - 1s 7ms/step - loss: 1.1731 - accuracy: 0.5615 - val_loss: 1.1543 - val_accuracy: 0.5638\n",
            "Epoch 37/50\n",
            "132/132 [==============================] - 1s 8ms/step - loss: 1.1561 - accuracy: 0.5622 - val_loss: 1.1366 - val_accuracy: 0.5756\n",
            "Epoch 38/50\n",
            "132/132 [==============================] - 1s 7ms/step - loss: 1.1608 - accuracy: 0.5606 - val_loss: 1.1545 - val_accuracy: 0.5691\n",
            "Epoch 39/50\n",
            "132/132 [==============================] - 1s 8ms/step - loss: 1.1579 - accuracy: 0.5651 - val_loss: 1.1360 - val_accuracy: 0.5723\n",
            "Epoch 40/50\n",
            "132/132 [==============================] - 1s 7ms/step - loss: 1.1581 - accuracy: 0.5686 - val_loss: 1.1335 - val_accuracy: 0.5734\n",
            "Epoch 41/50\n",
            "132/132 [==============================] - 1s 7ms/step - loss: 1.1499 - accuracy: 0.5721 - val_loss: 1.1368 - val_accuracy: 0.5766\n",
            "Epoch 42/50\n",
            "132/132 [==============================] - 1s 7ms/step - loss: 1.1390 - accuracy: 0.5699 - val_loss: 1.1557 - val_accuracy: 0.5702\n",
            "Epoch 43/50\n",
            "132/132 [==============================] - 1s 7ms/step - loss: 1.1496 - accuracy: 0.5709 - val_loss: 1.1311 - val_accuracy: 0.5777\n",
            "Epoch 44/50\n",
            "132/132 [==============================] - 1s 7ms/step - loss: 1.1419 - accuracy: 0.5726 - val_loss: 1.1308 - val_accuracy: 0.5798\n",
            "Epoch 45/50\n",
            "132/132 [==============================] - 1s 7ms/step - loss: 1.1377 - accuracy: 0.5771 - val_loss: 1.1237 - val_accuracy: 0.5841\n",
            "Epoch 46/50\n",
            "132/132 [==============================] - 1s 7ms/step - loss: 1.1279 - accuracy: 0.5786 - val_loss: 1.1134 - val_accuracy: 0.5949\n",
            "Epoch 47/50\n",
            "132/132 [==============================] - 1s 7ms/step - loss: 1.1356 - accuracy: 0.5714 - val_loss: 1.1092 - val_accuracy: 0.5938\n",
            "Epoch 48/50\n",
            "132/132 [==============================] - 1s 8ms/step - loss: 1.1235 - accuracy: 0.5794 - val_loss: 1.1304 - val_accuracy: 0.5798\n",
            "Epoch 49/50\n",
            "132/132 [==============================] - 1s 7ms/step - loss: 1.1273 - accuracy: 0.5730 - val_loss: 1.1306 - val_accuracy: 0.5713\n",
            "Epoch 50/50\n",
            "132/132 [==============================] - 1s 7ms/step - loss: 1.1198 - accuracy: 0.5775 - val_loss: 1.1267 - val_accuracy: 0.5852\n"
          ],
          "name": "stdout"
        }
      ]
    },
    {
      "cell_type": "markdown",
      "metadata": {
        "id": "L5HynepK333c"
      },
      "source": [
        "The validation performance improved to 57-58% with training accuracy 57%.The model is still underfitting. Try to bulid more complex one see if we can prove the whole accuracy."
      ]
    },
    {
      "cell_type": "markdown",
      "metadata": {
        "id": "ZARLT6485EIY"
      },
      "source": [
        "#### Model1_m:Let's try adding more layers on model1"
      ]
    },
    {
      "cell_type": "code",
      "metadata": {
        "id": "dosLJ8EO0YZ4",
        "colab": {
          "base_uri": "https://localhost:8080/"
        },
        "outputId": "124cb124-2ab9-401a-dd9f-a1b356d9b8b3"
      },
      "source": [
        "# build the network\n",
        "model1_m = Sequential()\n",
        "# four alternating convolutional and max-pooling layers\n",
        "model1_m.add(Conv2D(128, (3, 3), input_shape=XN_train.shape[1:],data_format=\"channels_last\"))\n",
        "model1_m.add(Activation('relu'))\n",
        "model1_m.add(MaxPooling2D(pool_size=(2, 2)))\n",
        "\n",
        "model1_m.add(Conv2D(64, (3, 3)))\n",
        "model1_m.add(Activation('relu'))\n",
        "model1_m.add(MaxPooling2D(pool_size=(2, 2)))\n",
        "\n",
        "model1_m.add(Dropout(0.25))\n",
        "\n",
        "model1_m.add(Conv2D(64, (3, 3)))\n",
        "model1_m.add(Activation('relu'))\n",
        "model1_m.add(MaxPooling2D(pool_size=(2, 2)))\n",
        "\n",
        "model1_m.add(Conv2D(64, (3, 3)))\n",
        "model1_m.add(Activation('relu'))\n",
        "model1_m.add(MaxPooling2D(pool_size=(2, 2)))\n",
        "\n",
        "model1_m.add(Dropout(0.25))\n",
        "\n",
        "\n",
        "#fully connected layer\n",
        "model1_m.add(Flatten())\n",
        "model1_m.add(Dense(256))\n",
        "model1_m.add(Activation('relu'))\n",
        "\n",
        "model1_m.add(Dropout(0.5))\n",
        "# final output classifier\n",
        "model1_m.add(Dense(num_classes))\n",
        "model1_m.add(Activation('softmax'))\n",
        "\n",
        "opt1=Adam(learning_rate=0.001)\n",
        "model1_m.summary()\n",
        "model1_m.compile(loss='categorical_crossentropy',\n",
        "              optimizer=opt1,\n",
        "              metrics=['accuracy'])\n",
        "\n",
        "history1_m = model1_m.fit(XN_train, yn_train,\n",
        "                    batch_size=64,\n",
        "                    epochs=100,\n",
        "                    validation_data=(XN_validation, yn_validation))"
      ],
      "execution_count": null,
      "outputs": [
        {
          "output_type": "stream",
          "text": [
            "Model: \"sequential_1\"\n",
            "_________________________________________________________________\n",
            "Layer (type)                 Output Shape              Param #   \n",
            "=================================================================\n",
            "conv2d_4 (Conv2D)            (None, 46, 46, 128)       1280      \n",
            "_________________________________________________________________\n",
            "activation_6 (Activation)    (None, 46, 46, 128)       0         \n",
            "_________________________________________________________________\n",
            "max_pooling2d_4 (MaxPooling2 (None, 23, 23, 128)       0         \n",
            "_________________________________________________________________\n",
            "conv2d_5 (Conv2D)            (None, 21, 21, 64)        73792     \n",
            "_________________________________________________________________\n",
            "activation_7 (Activation)    (None, 21, 21, 64)        0         \n",
            "_________________________________________________________________\n",
            "max_pooling2d_5 (MaxPooling2 (None, 10, 10, 64)        0         \n",
            "_________________________________________________________________\n",
            "dropout_3 (Dropout)          (None, 10, 10, 64)        0         \n",
            "_________________________________________________________________\n",
            "conv2d_6 (Conv2D)            (None, 8, 8, 64)          36928     \n",
            "_________________________________________________________________\n",
            "activation_8 (Activation)    (None, 8, 8, 64)          0         \n",
            "_________________________________________________________________\n",
            "max_pooling2d_6 (MaxPooling2 (None, 4, 4, 64)          0         \n",
            "_________________________________________________________________\n",
            "conv2d_7 (Conv2D)            (None, 2, 2, 64)          36928     \n",
            "_________________________________________________________________\n",
            "activation_9 (Activation)    (None, 2, 2, 64)          0         \n",
            "_________________________________________________________________\n",
            "max_pooling2d_7 (MaxPooling2 (None, 1, 1, 64)          0         \n",
            "_________________________________________________________________\n",
            "dropout_4 (Dropout)          (None, 1, 1, 64)          0         \n",
            "_________________________________________________________________\n",
            "flatten_1 (Flatten)          (None, 64)                0         \n",
            "_________________________________________________________________\n",
            "dense_2 (Dense)              (None, 256)               16640     \n",
            "_________________________________________________________________\n",
            "activation_10 (Activation)   (None, 256)               0         \n",
            "_________________________________________________________________\n",
            "dropout_5 (Dropout)          (None, 256)               0         \n",
            "_________________________________________________________________\n",
            "dense_3 (Dense)              (None, 7)                 1799      \n",
            "_________________________________________________________________\n",
            "activation_11 (Activation)   (None, 7)                 0         \n",
            "=================================================================\n",
            "Total params: 167,367\n",
            "Trainable params: 167,367\n",
            "Non-trainable params: 0\n",
            "_________________________________________________________________\n",
            "Epoch 1/100\n",
            "132/132 [==============================] - 2s 13ms/step - loss: 1.8146 - accuracy: 0.2783 - val_loss: 1.8074 - val_accuracy: 0.2915\n",
            "Epoch 2/100\n",
            "132/132 [==============================] - 2s 11ms/step - loss: 1.7946 - accuracy: 0.2932 - val_loss: 1.8115 - val_accuracy: 0.2915\n",
            "Epoch 3/100\n",
            "132/132 [==============================] - 2s 11ms/step - loss: 1.7902 - accuracy: 0.2929 - val_loss: 1.8042 - val_accuracy: 0.2915\n",
            "Epoch 4/100\n",
            "132/132 [==============================] - 2s 11ms/step - loss: 1.7023 - accuracy: 0.3319 - val_loss: 1.5693 - val_accuracy: 0.4159\n",
            "Epoch 5/100\n",
            "132/132 [==============================] - 1s 11ms/step - loss: 1.5402 - accuracy: 0.4222 - val_loss: 1.4887 - val_accuracy: 0.4416\n",
            "Epoch 6/100\n",
            "132/132 [==============================] - 2s 11ms/step - loss: 1.4439 - accuracy: 0.4672 - val_loss: 1.4176 - val_accuracy: 0.4620\n",
            "Epoch 7/100\n",
            "132/132 [==============================] - 1s 11ms/step - loss: 1.3945 - accuracy: 0.4836 - val_loss: 1.3689 - val_accuracy: 0.4930\n",
            "Epoch 8/100\n",
            "132/132 [==============================] - 1s 11ms/step - loss: 1.3458 - accuracy: 0.5026 - val_loss: 1.3184 - val_accuracy: 0.5145\n",
            "Epoch 9/100\n",
            "132/132 [==============================] - 1s 11ms/step - loss: 1.2992 - accuracy: 0.5200 - val_loss: 1.2930 - val_accuracy: 0.5134\n",
            "Epoch 10/100\n",
            "132/132 [==============================] - 2s 11ms/step - loss: 1.2798 - accuracy: 0.5256 - val_loss: 1.2606 - val_accuracy: 0.5252\n",
            "Epoch 11/100\n",
            "132/132 [==============================] - 2s 12ms/step - loss: 1.2454 - accuracy: 0.5350 - val_loss: 1.2494 - val_accuracy: 0.5263\n",
            "Epoch 12/100\n",
            "132/132 [==============================] - 1s 11ms/step - loss: 1.2417 - accuracy: 0.5437 - val_loss: 1.2263 - val_accuracy: 0.5391\n",
            "Epoch 13/100\n",
            "132/132 [==============================] - 1s 11ms/step - loss: 1.2110 - accuracy: 0.5482 - val_loss: 1.2098 - val_accuracy: 0.5413\n",
            "Epoch 14/100\n",
            "132/132 [==============================] - 1s 11ms/step - loss: 1.1932 - accuracy: 0.5526 - val_loss: 1.2054 - val_accuracy: 0.5402\n",
            "Epoch 15/100\n",
            "132/132 [==============================] - 1s 11ms/step - loss: 1.1856 - accuracy: 0.5562 - val_loss: 1.1973 - val_accuracy: 0.5434\n",
            "Epoch 16/100\n",
            "132/132 [==============================] - 1s 11ms/step - loss: 1.1626 - accuracy: 0.5674 - val_loss: 1.1852 - val_accuracy: 0.5563\n",
            "Epoch 17/100\n",
            "132/132 [==============================] - 1s 11ms/step - loss: 1.1461 - accuracy: 0.5689 - val_loss: 1.1623 - val_accuracy: 0.5531\n",
            "Epoch 18/100\n",
            "132/132 [==============================] - 1s 11ms/step - loss: 1.1438 - accuracy: 0.5733 - val_loss: 1.1764 - val_accuracy: 0.5595\n",
            "Epoch 19/100\n",
            "132/132 [==============================] - 2s 11ms/step - loss: 1.1175 - accuracy: 0.5826 - val_loss: 1.1808 - val_accuracy: 0.5616\n",
            "Epoch 20/100\n",
            "132/132 [==============================] - 2s 11ms/step - loss: 1.1039 - accuracy: 0.5871 - val_loss: 1.1446 - val_accuracy: 0.5702\n",
            "Epoch 21/100\n",
            "132/132 [==============================] - 2s 12ms/step - loss: 1.0922 - accuracy: 0.5892 - val_loss: 1.1939 - val_accuracy: 0.5541\n",
            "Epoch 22/100\n",
            "132/132 [==============================] - 1s 11ms/step - loss: 1.0873 - accuracy: 0.5944 - val_loss: 1.1389 - val_accuracy: 0.5777\n",
            "Epoch 23/100\n",
            "132/132 [==============================] - 2s 11ms/step - loss: 1.0688 - accuracy: 0.5980 - val_loss: 1.1667 - val_accuracy: 0.5766\n",
            "Epoch 24/100\n",
            "132/132 [==============================] - 2s 11ms/step - loss: 1.0558 - accuracy: 0.6010 - val_loss: 1.1407 - val_accuracy: 0.5777\n",
            "Epoch 25/100\n",
            "132/132 [==============================] - 1s 11ms/step - loss: 1.0488 - accuracy: 0.6056 - val_loss: 1.1050 - val_accuracy: 0.5949\n",
            "Epoch 26/100\n",
            "132/132 [==============================] - 1s 11ms/step - loss: 1.0326 - accuracy: 0.6071 - val_loss: 1.1421 - val_accuracy: 0.5831\n",
            "Epoch 27/100\n",
            "132/132 [==============================] - 2s 11ms/step - loss: 1.0344 - accuracy: 0.6079 - val_loss: 1.1738 - val_accuracy: 0.5723\n",
            "Epoch 28/100\n",
            "132/132 [==============================] - 2s 11ms/step - loss: 1.0225 - accuracy: 0.6120 - val_loss: 1.1316 - val_accuracy: 0.5777\n",
            "Epoch 29/100\n",
            "132/132 [==============================] - 2s 11ms/step - loss: 1.0030 - accuracy: 0.6249 - val_loss: 1.1242 - val_accuracy: 0.5841\n",
            "Epoch 30/100\n",
            "132/132 [==============================] - 2s 11ms/step - loss: 1.0073 - accuracy: 0.6238 - val_loss: 1.1320 - val_accuracy: 0.5949\n",
            "Epoch 31/100\n",
            "132/132 [==============================] - 2s 11ms/step - loss: 0.9950 - accuracy: 0.6242 - val_loss: 1.1291 - val_accuracy: 0.5852\n",
            "Epoch 32/100\n",
            "132/132 [==============================] - 2s 12ms/step - loss: 0.9894 - accuracy: 0.6288 - val_loss: 1.1223 - val_accuracy: 0.5874\n",
            "Epoch 33/100\n",
            "132/132 [==============================] - 2s 11ms/step - loss: 0.9754 - accuracy: 0.6357 - val_loss: 1.1165 - val_accuracy: 0.5927\n",
            "Epoch 34/100\n",
            "132/132 [==============================] - 2s 12ms/step - loss: 0.9719 - accuracy: 0.6347 - val_loss: 1.1483 - val_accuracy: 0.5895\n",
            "Epoch 35/100\n",
            "132/132 [==============================] - 2s 11ms/step - loss: 0.9693 - accuracy: 0.6381 - val_loss: 1.1483 - val_accuracy: 0.5659\n",
            "Epoch 36/100\n",
            "132/132 [==============================] - 2s 11ms/step - loss: 0.9704 - accuracy: 0.6343 - val_loss: 1.1337 - val_accuracy: 0.5895\n",
            "Epoch 37/100\n",
            "132/132 [==============================] - 2s 12ms/step - loss: 0.9509 - accuracy: 0.6425 - val_loss: 1.1252 - val_accuracy: 0.6024\n",
            "Epoch 38/100\n",
            "132/132 [==============================] - 2s 12ms/step - loss: 0.9354 - accuracy: 0.6482 - val_loss: 1.1127 - val_accuracy: 0.6002\n",
            "Epoch 39/100\n",
            "132/132 [==============================] - 2s 12ms/step - loss: 0.9272 - accuracy: 0.6462 - val_loss: 1.1310 - val_accuracy: 0.5938\n",
            "Epoch 40/100\n",
            "132/132 [==============================] - 2s 11ms/step - loss: 0.9313 - accuracy: 0.6527 - val_loss: 1.1187 - val_accuracy: 0.6056\n",
            "Epoch 41/100\n",
            "132/132 [==============================] - 2s 11ms/step - loss: 0.9205 - accuracy: 0.6512 - val_loss: 1.1155 - val_accuracy: 0.5991\n",
            "Epoch 42/100\n",
            "132/132 [==============================] - 1s 11ms/step - loss: 0.9325 - accuracy: 0.6468 - val_loss: 1.0937 - val_accuracy: 0.6013\n",
            "Epoch 43/100\n",
            "132/132 [==============================] - 2s 11ms/step - loss: 0.9293 - accuracy: 0.6473 - val_loss: 1.1289 - val_accuracy: 0.6002\n",
            "Epoch 44/100\n",
            "132/132 [==============================] - 2s 12ms/step - loss: 0.8913 - accuracy: 0.6629 - val_loss: 1.1460 - val_accuracy: 0.6056\n",
            "Epoch 45/100\n",
            "132/132 [==============================] - 2s 11ms/step - loss: 0.9096 - accuracy: 0.6623 - val_loss: 1.1340 - val_accuracy: 0.6002\n",
            "Epoch 46/100\n",
            "132/132 [==============================] - 2s 12ms/step - loss: 0.9025 - accuracy: 0.6618 - val_loss: 1.1223 - val_accuracy: 0.6056\n",
            "Epoch 47/100\n",
            "132/132 [==============================] - 2s 11ms/step - loss: 0.8914 - accuracy: 0.6635 - val_loss: 1.1138 - val_accuracy: 0.6056\n",
            "Epoch 48/100\n",
            "132/132 [==============================] - 2s 12ms/step - loss: 0.8750 - accuracy: 0.6729 - val_loss: 1.1287 - val_accuracy: 0.6077\n",
            "Epoch 49/100\n",
            "132/132 [==============================] - 2s 12ms/step - loss: 0.8698 - accuracy: 0.6679 - val_loss: 1.1221 - val_accuracy: 0.5949\n",
            "Epoch 50/100\n",
            "132/132 [==============================] - 2s 12ms/step - loss: 0.8765 - accuracy: 0.6643 - val_loss: 1.1271 - val_accuracy: 0.5884\n",
            "Epoch 51/100\n",
            "132/132 [==============================] - 2s 12ms/step - loss: 0.8638 - accuracy: 0.6756 - val_loss: 1.0885 - val_accuracy: 0.6045\n",
            "Epoch 52/100\n",
            "132/132 [==============================] - 2s 12ms/step - loss: 0.8624 - accuracy: 0.6746 - val_loss: 1.1080 - val_accuracy: 0.6013\n",
            "Epoch 53/100\n",
            "132/132 [==============================] - 2s 12ms/step - loss: 0.8475 - accuracy: 0.6841 - val_loss: 1.1133 - val_accuracy: 0.5970\n",
            "Epoch 54/100\n",
            "132/132 [==============================] - 2s 12ms/step - loss: 0.8471 - accuracy: 0.6770 - val_loss: 1.1321 - val_accuracy: 0.6024\n",
            "Epoch 55/100\n",
            "132/132 [==============================] - 2s 12ms/step - loss: 0.8417 - accuracy: 0.6806 - val_loss: 1.1471 - val_accuracy: 0.6109\n",
            "Epoch 56/100\n",
            "132/132 [==============================] - 2s 12ms/step - loss: 0.8405 - accuracy: 0.6861 - val_loss: 1.1076 - val_accuracy: 0.6077\n",
            "Epoch 57/100\n",
            "132/132 [==============================] - 2s 12ms/step - loss: 0.8303 - accuracy: 0.6856 - val_loss: 1.1489 - val_accuracy: 0.6066\n",
            "Epoch 58/100\n",
            "132/132 [==============================] - 2s 12ms/step - loss: 0.8471 - accuracy: 0.6820 - val_loss: 1.1346 - val_accuracy: 0.5981\n",
            "Epoch 59/100\n",
            "132/132 [==============================] - 2s 12ms/step - loss: 0.8352 - accuracy: 0.6884 - val_loss: 1.1126 - val_accuracy: 0.6141\n",
            "Epoch 60/100\n",
            "132/132 [==============================] - 2s 12ms/step - loss: 0.8163 - accuracy: 0.6926 - val_loss: 1.1532 - val_accuracy: 0.6045\n",
            "Epoch 61/100\n",
            "132/132 [==============================] - 2s 11ms/step - loss: 0.8213 - accuracy: 0.6935 - val_loss: 1.1783 - val_accuracy: 0.5927\n",
            "Epoch 62/100\n",
            "132/132 [==============================] - 2s 11ms/step - loss: 0.8012 - accuracy: 0.6957 - val_loss: 1.1454 - val_accuracy: 0.6131\n",
            "Epoch 63/100\n",
            "132/132 [==============================] - 2s 12ms/step - loss: 0.8171 - accuracy: 0.6929 - val_loss: 1.1569 - val_accuracy: 0.5991\n",
            "Epoch 64/100\n",
            "132/132 [==============================] - 1s 11ms/step - loss: 0.7966 - accuracy: 0.7002 - val_loss: 1.1329 - val_accuracy: 0.6034\n",
            "Epoch 65/100\n",
            "132/132 [==============================] - 2s 11ms/step - loss: 0.7867 - accuracy: 0.7078 - val_loss: 1.1116 - val_accuracy: 0.6109\n",
            "Epoch 66/100\n",
            "132/132 [==============================] - 2s 12ms/step - loss: 0.8051 - accuracy: 0.7057 - val_loss: 1.1424 - val_accuracy: 0.6088\n",
            "Epoch 67/100\n",
            "132/132 [==============================] - 2s 11ms/step - loss: 0.7918 - accuracy: 0.6997 - val_loss: 1.1895 - val_accuracy: 0.6088\n",
            "Epoch 68/100\n",
            "132/132 [==============================] - 2s 11ms/step - loss: 0.7877 - accuracy: 0.7023 - val_loss: 1.1354 - val_accuracy: 0.6077\n",
            "Epoch 69/100\n",
            "132/132 [==============================] - 1s 11ms/step - loss: 0.7781 - accuracy: 0.7053 - val_loss: 1.1859 - val_accuracy: 0.6109\n",
            "Epoch 70/100\n",
            "132/132 [==============================] - 2s 12ms/step - loss: 0.7634 - accuracy: 0.7145 - val_loss: 1.1665 - val_accuracy: 0.6045\n",
            "Epoch 71/100\n",
            "132/132 [==============================] - 2s 11ms/step - loss: 0.7721 - accuracy: 0.7094 - val_loss: 1.1800 - val_accuracy: 0.6195\n",
            "Epoch 72/100\n",
            "132/132 [==============================] - 1s 11ms/step - loss: 0.7636 - accuracy: 0.7108 - val_loss: 1.1596 - val_accuracy: 0.6013\n",
            "Epoch 73/100\n",
            "132/132 [==============================] - 2s 12ms/step - loss: 0.7820 - accuracy: 0.7040 - val_loss: 1.1614 - val_accuracy: 0.5970\n",
            "Epoch 74/100\n",
            "132/132 [==============================] - 2s 11ms/step - loss: 0.7589 - accuracy: 0.7148 - val_loss: 1.1503 - val_accuracy: 0.6238\n",
            "Epoch 75/100\n",
            "132/132 [==============================] - 1s 11ms/step - loss: 0.7629 - accuracy: 0.7172 - val_loss: 1.1637 - val_accuracy: 0.6002\n",
            "Epoch 76/100\n",
            "132/132 [==============================] - 2s 11ms/step - loss: 0.7555 - accuracy: 0.7160 - val_loss: 1.1774 - val_accuracy: 0.5981\n",
            "Epoch 77/100\n",
            "132/132 [==============================] - 2s 11ms/step - loss: 0.7474 - accuracy: 0.7177 - val_loss: 1.1500 - val_accuracy: 0.6034\n",
            "Epoch 78/100\n",
            "132/132 [==============================] - 1s 11ms/step - loss: 0.7474 - accuracy: 0.7216 - val_loss: 1.1633 - val_accuracy: 0.5970\n",
            "Epoch 79/100\n",
            "132/132 [==============================] - 2s 12ms/step - loss: 0.7521 - accuracy: 0.7155 - val_loss: 1.1334 - val_accuracy: 0.6195\n",
            "Epoch 80/100\n",
            "132/132 [==============================] - 2s 12ms/step - loss: 0.7350 - accuracy: 0.7254 - val_loss: 1.1333 - val_accuracy: 0.6045\n",
            "Epoch 81/100\n",
            "132/132 [==============================] - 2s 11ms/step - loss: 0.7311 - accuracy: 0.7214 - val_loss: 1.1881 - val_accuracy: 0.6217\n",
            "Epoch 82/100\n",
            "132/132 [==============================] - 2s 12ms/step - loss: 0.7401 - accuracy: 0.7228 - val_loss: 1.1691 - val_accuracy: 0.6002\n",
            "Epoch 83/100\n",
            "132/132 [==============================] - 2s 11ms/step - loss: 0.7272 - accuracy: 0.7271 - val_loss: 1.2018 - val_accuracy: 0.6045\n",
            "Epoch 84/100\n",
            "132/132 [==============================] - 2s 11ms/step - loss: 0.7182 - accuracy: 0.7279 - val_loss: 1.1855 - val_accuracy: 0.6045\n",
            "Epoch 85/100\n",
            "132/132 [==============================] - 2s 12ms/step - loss: 0.7270 - accuracy: 0.7263 - val_loss: 1.1685 - val_accuracy: 0.6152\n",
            "Epoch 86/100\n",
            "132/132 [==============================] - 2s 11ms/step - loss: 0.7188 - accuracy: 0.7316 - val_loss: 1.1459 - val_accuracy: 0.6088\n",
            "Epoch 87/100\n",
            "132/132 [==============================] - 2s 12ms/step - loss: 0.7043 - accuracy: 0.7333 - val_loss: 1.1891 - val_accuracy: 0.6002\n",
            "Epoch 88/100\n",
            "132/132 [==============================] - 2s 12ms/step - loss: 0.7288 - accuracy: 0.7282 - val_loss: 1.1545 - val_accuracy: 0.6217\n",
            "Epoch 89/100\n",
            "132/132 [==============================] - 2s 11ms/step - loss: 0.7140 - accuracy: 0.7278 - val_loss: 1.1599 - val_accuracy: 0.5949\n",
            "Epoch 90/100\n",
            "132/132 [==============================] - 2s 11ms/step - loss: 0.7066 - accuracy: 0.7322 - val_loss: 1.1916 - val_accuracy: 0.6045\n",
            "Epoch 91/100\n",
            "132/132 [==============================] - 2s 12ms/step - loss: 0.6918 - accuracy: 0.7418 - val_loss: 1.1496 - val_accuracy: 0.6184\n",
            "Epoch 92/100\n",
            "132/132 [==============================] - 2s 12ms/step - loss: 0.6932 - accuracy: 0.7352 - val_loss: 1.1511 - val_accuracy: 0.6217\n",
            "Epoch 93/100\n",
            "132/132 [==============================] - 2s 12ms/step - loss: 0.7017 - accuracy: 0.7346 - val_loss: 1.2031 - val_accuracy: 0.6217\n",
            "Epoch 94/100\n",
            "132/132 [==============================] - 2s 11ms/step - loss: 0.6869 - accuracy: 0.7435 - val_loss: 1.1805 - val_accuracy: 0.6109\n",
            "Epoch 95/100\n",
            "132/132 [==============================] - 2s 11ms/step - loss: 0.7019 - accuracy: 0.7364 - val_loss: 1.1617 - val_accuracy: 0.6131\n",
            "Epoch 96/100\n",
            "132/132 [==============================] - 2s 12ms/step - loss: 0.6796 - accuracy: 0.7475 - val_loss: 1.1702 - val_accuracy: 0.6077\n",
            "Epoch 97/100\n",
            "132/132 [==============================] - 2s 12ms/step - loss: 0.6972 - accuracy: 0.7400 - val_loss: 1.1618 - val_accuracy: 0.6345\n",
            "Epoch 98/100\n",
            "132/132 [==============================] - 2s 11ms/step - loss: 0.6869 - accuracy: 0.7401 - val_loss: 1.2110 - val_accuracy: 0.6077\n",
            "Epoch 99/100\n",
            "132/132 [==============================] - 2s 11ms/step - loss: 0.6644 - accuracy: 0.7513 - val_loss: 1.2767 - val_accuracy: 0.6302\n",
            "Epoch 100/100\n",
            "132/132 [==============================] - 2s 12ms/step - loss: 0.6867 - accuracy: 0.7429 - val_loss: 1.1773 - val_accuracy: 0.6324\n"
          ],
          "name": "stdout"
        }
      ]
    },
    {
      "cell_type": "markdown",
      "metadata": {
        "id": "EkN6vwiQ7uoG"
      },
      "source": [
        "Validation accuracy raised to 63% and training accuracay reached 74%. The model is slightly overfitted."
      ]
    },
    {
      "cell_type": "code",
      "metadata": {
        "id": "OA8s5r0r73hh",
        "colab": {
          "base_uri": "https://localhost:8080/",
          "height": 235
        },
        "outputId": "5dbe1bcd-2ddc-4933-c204-100ef7dff7b2"
      },
      "source": [
        "fig = plt.figure(figsize=(16,4))\n",
        "ax = fig.add_subplot(121)\n",
        "ax.plot(history1.history[\"val_loss\"])\n",
        "ax.plot(history1_m.history[\"val_loss\"])\n",
        "ax.set_title(\"validation loss\")\n",
        "ax.set_xlabel(\"epochs\")\n",
        "\n",
        "ax2 = fig.add_subplot(122)\n",
        "ax2.plot(history1.history[\"val_accuracy\"])\n",
        "ax2.plot(history1_m.history[\"val_accuracy\"])\n",
        "ax2.set_title(\"validation accuracy\")\n",
        "ax2.set_xlabel(\"epochs\")\n",
        "ax2.set_ylim(0, 1)\n",
        "\n",
        "plt.show()"
      ],
      "execution_count": null,
      "outputs": [
        {
          "output_type": "display_data",
          "data": {
            "image/png": "[encoded data removed]",
            "text/plain": [
              "<Figure size 1152x288 with 2 Axes>"
            ]
          },
          "metadata": {
            "tags": [],
            "needs_background": "light"
          }
        }
      ]
    },
    {
      "cell_type": "markdown",
      "metadata": {
        "id": "3UDSdz2F6kC6"
      },
      "source": [
        "#### Training balanced data in the model -model1_m_w"
      ]
    },
    {
      "cell_type": "code",
      "metadata": {
        "id": "_aBH4-p-zYEP",
        "colab": {
          "base_uri": "https://localhost:8080/"
        },
        "outputId": "a3621948-b330-4601-c281-a3eec6d8d998"
      },
      "source": [
        "# build the network\n",
        "model1_m_w = Sequential()\n",
        "# four alternating convolutional and max-pooling layers\n",
        "model1_m_w.add(Conv2D(128, (3, 3), input_shape=XN_train.shape[1:],data_format=\"channels_last\"))\n",
        "model1_m_w.add(Activation('relu'))\n",
        "model1_m_w.add(MaxPooling2D(pool_size=(2, 2)))\n",
        "\n",
        "model1_m_w.add(Conv2D(64, (3, 3)))\n",
        "model1_m_w.add(Activation('relu'))\n",
        "model1_m_w.add(MaxPooling2D(pool_size=(2, 2)))\n",
        "\n",
        "model1_m_w.add(Dropout(0.25))\n",
        "\n",
        "model1_m_w.add(Conv2D(64, (3, 3)))\n",
        "model1_m_w.add(Activation('relu'))\n",
        "model1_m_w.add(MaxPooling2D(pool_size=(2, 2)))\n",
        "\n",
        "model1_m_w.add(Conv2D(64, (3, 3)))\n",
        "model1_m_w.add(Activation('relu'))\n",
        "model1_m_w.add(MaxPooling2D(pool_size=(2, 2)))\n",
        "\n",
        "model1_m_w.add(Dropout(0.25))\n",
        "\n",
        "\n",
        "#fully connected layer\n",
        "model1_m_w.add(Flatten())\n",
        "model1_m_w.add(Dense(256))\n",
        "model1_m_w.add(Activation('relu'))\n",
        "\n",
        "model1_m_w.add(Dropout(0.5))\n",
        "# final output classifier\n",
        "model1_m_w.add(Dense(num_classes))\n",
        "model1_m_w.add(Activation('softmax'))\n",
        "\n",
        "opt1=Adam(learning_rate=0.001)\n",
        "model1_m_w.summary()\n",
        "model1_m_w.compile(loss='categorical_crossentropy',\n",
        "              optimizer=opt1,\n",
        "              metrics=['accuracy'])\n",
        "\n",
        "history1_m_w = model1_m.fit(XN_train, yn_train,\n",
        "                    batch_size=64,\n",
        "                    epochs=100,\n",
        "                    validation_data=(XN_validation, yn_validation),\n",
        "                    class_weight=weight)"
      ],
      "execution_count": null,
      "outputs": [
        {
          "output_type": "stream",
          "text": [
            "Model: \"sequential_2\"\n",
            "_________________________________________________________________\n",
            "Layer (type)                 Output Shape              Param #   \n",
            "=================================================================\n",
            "conv2d_8 (Conv2D)            (None, 46, 46, 128)       1280      \n",
            "_________________________________________________________________\n",
            "activation_12 (Activation)   (None, 46, 46, 128)       0         \n",
            "_________________________________________________________________\n",
            "max_pooling2d_8 (MaxPooling2 (None, 23, 23, 128)       0         \n",
            "_________________________________________________________________\n",
            "conv2d_9 (Conv2D)            (None, 21, 21, 64)        73792     \n",
            "_________________________________________________________________\n",
            "activation_13 (Activation)   (None, 21, 21, 64)        0         \n",
            "_________________________________________________________________\n",
            "max_pooling2d_9 (MaxPooling2 (None, 10, 10, 64)        0         \n",
            "_________________________________________________________________\n",
            "dropout_6 (Dropout)          (None, 10, 10, 64)        0         \n",
            "_________________________________________________________________\n",
            "conv2d_10 (Conv2D)           (None, 8, 8, 64)          36928     \n",
            "_________________________________________________________________\n",
            "activation_14 (Activation)   (None, 8, 8, 64)          0         \n",
            "_________________________________________________________________\n",
            "max_pooling2d_10 (MaxPooling (None, 4, 4, 64)          0         \n",
            "_________________________________________________________________\n",
            "conv2d_11 (Conv2D)           (None, 2, 2, 64)          36928     \n",
            "_________________________________________________________________\n",
            "activation_15 (Activation)   (None, 2, 2, 64)          0         \n",
            "_________________________________________________________________\n",
            "max_pooling2d_11 (MaxPooling (None, 1, 1, 64)          0         \n",
            "_________________________________________________________________\n",
            "dropout_7 (Dropout)          (None, 1, 1, 64)          0         \n",
            "_________________________________________________________________\n",
            "flatten_2 (Flatten)          (None, 64)                0         \n",
            "_________________________________________________________________\n",
            "dense_4 (Dense)              (None, 256)               16640     \n",
            "_________________________________________________________________\n",
            "activation_16 (Activation)   (None, 256)               0         \n",
            "_________________________________________________________________\n",
            "dropout_8 (Dropout)          (None, 256)               0         \n",
            "_________________________________________________________________\n",
            "dense_5 (Dense)              (None, 7)                 1799      \n",
            "_________________________________________________________________\n",
            "activation_17 (Activation)   (None, 7)                 0         \n",
            "=================================================================\n",
            "Total params: 167,367\n",
            "Trainable params: 167,367\n",
            "Non-trainable params: 0\n",
            "_________________________________________________________________\n",
            "Epoch 1/100\n",
            "132/132 [==============================] - 2s 12ms/step - loss: 0.8833 - accuracy: 0.7026 - val_loss: 1.1911 - val_accuracy: 0.5841\n",
            "Epoch 2/100\n",
            "132/132 [==============================] - 2s 12ms/step - loss: 0.8474 - accuracy: 0.6987 - val_loss: 1.1875 - val_accuracy: 0.5852\n",
            "Epoch 3/100\n",
            "132/132 [==============================] - 2s 12ms/step - loss: 0.7710 - accuracy: 0.7258 - val_loss: 1.1616 - val_accuracy: 0.6056\n",
            "Epoch 4/100\n",
            "132/132 [==============================] - 2s 12ms/step - loss: 0.8200 - accuracy: 0.7079 - val_loss: 1.2306 - val_accuracy: 0.5927\n",
            "Epoch 5/100\n",
            "132/132 [==============================] - 2s 12ms/step - loss: 0.8162 - accuracy: 0.7082 - val_loss: 1.1946 - val_accuracy: 0.5970\n",
            "Epoch 6/100\n",
            "132/132 [==============================] - 2s 12ms/step - loss: 0.8047 - accuracy: 0.7073 - val_loss: 1.1615 - val_accuracy: 0.6056\n",
            "Epoch 7/100\n",
            "132/132 [==============================] - 2s 12ms/step - loss: 0.7694 - accuracy: 0.7281 - val_loss: 1.1980 - val_accuracy: 0.6013\n",
            "Epoch 8/100\n",
            "132/132 [==============================] - 2s 12ms/step - loss: 0.7913 - accuracy: 0.7210 - val_loss: 1.1841 - val_accuracy: 0.6131\n",
            "Epoch 9/100\n",
            "132/132 [==============================] - 2s 12ms/step - loss: 0.7461 - accuracy: 0.7306 - val_loss: 1.1756 - val_accuracy: 0.6131\n",
            "Epoch 10/100\n",
            "132/132 [==============================] - 2s 12ms/step - loss: 0.7242 - accuracy: 0.7390 - val_loss: 1.1698 - val_accuracy: 0.6077\n",
            "Epoch 11/100\n",
            "132/132 [==============================] - 2s 12ms/step - loss: 0.7597 - accuracy: 0.7149 - val_loss: 1.1762 - val_accuracy: 0.6045\n",
            "Epoch 12/100\n",
            "132/132 [==============================] - 2s 12ms/step - loss: 0.7430 - accuracy: 0.7214 - val_loss: 1.1610 - val_accuracy: 0.5949\n",
            "Epoch 13/100\n",
            "132/132 [==============================] - 2s 12ms/step - loss: 0.7547 - accuracy: 0.7202 - val_loss: 1.1620 - val_accuracy: 0.6088\n",
            "Epoch 14/100\n",
            "132/132 [==============================] - 2s 12ms/step - loss: 0.7699 - accuracy: 0.7208 - val_loss: 1.1768 - val_accuracy: 0.5916\n",
            "Epoch 15/100\n",
            "132/132 [==============================] - 2s 12ms/step - loss: 0.7628 - accuracy: 0.7240 - val_loss: 1.1556 - val_accuracy: 0.6002\n",
            "Epoch 16/100\n",
            "132/132 [==============================] - 2s 12ms/step - loss: 0.7284 - accuracy: 0.7289 - val_loss: 1.1614 - val_accuracy: 0.6034\n",
            "Epoch 17/100\n",
            "132/132 [==============================] - 2s 12ms/step - loss: 0.7496 - accuracy: 0.7197 - val_loss: 1.1623 - val_accuracy: 0.6099\n",
            "Epoch 18/100\n",
            "132/132 [==============================] - 2s 12ms/step - loss: 0.7299 - accuracy: 0.7273 - val_loss: 1.1503 - val_accuracy: 0.6120\n",
            "Epoch 19/100\n",
            "132/132 [==============================] - 2s 12ms/step - loss: 0.7091 - accuracy: 0.7346 - val_loss: 1.2211 - val_accuracy: 0.6024\n",
            "Epoch 20/100\n",
            "132/132 [==============================] - 2s 12ms/step - loss: 0.7412 - accuracy: 0.7267 - val_loss: 1.2314 - val_accuracy: 0.5863\n",
            "Epoch 21/100\n",
            "132/132 [==============================] - 2s 12ms/step - loss: 0.7410 - accuracy: 0.7320 - val_loss: 1.2626 - val_accuracy: 0.5659\n",
            "Epoch 22/100\n",
            "132/132 [==============================] - 2s 12ms/step - loss: 0.7235 - accuracy: 0.7304 - val_loss: 1.1944 - val_accuracy: 0.5959\n",
            "Epoch 23/100\n",
            "132/132 [==============================] - 2s 12ms/step - loss: 0.7551 - accuracy: 0.7232 - val_loss: 1.1691 - val_accuracy: 0.6002\n",
            "Epoch 24/100\n",
            "132/132 [==============================] - 2s 12ms/step - loss: 0.7199 - accuracy: 0.7245 - val_loss: 1.1999 - val_accuracy: 0.6066\n",
            "Epoch 25/100\n",
            "132/132 [==============================] - 2s 12ms/step - loss: 0.6968 - accuracy: 0.7398 - val_loss: 1.2307 - val_accuracy: 0.6045\n",
            "Epoch 26/100\n",
            "132/132 [==============================] - 2s 12ms/step - loss: 0.7057 - accuracy: 0.7346 - val_loss: 1.1590 - val_accuracy: 0.6013\n",
            "Epoch 27/100\n",
            "132/132 [==============================] - 2s 12ms/step - loss: 0.7005 - accuracy: 0.7327 - val_loss: 1.1934 - val_accuracy: 0.5970\n",
            "Epoch 28/100\n",
            "132/132 [==============================] - 2s 12ms/step - loss: 0.7045 - accuracy: 0.7342 - val_loss: 1.2004 - val_accuracy: 0.5991\n",
            "Epoch 29/100\n",
            "132/132 [==============================] - 2s 12ms/step - loss: 0.7174 - accuracy: 0.7306 - val_loss: 1.1559 - val_accuracy: 0.6077\n",
            "Epoch 30/100\n",
            "132/132 [==============================] - 2s 12ms/step - loss: 0.6826 - accuracy: 0.7344 - val_loss: 1.1916 - val_accuracy: 0.6099\n",
            "Epoch 31/100\n",
            "132/132 [==============================] - 2s 12ms/step - loss: 0.7009 - accuracy: 0.7406 - val_loss: 1.1887 - val_accuracy: 0.5895\n",
            "Epoch 32/100\n",
            "132/132 [==============================] - 2s 12ms/step - loss: 0.6926 - accuracy: 0.7359 - val_loss: 1.1556 - val_accuracy: 0.5981\n",
            "Epoch 33/100\n",
            "132/132 [==============================] - 2s 12ms/step - loss: 0.6788 - accuracy: 0.7423 - val_loss: 1.1802 - val_accuracy: 0.6013\n",
            "Epoch 34/100\n",
            "132/132 [==============================] - 2s 12ms/step - loss: 0.6665 - accuracy: 0.7408 - val_loss: 1.2016 - val_accuracy: 0.5884\n",
            "Epoch 35/100\n",
            "132/132 [==============================] - 2s 12ms/step - loss: 0.7044 - accuracy: 0.7383 - val_loss: 1.1919 - val_accuracy: 0.6109\n",
            "Epoch 36/100\n",
            "132/132 [==============================] - 2s 12ms/step - loss: 0.6748 - accuracy: 0.7396 - val_loss: 1.2342 - val_accuracy: 0.6099\n",
            "Epoch 37/100\n",
            "132/132 [==============================] - 2s 12ms/step - loss: 0.6568 - accuracy: 0.7485 - val_loss: 1.2114 - val_accuracy: 0.6163\n",
            "Epoch 38/100\n",
            "132/132 [==============================] - 2s 12ms/step - loss: 0.6860 - accuracy: 0.7387 - val_loss: 1.2439 - val_accuracy: 0.6077\n",
            "Epoch 39/100\n",
            "132/132 [==============================] - 2s 12ms/step - loss: 0.6711 - accuracy: 0.7423 - val_loss: 1.1853 - val_accuracy: 0.6002\n",
            "Epoch 40/100\n",
            "132/132 [==============================] - 2s 12ms/step - loss: 0.6880 - accuracy: 0.7432 - val_loss: 1.2217 - val_accuracy: 0.5863\n",
            "Epoch 41/100\n",
            "132/132 [==============================] - 2s 12ms/step - loss: 0.6671 - accuracy: 0.7506 - val_loss: 1.1808 - val_accuracy: 0.6077\n",
            "Epoch 42/100\n",
            "132/132 [==============================] - 2s 12ms/step - loss: 0.6725 - accuracy: 0.7473 - val_loss: 1.1988 - val_accuracy: 0.6099\n",
            "Epoch 43/100\n",
            "132/132 [==============================] - 2s 12ms/step - loss: 0.6673 - accuracy: 0.7477 - val_loss: 1.1892 - val_accuracy: 0.6120\n",
            "Epoch 44/100\n",
            "132/132 [==============================] - 2s 12ms/step - loss: 0.6649 - accuracy: 0.7489 - val_loss: 1.1643 - val_accuracy: 0.5959\n",
            "Epoch 45/100\n",
            "132/132 [==============================] - 2s 12ms/step - loss: 0.6934 - accuracy: 0.7404 - val_loss: 1.1592 - val_accuracy: 0.5991\n",
            "Epoch 46/100\n",
            "132/132 [==============================] - 2s 12ms/step - loss: 0.6819 - accuracy: 0.7448 - val_loss: 1.1390 - val_accuracy: 0.6109\n",
            "Epoch 47/100\n",
            "132/132 [==============================] - 2s 12ms/step - loss: 0.6636 - accuracy: 0.7509 - val_loss: 1.1670 - val_accuracy: 0.6109\n",
            "Epoch 48/100\n",
            "132/132 [==============================] - 2s 12ms/step - loss: 0.6805 - accuracy: 0.7438 - val_loss: 1.2156 - val_accuracy: 0.6109\n",
            "Epoch 49/100\n",
            "132/132 [==============================] - 2s 12ms/step - loss: 0.6570 - accuracy: 0.7577 - val_loss: 1.2020 - val_accuracy: 0.6045\n",
            "Epoch 50/100\n",
            "132/132 [==============================] - 2s 12ms/step - loss: 0.6479 - accuracy: 0.7528 - val_loss: 1.2019 - val_accuracy: 0.6163\n",
            "Epoch 51/100\n",
            "132/132 [==============================] - 2s 12ms/step - loss: 0.6582 - accuracy: 0.7506 - val_loss: 1.1924 - val_accuracy: 0.5927\n",
            "Epoch 52/100\n",
            "132/132 [==============================] - 2s 12ms/step - loss: 0.6837 - accuracy: 0.7403 - val_loss: 1.1522 - val_accuracy: 0.6120\n",
            "Epoch 53/100\n",
            "132/132 [==============================] - 2s 12ms/step - loss: 0.6448 - accuracy: 0.7529 - val_loss: 1.1906 - val_accuracy: 0.6184\n",
            "Epoch 54/100\n",
            "132/132 [==============================] - 2s 12ms/step - loss: 0.6415 - accuracy: 0.7532 - val_loss: 1.1629 - val_accuracy: 0.6013\n",
            "Epoch 55/100\n",
            "132/132 [==============================] - 2s 12ms/step - loss: 0.6232 - accuracy: 0.7655 - val_loss: 1.2350 - val_accuracy: 0.6141\n",
            "Epoch 56/100\n",
            "132/132 [==============================] - 2s 12ms/step - loss: 0.6260 - accuracy: 0.7612 - val_loss: 1.2238 - val_accuracy: 0.5895\n",
            "Epoch 57/100\n",
            "132/132 [==============================] - 2s 12ms/step - loss: 0.6654 - accuracy: 0.7468 - val_loss: 1.2006 - val_accuracy: 0.6088\n",
            "Epoch 58/100\n",
            "132/132 [==============================] - 2s 12ms/step - loss: 0.6325 - accuracy: 0.7574 - val_loss: 1.2078 - val_accuracy: 0.6088\n",
            "Epoch 59/100\n",
            "132/132 [==============================] - 2s 12ms/step - loss: 0.6522 - accuracy: 0.7569 - val_loss: 1.2214 - val_accuracy: 0.6099\n",
            "Epoch 60/100\n",
            "132/132 [==============================] - 2s 12ms/step - loss: 0.6460 - accuracy: 0.7545 - val_loss: 1.2080 - val_accuracy: 0.6034\n",
            "Epoch 61/100\n",
            "132/132 [==============================] - 2s 12ms/step - loss: 0.6064 - accuracy: 0.7722 - val_loss: 1.2391 - val_accuracy: 0.6174\n",
            "Epoch 62/100\n",
            "132/132 [==============================] - 2s 12ms/step - loss: 0.6549 - accuracy: 0.7493 - val_loss: 1.2177 - val_accuracy: 0.6077\n",
            "Epoch 63/100\n",
            "132/132 [==============================] - 2s 12ms/step - loss: 0.6546 - accuracy: 0.7508 - val_loss: 1.1922 - val_accuracy: 0.6077\n",
            "Epoch 64/100\n",
            "132/132 [==============================] - 2s 12ms/step - loss: 0.6143 - accuracy: 0.7588 - val_loss: 1.2464 - val_accuracy: 0.6120\n",
            "Epoch 65/100\n",
            "132/132 [==============================] - 2s 12ms/step - loss: 0.6165 - accuracy: 0.7664 - val_loss: 1.1854 - val_accuracy: 0.5863\n",
            "Epoch 66/100\n",
            "132/132 [==============================] - 2s 13ms/step - loss: 0.6531 - accuracy: 0.7566 - val_loss: 1.1933 - val_accuracy: 0.6152\n",
            "Epoch 67/100\n",
            "132/132 [==============================] - 2s 12ms/step - loss: 0.6627 - accuracy: 0.7497 - val_loss: 1.1558 - val_accuracy: 0.6195\n",
            "Epoch 68/100\n",
            "132/132 [==============================] - 2s 12ms/step - loss: 0.6316 - accuracy: 0.7576 - val_loss: 1.1794 - val_accuracy: 0.6066\n",
            "Epoch 69/100\n",
            "132/132 [==============================] - 2s 12ms/step - loss: 0.5864 - accuracy: 0.7720 - val_loss: 1.1989 - val_accuracy: 0.6152\n",
            "Epoch 70/100\n",
            "132/132 [==============================] - 2s 12ms/step - loss: 0.6184 - accuracy: 0.7669 - val_loss: 1.2495 - val_accuracy: 0.5820\n",
            "Epoch 71/100\n",
            "132/132 [==============================] - 2s 12ms/step - loss: 0.6202 - accuracy: 0.7607 - val_loss: 1.2258 - val_accuracy: 0.6077\n",
            "Epoch 72/100\n",
            "132/132 [==============================] - 2s 12ms/step - loss: 0.6237 - accuracy: 0.7580 - val_loss: 1.2263 - val_accuracy: 0.6109\n",
            "Epoch 73/100\n",
            "132/132 [==============================] - 2s 12ms/step - loss: 0.6201 - accuracy: 0.7627 - val_loss: 1.2193 - val_accuracy: 0.6174\n",
            "Epoch 74/100\n",
            "132/132 [==============================] - 2s 13ms/step - loss: 0.5974 - accuracy: 0.7693 - val_loss: 1.2301 - val_accuracy: 0.5991\n",
            "Epoch 75/100\n",
            "132/132 [==============================] - 2s 13ms/step - loss: 0.6118 - accuracy: 0.7638 - val_loss: 1.2538 - val_accuracy: 0.6024\n",
            "Epoch 76/100\n",
            "132/132 [==============================] - 2s 13ms/step - loss: 0.6160 - accuracy: 0.7638 - val_loss: 1.2430 - val_accuracy: 0.5991\n",
            "Epoch 77/100\n",
            "132/132 [==============================] - 2s 13ms/step - loss: 0.6108 - accuracy: 0.7670 - val_loss: 1.2191 - val_accuracy: 0.5981\n",
            "Epoch 78/100\n",
            "132/132 [==============================] - 2s 13ms/step - loss: 0.6320 - accuracy: 0.7609 - val_loss: 1.2373 - val_accuracy: 0.6013\n",
            "Epoch 79/100\n",
            "132/132 [==============================] - 2s 12ms/step - loss: 0.6276 - accuracy: 0.7603 - val_loss: 1.2132 - val_accuracy: 0.6013\n",
            "Epoch 80/100\n",
            "132/132 [==============================] - 2s 12ms/step - loss: 0.5704 - accuracy: 0.7772 - val_loss: 1.2467 - val_accuracy: 0.6109\n",
            "Epoch 81/100\n",
            "132/132 [==============================] - 2s 12ms/step - loss: 0.6204 - accuracy: 0.7613 - val_loss: 1.2718 - val_accuracy: 0.6249\n",
            "Epoch 82/100\n",
            "132/132 [==============================] - 2s 12ms/step - loss: 0.6307 - accuracy: 0.7543 - val_loss: 1.2185 - val_accuracy: 0.6184\n",
            "Epoch 83/100\n",
            "132/132 [==============================] - 2s 12ms/step - loss: 0.6213 - accuracy: 0.7619 - val_loss: 1.1633 - val_accuracy: 0.6163\n",
            "Epoch 84/100\n",
            "132/132 [==============================] - 2s 12ms/step - loss: 0.6087 - accuracy: 0.7674 - val_loss: 1.2036 - val_accuracy: 0.6206\n",
            "Epoch 85/100\n",
            "132/132 [==============================] - 2s 12ms/step - loss: 0.6141 - accuracy: 0.7661 - val_loss: 1.2160 - val_accuracy: 0.5895\n",
            "Epoch 86/100\n",
            "132/132 [==============================] - 2s 12ms/step - loss: 0.6118 - accuracy: 0.7674 - val_loss: 1.2303 - val_accuracy: 0.6034\n",
            "Epoch 87/100\n",
            "132/132 [==============================] - 2s 12ms/step - loss: 0.6173 - accuracy: 0.7621 - val_loss: 1.2241 - val_accuracy: 0.6120\n",
            "Epoch 88/100\n",
            "132/132 [==============================] - 2s 12ms/step - loss: 0.5896 - accuracy: 0.7757 - val_loss: 1.2244 - val_accuracy: 0.6163\n",
            "Epoch 89/100\n",
            "132/132 [==============================] - 2s 12ms/step - loss: 0.5832 - accuracy: 0.7842 - val_loss: 1.2316 - val_accuracy: 0.6152\n",
            "Epoch 90/100\n",
            "132/132 [==============================] - 2s 12ms/step - loss: 0.6008 - accuracy: 0.7733 - val_loss: 1.2752 - val_accuracy: 0.6034\n",
            "Epoch 91/100\n",
            "132/132 [==============================] - 2s 12ms/step - loss: 0.6059 - accuracy: 0.7711 - val_loss: 1.2342 - val_accuracy: 0.6099\n",
            "Epoch 92/100\n",
            "132/132 [==============================] - 2s 12ms/step - loss: 0.6265 - accuracy: 0.7646 - val_loss: 1.2331 - val_accuracy: 0.6045\n",
            "Epoch 93/100\n",
            "132/132 [==============================] - 2s 12ms/step - loss: 0.5888 - accuracy: 0.7744 - val_loss: 1.2600 - val_accuracy: 0.6056\n",
            "Epoch 94/100\n",
            "132/132 [==============================] - 2s 12ms/step - loss: 0.5808 - accuracy: 0.7767 - val_loss: 1.2519 - val_accuracy: 0.5981\n",
            "Epoch 95/100\n",
            "132/132 [==============================] - 2s 12ms/step - loss: 0.5730 - accuracy: 0.7824 - val_loss: 1.2329 - val_accuracy: 0.6131\n",
            "Epoch 96/100\n",
            "132/132 [==============================] - 2s 12ms/step - loss: 0.5792 - accuracy: 0.7790 - val_loss: 1.2629 - val_accuracy: 0.5991\n",
            "Epoch 97/100\n",
            "132/132 [==============================] - 2s 12ms/step - loss: 0.5754 - accuracy: 0.7799 - val_loss: 1.2446 - val_accuracy: 0.6238\n",
            "Epoch 98/100\n",
            "132/132 [==============================] - 2s 12ms/step - loss: 0.5782 - accuracy: 0.7730 - val_loss: 1.2369 - val_accuracy: 0.6088\n",
            "Epoch 99/100\n",
            "132/132 [==============================] - 2s 12ms/step - loss: 0.6377 - accuracy: 0.7652 - val_loss: 1.2794 - val_accuracy: 0.6045\n",
            "Epoch 100/100\n",
            "132/132 [==============================] - 2s 12ms/step - loss: 0.6049 - accuracy: 0.7697 - val_loss: 1.2079 - val_accuracy: 0.6163\n"
          ],
          "name": "stdout"
        }
      ]
    },
    {
      "cell_type": "markdown",
      "metadata": {
        "id": "UWXPzJ_46zEn"
      },
      "source": [
        "#### Plotting of imbalanced vs banlanced data in model1_m"
      ]
    },
    {
      "cell_type": "code",
      "metadata": {
        "id": "Du2Uwo2z6qQD",
        "colab": {
          "base_uri": "https://localhost:8080/",
          "height": 235
        },
        "outputId": "86edd099-9284-4ce7-d3eb-e28a54bc2981"
      },
      "source": [
        "fig = plt.figure(figsize=(16,4))\n",
        "ax = fig.add_subplot(121)\n",
        "ax.plot(history1_m.history[\"val_loss\"])\n",
        "ax.plot(history1_m_w.history[\"val_loss\"])\n",
        "ax.set_title(\"validation loss\")\n",
        "ax.set_xlabel(\"epochs\")\n",
        "\n",
        "ax2 = fig.add_subplot(122)\n",
        "ax2.plot(history1_m.history[\"val_accuracy\"])\n",
        "ax2.plot(history1_m_w.history[\"val_accuracy\"])\n",
        "ax2.set_title(\"validation accuracy\")\n",
        "ax2.set_xlabel(\"epochs\")\n",
        "ax2.set_ylim(0, 1)\n",
        "\n",
        "plt.show()"
      ],
      "execution_count": null,
      "outputs": [
        {
          "output_type": "display_data",
          "data": {
            "image/png": "[encoded data removed]",
            "text/plain": [
              "<Figure size 1152x288 with 2 Axes>"
            ]
          },
          "metadata": {
            "tags": [],
            "needs_background": "light"
          }
        }
      ]
    },
    {
      "cell_type": "markdown",
      "metadata": {
        "id": "3sqqoRoj7VAY"
      },
      "source": [
        "Balanced dataset and imbalanced dataset have had very similar accuracy.\n",
        "\n"
      ]
    },
    {
      "cell_type": "markdown",
      "metadata": {
        "id": "dYYokSy_6Q3u"
      },
      "source": [
        "### Let's try some more complexed architechtures"
      ]
    },
    {
      "cell_type": "markdown",
      "metadata": {
        "id": "uAgH9yJy6d4y"
      },
      "source": [
        "#### Add more layers "
      ]
    },
    {
      "cell_type": "code",
      "metadata": {
        "id": "Lq5BCapNnGTc",
        "colab": {
          "base_uri": "https://localhost:8080/"
        },
        "outputId": "c889c8f8-6065-473c-a22a-69d066016975"
      },
      "source": [
        "model_mm = Sequential()\n",
        "model_mm.add(Conv2D(input_shape=(48,48,1),filters=128,kernel_size=(3,3),padding=\"same\", activation=\"relu\"))\n",
        "model_mm.add(Dropout(0.5))\n",
        "model_mm.add(Conv2D(filters=64,kernel_size=(3,3),padding=\"same\", activation=\"relu\"))\n",
        "model_mm.add(layers.MaxPool2D(pool_size=(2,2),strides=(2,2)))\n",
        "model_mm.add(Dropout(0.5))\n",
        "model_mm.add(Conv2D(filters=128, kernel_size=(3,3), padding=\"same\", activation=\"relu\"))\n",
        "model_mm.add(Dropout(0.5))\n",
        "model_mm.add(Conv2D(filters=128, kernel_size=(3,3), padding=\"same\", activation=\"relu\"))\n",
        "model_mm.add(layers.MaxPool2D(pool_size=(2,2),strides=(2,2)))\n",
        "model_mm.add(Dropout(0.5))\n",
        "model_mm.add(Conv2D(filters=128, kernel_size=(3,3), padding=\"same\", activation=\"relu\"))\n",
        "model_mm.add(Dropout(0.5))\n",
        "model_mm.add(Conv2D(filters=128, kernel_size=(3,3), padding=\"same\", activation=\"relu\"))\n",
        "model_mm.add(Dropout(0.5))\n",
        "#model_mm.add(Conv2D(filters=256, kernel_size=(3,3), padding=\"same\", activation=\"relu\"))\n",
        "model_mm.add(layers.MaxPool2D(pool_size=(2,2),strides=(2,2)))\n",
        "model_mm.add(Flatten())\n",
        "model_mm.add(Dense(units=256,activation=\"relu\"))\n",
        "#model_mm.add(Dense(units=256,activation=\"relu\"))\n",
        "model_mm.add(Dense(units=7, activation=\"softmax\"))\n",
        "model_mm.summary()\n",
        "\n",
        "opt1=Adam(learning_rate=0.0001)\n",
        "model_mm.summary()\n",
        "model_mm.compile(loss='categorical_crossentropy',\n",
        "              optimizer=opt1,\n",
        "              metrics=['accuracy'])\n",
        "\n",
        "history_mm = model_mm.fit(XN_train, yn_train,\n",
        "                    batch_size=64,\n",
        "                    epochs=100,\n",
        "                    validation_data=(XN_validation, yn_validation))\n"
      ],
      "execution_count": null,
      "outputs": [
        {
          "output_type": "stream",
          "text": [
            "Model: \"sequential_4\"\n",
            "_________________________________________________________________\n",
            "Layer (type)                 Output Shape              Param #   \n",
            "=================================================================\n",
            "conv2d_22 (Conv2D)           (None, 48, 48, 128)       1280      \n",
            "_________________________________________________________________\n",
            "dropout_18 (Dropout)         (None, 48, 48, 128)       0         \n",
            "_________________________________________________________________\n",
            "conv2d_23 (Conv2D)           (None, 48, 48, 64)        73792     \n",
            "_________________________________________________________________\n",
            "max_pooling2d_12 (MaxPooling (None, 24, 24, 64)        0         \n",
            "_________________________________________________________________\n",
            "dropout_19 (Dropout)         (None, 24, 24, 64)        0         \n",
            "_________________________________________________________________\n",
            "conv2d_24 (Conv2D)           (None, 24, 24, 128)       73856     \n",
            "_________________________________________________________________\n",
            "dropout_20 (Dropout)         (None, 24, 24, 128)       0         \n",
            "_________________________________________________________________\n",
            "conv2d_25 (Conv2D)           (None, 24, 24, 128)       147584    \n",
            "_________________________________________________________________\n",
            "max_pooling2d_13 (MaxPooling (None, 12, 12, 128)       0         \n",
            "_________________________________________________________________\n",
            "dropout_21 (Dropout)         (None, 12, 12, 128)       0         \n",
            "_________________________________________________________________\n",
            "conv2d_26 (Conv2D)           (None, 12, 12, 128)       147584    \n",
            "_________________________________________________________________\n",
            "dropout_22 (Dropout)         (None, 12, 12, 128)       0         \n",
            "_________________________________________________________________\n",
            "conv2d_27 (Conv2D)           (None, 12, 12, 128)       147584    \n",
            "_________________________________________________________________\n",
            "dropout_23 (Dropout)         (None, 12, 12, 128)       0         \n",
            "_________________________________________________________________\n",
            "max_pooling2d_14 (MaxPooling (None, 6, 6, 128)         0         \n",
            "_________________________________________________________________\n",
            "flatten_4 (Flatten)          (None, 4608)              0         \n",
            "_________________________________________________________________\n",
            "dense_8 (Dense)              (None, 256)               1179904   \n",
            "_________________________________________________________________\n",
            "dense_9 (Dense)              (None, 7)                 1799      \n",
            "=================================================================\n",
            "Total params: 1,773,383\n",
            "Trainable params: 1,773,383\n",
            "Non-trainable params: 0\n",
            "_________________________________________________________________\n",
            "Model: \"sequential_4\"\n",
            "_________________________________________________________________\n",
            "Layer (type)                 Output Shape              Param #   \n",
            "=================================================================\n",
            "conv2d_22 (Conv2D)           (None, 48, 48, 128)       1280      \n",
            "_________________________________________________________________\n",
            "dropout_18 (Dropout)         (None, 48, 48, 128)       0         \n",
            "_________________________________________________________________\n",
            "conv2d_23 (Conv2D)           (None, 48, 48, 64)        73792     \n",
            "_________________________________________________________________\n",
            "max_pooling2d_12 (MaxPooling (None, 24, 24, 64)        0         \n",
            "_________________________________________________________________\n",
            "dropout_19 (Dropout)         (None, 24, 24, 64)        0         \n",
            "_________________________________________________________________\n",
            "conv2d_24 (Conv2D)           (None, 24, 24, 128)       73856     \n",
            "_________________________________________________________________\n",
            "dropout_20 (Dropout)         (None, 24, 24, 128)       0         \n",
            "_________________________________________________________________\n",
            "conv2d_25 (Conv2D)           (None, 24, 24, 128)       147584    \n",
            "_________________________________________________________________\n",
            "max_pooling2d_13 (MaxPooling (None, 12, 12, 128)       0         \n",
            "_________________________________________________________________\n",
            "dropout_21 (Dropout)         (None, 12, 12, 128)       0         \n",
            "_________________________________________________________________\n",
            "conv2d_26 (Conv2D)           (None, 12, 12, 128)       147584    \n",
            "_________________________________________________________________\n",
            "dropout_22 (Dropout)         (None, 12, 12, 128)       0         \n",
            "_________________________________________________________________\n",
            "conv2d_27 (Conv2D)           (None, 12, 12, 128)       147584    \n",
            "_________________________________________________________________\n",
            "dropout_23 (Dropout)         (None, 12, 12, 128)       0         \n",
            "_________________________________________________________________\n",
            "max_pooling2d_14 (MaxPooling (None, 6, 6, 128)         0         \n",
            "_________________________________________________________________\n",
            "flatten_4 (Flatten)          (None, 4608)              0         \n",
            "_________________________________________________________________\n",
            "dense_8 (Dense)              (None, 256)               1179904   \n",
            "_________________________________________________________________\n",
            "dense_9 (Dense)              (None, 7)                 1799      \n",
            "=================================================================\n",
            "Total params: 1,773,383\n",
            "Trainable params: 1,773,383\n",
            "Non-trainable params: 0\n",
            "_________________________________________________________________\n",
            "Epoch 1/100\n",
            "132/132 [==============================] - 5s 39ms/step - loss: 1.8035 - accuracy: 0.2837 - val_loss: 1.9255 - val_accuracy: 0.3098\n",
            "Epoch 2/100\n",
            "132/132 [==============================] - 5s 38ms/step - loss: 1.7861 - accuracy: 0.2926 - val_loss: 1.9237 - val_accuracy: 0.1886\n",
            "Epoch 3/100\n",
            "132/132 [==============================] - 5s 38ms/step - loss: 1.7720 - accuracy: 0.2967 - val_loss: 1.9221 - val_accuracy: 0.1908\n",
            "Epoch 4/100\n",
            "132/132 [==============================] - 5s 38ms/step - loss: 1.7576 - accuracy: 0.3068 - val_loss: 1.9047 - val_accuracy: 0.3237\n",
            "Epoch 5/100\n",
            "132/132 [==============================] - 5s 38ms/step - loss: 1.7397 - accuracy: 0.3180 - val_loss: 1.8819 - val_accuracy: 0.3430\n",
            "Epoch 6/100\n",
            "132/132 [==============================] - 5s 38ms/step - loss: 1.7048 - accuracy: 0.3475 - val_loss: 1.8627 - val_accuracy: 0.3087\n",
            "Epoch 7/100\n",
            "132/132 [==============================] - 5s 38ms/step - loss: 1.6570 - accuracy: 0.3784 - val_loss: 1.8455 - val_accuracy: 0.3365\n",
            "Epoch 8/100\n",
            "132/132 [==============================] - 5s 39ms/step - loss: 1.6167 - accuracy: 0.3976 - val_loss: 1.8100 - val_accuracy: 0.3644\n",
            "Epoch 9/100\n",
            "132/132 [==============================] - 5s 39ms/step - loss: 1.5876 - accuracy: 0.4117 - val_loss: 1.8099 - val_accuracy: 0.2808\n",
            "Epoch 10/100\n",
            "132/132 [==============================] - 5s 39ms/step - loss: 1.5560 - accuracy: 0.4205 - val_loss: 1.7604 - val_accuracy: 0.3751\n",
            "Epoch 11/100\n",
            "132/132 [==============================] - 5s 38ms/step - loss: 1.5227 - accuracy: 0.4362 - val_loss: 1.7526 - val_accuracy: 0.3655\n",
            "Epoch 12/100\n",
            "132/132 [==============================] - 5s 38ms/step - loss: 1.4972 - accuracy: 0.4450 - val_loss: 1.7684 - val_accuracy: 0.3183\n",
            "Epoch 13/100\n",
            "132/132 [==============================] - 5s 38ms/step - loss: 1.4722 - accuracy: 0.4506 - val_loss: 1.6888 - val_accuracy: 0.3891\n",
            "Epoch 14/100\n",
            "132/132 [==============================] - 5s 38ms/step - loss: 1.4551 - accuracy: 0.4627 - val_loss: 1.6743 - val_accuracy: 0.3901\n",
            "Epoch 15/100\n",
            "132/132 [==============================] - 5s 38ms/step - loss: 1.4281 - accuracy: 0.4697 - val_loss: 1.6594 - val_accuracy: 0.3805\n",
            "Epoch 16/100\n",
            "132/132 [==============================] - 5s 38ms/step - loss: 1.4013 - accuracy: 0.4774 - val_loss: 1.6205 - val_accuracy: 0.3934\n",
            "Epoch 17/100\n",
            "132/132 [==============================] - 5s 38ms/step - loss: 1.3796 - accuracy: 0.4923 - val_loss: 1.5483 - val_accuracy: 0.4352\n",
            "Epoch 18/100\n",
            "132/132 [==============================] - 5s 38ms/step - loss: 1.3584 - accuracy: 0.4959 - val_loss: 1.5182 - val_accuracy: 0.4352\n",
            "Epoch 19/100\n",
            "132/132 [==============================] - 5s 38ms/step - loss: 1.3346 - accuracy: 0.5089 - val_loss: 1.4911 - val_accuracy: 0.4630\n",
            "Epoch 20/100\n",
            "132/132 [==============================] - 5s 38ms/step - loss: 1.3220 - accuracy: 0.5098 - val_loss: 1.4851 - val_accuracy: 0.4620\n",
            "Epoch 21/100\n",
            "132/132 [==============================] - 5s 38ms/step - loss: 1.2987 - accuracy: 0.5220 - val_loss: 1.4235 - val_accuracy: 0.4823\n",
            "Epoch 22/100\n",
            "132/132 [==============================] - 5s 38ms/step - loss: 1.2889 - accuracy: 0.5221 - val_loss: 1.4487 - val_accuracy: 0.4695\n",
            "Epoch 23/100\n",
            "132/132 [==============================] - 5s 38ms/step - loss: 1.2712 - accuracy: 0.5328 - val_loss: 1.4070 - val_accuracy: 0.4920\n",
            "Epoch 24/100\n",
            "132/132 [==============================] - 5s 38ms/step - loss: 1.2574 - accuracy: 0.5403 - val_loss: 1.3998 - val_accuracy: 0.4823\n",
            "Epoch 25/100\n",
            "132/132 [==============================] - 5s 38ms/step - loss: 1.2420 - accuracy: 0.5434 - val_loss: 1.3362 - val_accuracy: 0.5166\n",
            "Epoch 26/100\n",
            "132/132 [==============================] - 5s 38ms/step - loss: 1.2276 - accuracy: 0.5481 - val_loss: 1.3255 - val_accuracy: 0.5113\n",
            "Epoch 27/100\n",
            "132/132 [==============================] - 5s 38ms/step - loss: 1.2070 - accuracy: 0.5534 - val_loss: 1.3560 - val_accuracy: 0.4995\n",
            "Epoch 28/100\n",
            "132/132 [==============================] - 5s 38ms/step - loss: 1.2000 - accuracy: 0.5577 - val_loss: 1.3360 - val_accuracy: 0.5059\n",
            "Epoch 29/100\n",
            "132/132 [==============================] - 5s 38ms/step - loss: 1.1814 - accuracy: 0.5694 - val_loss: 1.3320 - val_accuracy: 0.5177\n",
            "Epoch 30/100\n",
            "132/132 [==============================] - 5s 38ms/step - loss: 1.1634 - accuracy: 0.5640 - val_loss: 1.2941 - val_accuracy: 0.5070\n",
            "Epoch 31/100\n",
            "132/132 [==============================] - 5s 38ms/step - loss: 1.1584 - accuracy: 0.5722 - val_loss: 1.2909 - val_accuracy: 0.5220\n",
            "Epoch 32/100\n",
            "132/132 [==============================] - 5s 38ms/step - loss: 1.1363 - accuracy: 0.5830 - val_loss: 1.2553 - val_accuracy: 0.5273\n",
            "Epoch 33/100\n",
            "132/132 [==============================] - 5s 38ms/step - loss: 1.1321 - accuracy: 0.5856 - val_loss: 1.2444 - val_accuracy: 0.5498\n",
            "Epoch 34/100\n",
            "132/132 [==============================] - 5s 38ms/step - loss: 1.1084 - accuracy: 0.5933 - val_loss: 1.2284 - val_accuracy: 0.5477\n",
            "Epoch 35/100\n",
            "132/132 [==============================] - 5s 38ms/step - loss: 1.1018 - accuracy: 0.5934 - val_loss: 1.2447 - val_accuracy: 0.5338\n",
            "Epoch 36/100\n",
            "132/132 [==============================] - 5s 38ms/step - loss: 1.0816 - accuracy: 0.6049 - val_loss: 1.2258 - val_accuracy: 0.5552\n",
            "Epoch 37/100\n",
            "132/132 [==============================] - 5s 38ms/step - loss: 1.0714 - accuracy: 0.6077 - val_loss: 1.2116 - val_accuracy: 0.5584\n",
            "Epoch 38/100\n",
            "132/132 [==============================] - 5s 38ms/step - loss: 1.0599 - accuracy: 0.6161 - val_loss: 1.1943 - val_accuracy: 0.5745\n",
            "Epoch 39/100\n",
            "132/132 [==============================] - 5s 38ms/step - loss: 1.0434 - accuracy: 0.6247 - val_loss: 1.1829 - val_accuracy: 0.5691\n",
            "Epoch 40/100\n",
            "132/132 [==============================] - 5s 38ms/step - loss: 1.0312 - accuracy: 0.6272 - val_loss: 1.1977 - val_accuracy: 0.5563\n",
            "Epoch 41/100\n",
            "132/132 [==============================] - 5s 38ms/step - loss: 1.0159 - accuracy: 0.6262 - val_loss: 1.1837 - val_accuracy: 0.5777\n",
            "Epoch 42/100\n",
            "132/132 [==============================] - 5s 38ms/step - loss: 0.9958 - accuracy: 0.6430 - val_loss: 1.1674 - val_accuracy: 0.5573\n",
            "Epoch 43/100\n",
            "132/132 [==============================] - 5s 38ms/step - loss: 0.9817 - accuracy: 0.6440 - val_loss: 1.1596 - val_accuracy: 0.5648\n",
            "Epoch 44/100\n",
            "132/132 [==============================] - 5s 38ms/step - loss: 0.9588 - accuracy: 0.6499 - val_loss: 1.1515 - val_accuracy: 0.5841\n",
            "Epoch 45/100\n",
            "132/132 [==============================] - 5s 39ms/step - loss: 0.9473 - accuracy: 0.6602 - val_loss: 1.1581 - val_accuracy: 0.5798\n",
            "Epoch 46/100\n",
            "132/132 [==============================] - 5s 38ms/step - loss: 0.9291 - accuracy: 0.6648 - val_loss: 1.1364 - val_accuracy: 0.5874\n",
            "Epoch 47/100\n",
            "132/132 [==============================] - 5s 38ms/step - loss: 0.9250 - accuracy: 0.6648 - val_loss: 1.1527 - val_accuracy: 0.5906\n",
            "Epoch 48/100\n",
            "132/132 [==============================] - 5s 38ms/step - loss: 0.8955 - accuracy: 0.6802 - val_loss: 1.1554 - val_accuracy: 0.5841\n",
            "Epoch 49/100\n",
            "132/132 [==============================] - 5s 38ms/step - loss: 0.8874 - accuracy: 0.6818 - val_loss: 1.1299 - val_accuracy: 0.5852\n",
            "Epoch 50/100\n",
            "132/132 [==============================] - 5s 38ms/step - loss: 0.8696 - accuracy: 0.6917 - val_loss: 1.1298 - val_accuracy: 0.5788\n",
            "Epoch 51/100\n",
            "132/132 [==============================] - 5s 38ms/step - loss: 0.8450 - accuracy: 0.6962 - val_loss: 1.1280 - val_accuracy: 0.5852\n",
            "Epoch 52/100\n",
            "132/132 [==============================] - 5s 38ms/step - loss: 0.8236 - accuracy: 0.7042 - val_loss: 1.1633 - val_accuracy: 0.5841\n",
            "Epoch 53/100\n",
            "132/132 [==============================] - 5s 38ms/step - loss: 0.8103 - accuracy: 0.7091 - val_loss: 1.1405 - val_accuracy: 0.5852\n",
            "Epoch 54/100\n",
            "132/132 [==============================] - 5s 38ms/step - loss: 0.7983 - accuracy: 0.7115 - val_loss: 1.1425 - val_accuracy: 0.5884\n",
            "Epoch 55/100\n",
            "132/132 [==============================] - 5s 38ms/step - loss: 0.7749 - accuracy: 0.7240 - val_loss: 1.1587 - val_accuracy: 0.5702\n",
            "Epoch 56/100\n",
            "132/132 [==============================] - 5s 38ms/step - loss: 0.7696 - accuracy: 0.7157 - val_loss: 1.1292 - val_accuracy: 0.5949\n",
            "Epoch 57/100\n",
            "132/132 [==============================] - 5s 38ms/step - loss: 0.7458 - accuracy: 0.7300 - val_loss: 1.1253 - val_accuracy: 0.5863\n",
            "Epoch 58/100\n",
            "132/132 [==============================] - 5s 38ms/step - loss: 0.7269 - accuracy: 0.7425 - val_loss: 1.1499 - val_accuracy: 0.5681\n",
            "Epoch 59/100\n",
            "132/132 [==============================] - 5s 38ms/step - loss: 0.7096 - accuracy: 0.7485 - val_loss: 1.1263 - val_accuracy: 0.5927\n",
            "Epoch 60/100\n",
            "132/132 [==============================] - 5s 38ms/step - loss: 0.6959 - accuracy: 0.7470 - val_loss: 1.1250 - val_accuracy: 0.5798\n",
            "Epoch 61/100\n",
            "132/132 [==============================] - 5s 38ms/step - loss: 0.6872 - accuracy: 0.7527 - val_loss: 1.1285 - val_accuracy: 0.5949\n",
            "Epoch 62/100\n",
            "132/132 [==============================] - 5s 38ms/step - loss: 0.6643 - accuracy: 0.7644 - val_loss: 1.1256 - val_accuracy: 0.5841\n",
            "Epoch 63/100\n",
            "132/132 [==============================] - 5s 38ms/step - loss: 0.6462 - accuracy: 0.7690 - val_loss: 1.1650 - val_accuracy: 0.5681\n",
            "Epoch 64/100\n",
            "132/132 [==============================] - 5s 38ms/step - loss: 0.6482 - accuracy: 0.7653 - val_loss: 1.1502 - val_accuracy: 0.5884\n",
            "Epoch 65/100\n",
            "132/132 [==============================] - 5s 38ms/step - loss: 0.6270 - accuracy: 0.7727 - val_loss: 1.1332 - val_accuracy: 0.5938\n",
            "Epoch 66/100\n",
            "132/132 [==============================] - 5s 38ms/step - loss: 0.6045 - accuracy: 0.7818 - val_loss: 1.1536 - val_accuracy: 0.5970\n",
            "Epoch 67/100\n",
            "132/132 [==============================] - 5s 38ms/step - loss: 0.5985 - accuracy: 0.7828 - val_loss: 1.1287 - val_accuracy: 0.5959\n",
            "Epoch 68/100\n",
            "132/132 [==============================] - 5s 38ms/step - loss: 0.5856 - accuracy: 0.7850 - val_loss: 1.1414 - val_accuracy: 0.5884\n",
            "Epoch 69/100\n",
            "132/132 [==============================] - 5s 38ms/step - loss: 0.5623 - accuracy: 0.8015 - val_loss: 1.1529 - val_accuracy: 0.5916\n",
            "Epoch 70/100\n",
            "132/132 [==============================] - 5s 38ms/step - loss: 0.5485 - accuracy: 0.8012 - val_loss: 1.1456 - val_accuracy: 0.5895\n",
            "Epoch 71/100\n",
            "132/132 [==============================] - 5s 38ms/step - loss: 0.5231 - accuracy: 0.8086 - val_loss: 1.1562 - val_accuracy: 0.5949\n",
            "Epoch 72/100\n",
            "132/132 [==============================] - 5s 38ms/step - loss: 0.5156 - accuracy: 0.8108 - val_loss: 1.1732 - val_accuracy: 0.5959\n",
            "Epoch 73/100\n",
            "132/132 [==============================] - 5s 38ms/step - loss: 0.4912 - accuracy: 0.8248 - val_loss: 1.1884 - val_accuracy: 0.5895\n",
            "Epoch 74/100\n",
            "132/132 [==============================] - 5s 38ms/step - loss: 0.4875 - accuracy: 0.8255 - val_loss: 1.2135 - val_accuracy: 0.5916\n",
            "Epoch 75/100\n",
            "132/132 [==============================] - 5s 38ms/step - loss: 0.4849 - accuracy: 0.8195 - val_loss: 1.2311 - val_accuracy: 0.5820\n",
            "Epoch 76/100\n",
            "132/132 [==============================] - 5s 38ms/step - loss: 0.4708 - accuracy: 0.8299 - val_loss: 1.2070 - val_accuracy: 0.5874\n",
            "Epoch 77/100\n",
            "132/132 [==============================] - 5s 38ms/step - loss: 0.4609 - accuracy: 0.8312 - val_loss: 1.2159 - val_accuracy: 0.5745\n",
            "Epoch 78/100\n",
            "132/132 [==============================] - 5s 38ms/step - loss: 0.4393 - accuracy: 0.8398 - val_loss: 1.2240 - val_accuracy: 0.5841\n",
            "Epoch 79/100\n",
            "132/132 [==============================] - 5s 38ms/step - loss: 0.4282 - accuracy: 0.8460 - val_loss: 1.2372 - val_accuracy: 0.5884\n",
            "Epoch 80/100\n",
            "132/132 [==============================] - 5s 38ms/step - loss: 0.4218 - accuracy: 0.8449 - val_loss: 1.2199 - val_accuracy: 0.5884\n",
            "Epoch 81/100\n",
            "132/132 [==============================] - 5s 38ms/step - loss: 0.4143 - accuracy: 0.8503 - val_loss: 1.2566 - val_accuracy: 0.5841\n",
            "Epoch 82/100\n",
            "132/132 [==============================] - 5s 38ms/step - loss: 0.4042 - accuracy: 0.8509 - val_loss: 1.2733 - val_accuracy: 0.5927\n",
            "Epoch 83/100\n",
            "132/132 [==============================] - 5s 38ms/step - loss: 0.3887 - accuracy: 0.8613 - val_loss: 1.2717 - val_accuracy: 0.5895\n",
            "Epoch 84/100\n",
            "132/132 [==============================] - 5s 38ms/step - loss: 0.3802 - accuracy: 0.8641 - val_loss: 1.2902 - val_accuracy: 0.5756\n",
            "Epoch 85/100\n",
            "132/132 [==============================] - 5s 38ms/step - loss: 0.3674 - accuracy: 0.8650 - val_loss: 1.2898 - val_accuracy: 0.5798\n",
            "Epoch 86/100\n",
            "132/132 [==============================] - 5s 38ms/step - loss: 0.3637 - accuracy: 0.8674 - val_loss: 1.2792 - val_accuracy: 0.5895\n",
            "Epoch 87/100\n",
            "132/132 [==============================] - 5s 38ms/step - loss: 0.3522 - accuracy: 0.8681 - val_loss: 1.2664 - val_accuracy: 0.6056\n",
            "Epoch 88/100\n",
            "132/132 [==============================] - 5s 38ms/step - loss: 0.3407 - accuracy: 0.8758 - val_loss: 1.3237 - val_accuracy: 0.5831\n",
            "Epoch 89/100\n",
            "132/132 [==============================] - 5s 38ms/step - loss: 0.3284 - accuracy: 0.8804 - val_loss: 1.3090 - val_accuracy: 0.5949\n",
            "Epoch 90/100\n",
            "132/132 [==============================] - 5s 38ms/step - loss: 0.3075 - accuracy: 0.8889 - val_loss: 1.3500 - val_accuracy: 0.5884\n",
            "Epoch 91/100\n",
            "132/132 [==============================] - 5s 38ms/step - loss: 0.3039 - accuracy: 0.8872 - val_loss: 1.3540 - val_accuracy: 0.5906\n",
            "Epoch 92/100\n",
            "132/132 [==============================] - 5s 38ms/step - loss: 0.3219 - accuracy: 0.8812 - val_loss: 1.3570 - val_accuracy: 0.5777\n",
            "Epoch 93/100\n",
            "132/132 [==============================] - 5s 38ms/step - loss: 0.2917 - accuracy: 0.8936 - val_loss: 1.3570 - val_accuracy: 0.5852\n",
            "Epoch 94/100\n",
            "132/132 [==============================] - 5s 38ms/step - loss: 0.2825 - accuracy: 0.8989 - val_loss: 1.4039 - val_accuracy: 0.5874\n",
            "Epoch 95/100\n",
            "132/132 [==============================] - 5s 38ms/step - loss: 0.2918 - accuracy: 0.8962 - val_loss: 1.3787 - val_accuracy: 0.5777\n",
            "Epoch 96/100\n",
            "132/132 [==============================] - 5s 38ms/step - loss: 0.2771 - accuracy: 0.8996 - val_loss: 1.4095 - val_accuracy: 0.5906\n",
            "Epoch 97/100\n",
            "132/132 [==============================] - 5s 38ms/step - loss: 0.2656 - accuracy: 0.9017 - val_loss: 1.4325 - val_accuracy: 0.5884\n",
            "Epoch 98/100\n",
            "132/132 [==============================] - 5s 38ms/step - loss: 0.2550 - accuracy: 0.9090 - val_loss: 1.4511 - val_accuracy: 0.5820\n",
            "Epoch 99/100\n",
            "132/132 [==============================] - 5s 38ms/step - loss: 0.2631 - accuracy: 0.9028 - val_loss: 1.4332 - val_accuracy: 0.5831\n",
            "Epoch 100/100\n",
            "132/132 [==============================] - 5s 38ms/step - loss: 0.2437 - accuracy: 0.9110 - val_loss: 1.4798 - val_accuracy: 0.5820\n"
          ],
          "name": "stdout"
        }
      ]
    },
    {
      "cell_type": "markdown",
      "metadata": {
        "id": "6zvpZ9PD6mq7"
      },
      "source": [
        "Validation accuracy remained in 58% while training accuracy reached to 91%. Overfitted model."
      ]
    },
    {
      "cell_type": "markdown",
      "metadata": {
        "id": "uLCTELIUIb_I"
      },
      "source": [
        "#### Transfer learning use VGG16\n",
        "(I just build a VGG from scratch as I had trouble to feed grayscale data to RGB formatted pretrain models)"
      ]
    },
    {
      "cell_type": "code",
      "metadata": {
        "id": "PaRs6q3hV9E9",
        "colab": {
          "base_uri": "https://localhost:8080/"
        },
        "outputId": "db48fc30-e92d-43ca-bb0f-405841fa0293"
      },
      "source": [
        "model = Sequential()\n",
        "model.add(Conv2D(input_shape=(48,48,1),filters=64,kernel_size=(3,3),padding=\"same\", activation=\"relu\"))\n",
        "model.add(Conv2D(filters=64,kernel_size=(3,3),padding=\"same\", activation=\"relu\"))\n",
        "model.add(layers.MaxPool2D(pool_size=(2,2),strides=(2,2)))\n",
        "model.add(Conv2D(filters=128, kernel_size=(3,3), padding=\"same\", activation=\"relu\"))\n",
        "model.add(Conv2D(filters=128, kernel_size=(3,3), padding=\"same\", activation=\"relu\"))\n",
        "model.add(layers.MaxPool2D(pool_size=(2,2),strides=(2,2)))\n",
        "model.add(Conv2D(filters=256, kernel_size=(3,3), padding=\"same\", activation=\"relu\"))\n",
        "model.add(Conv2D(filters=256, kernel_size=(3,3), padding=\"same\", activation=\"relu\"))\n",
        "model.add(Conv2D(filters=256, kernel_size=(3,3), padding=\"same\", activation=\"relu\"))\n",
        "model.add(layers.MaxPool2D(pool_size=(2,2),strides=(2,2)))\n",
        "model.add(Conv2D(filters=512, kernel_size=(3,3), padding=\"same\", activation=\"relu\"))\n",
        "model.add(Conv2D(filters=512, kernel_size=(3,3), padding=\"same\", activation=\"relu\"))\n",
        "model.add(Conv2D(filters=512, kernel_size=(3,3), padding=\"same\", activation=\"relu\"))\n",
        "model.add(layers.MaxPool2D(pool_size=(2,2),strides=(2,2)))\n",
        "model.add(Conv2D(filters=512, kernel_size=(3,3), padding=\"same\", activation=\"relu\"))\n",
        "model.add(Conv2D(filters=512, kernel_size=(3,3), padding=\"same\", activation=\"relu\"))\n",
        "model.add(Conv2D(filters=512, kernel_size=(3,3), padding=\"same\", activation=\"relu\"))\n",
        "model.add(layers.MaxPool2D(pool_size=(2,2),strides=(2,2)))\n",
        "model.add(Flatten())\n",
        "model.add(Dense(units=4096,activation=\"relu\"))\n",
        "model.add(Dense(units=4096,activation=\"relu\"))\n",
        "model.add(Dense(units=7, activation=\"softmax\"))\n",
        "model.summary()\n"
      ],
      "execution_count": null,
      "outputs": [
        {
          "output_type": "stream",
          "text": [
            "Model: \"sequential_8\"\n",
            "_________________________________________________________________\n",
            "Layer (type)                 Output Shape              Param #   \n",
            "=================================================================\n",
            "conv2d_36 (Conv2D)           (None, 48, 48, 64)        640       \n",
            "_________________________________________________________________\n",
            "conv2d_37 (Conv2D)           (None, 48, 48, 64)        36928     \n",
            "_________________________________________________________________\n",
            "max_pooling2d_32 (MaxPooling (None, 24, 24, 64)        0         \n",
            "_________________________________________________________________\n",
            "conv2d_38 (Conv2D)           (None, 24, 24, 128)       73856     \n",
            "_________________________________________________________________\n",
            "conv2d_39 (Conv2D)           (None, 24, 24, 128)       147584    \n",
            "_________________________________________________________________\n",
            "max_pooling2d_33 (MaxPooling (None, 12, 12, 128)       0         \n",
            "_________________________________________________________________\n",
            "conv2d_40 (Conv2D)           (None, 12, 12, 256)       295168    \n",
            "_________________________________________________________________\n",
            "conv2d_41 (Conv2D)           (None, 12, 12, 256)       590080    \n",
            "_________________________________________________________________\n",
            "conv2d_42 (Conv2D)           (None, 12, 12, 256)       590080    \n",
            "_________________________________________________________________\n",
            "max_pooling2d_34 (MaxPooling (None, 6, 6, 256)         0         \n",
            "_________________________________________________________________\n",
            "conv2d_43 (Conv2D)           (None, 6, 6, 512)         1180160   \n",
            "_________________________________________________________________\n",
            "conv2d_44 (Conv2D)           (None, 6, 6, 512)         2359808   \n",
            "_________________________________________________________________\n",
            "conv2d_45 (Conv2D)           (None, 6, 6, 512)         2359808   \n",
            "_________________________________________________________________\n",
            "max_pooling2d_35 (MaxPooling (None, 3, 3, 512)         0         \n",
            "_________________________________________________________________\n",
            "conv2d_46 (Conv2D)           (None, 3, 3, 512)         2359808   \n",
            "_________________________________________________________________\n",
            "conv2d_47 (Conv2D)           (None, 3, 3, 512)         2359808   \n",
            "_________________________________________________________________\n",
            "conv2d_48 (Conv2D)           (None, 3, 3, 512)         2359808   \n",
            "_________________________________________________________________\n",
            "max_pooling2d_36 (MaxPooling (None, 1, 1, 512)         0         \n",
            "_________________________________________________________________\n",
            "flatten_4 (Flatten)          (None, 512)               0         \n",
            "_________________________________________________________________\n",
            "dense_7 (Dense)              (None, 4096)              2101248   \n",
            "_________________________________________________________________\n",
            "dense_8 (Dense)              (None, 4096)              16781312  \n",
            "_________________________________________________________________\n",
            "dense_9 (Dense)              (None, 7)                 28679     \n",
            "=================================================================\n",
            "Total params: 33,624,775\n",
            "Trainable params: 33,624,775\n",
            "Non-trainable params: 0\n",
            "_________________________________________________________________\n"
          ],
          "name": "stdout"
        }
      ]
    },
    {
      "cell_type": "code",
      "metadata": {
        "id": "9YRHYrZFrut_",
        "colab": {
          "base_uri": "https://localhost:8080/"
        },
        "outputId": "cfa5c0ad-7697-4f37-caf9-9eac74906a06"
      },
      "source": [
        "from keras.callbacks import ModelCheckpoint, EarlyStopping\n",
        "opt = Adam(lr=0.0001)\n",
        "model.compile(optimizer=opt, loss='categorical_crossentropy', metrics=['accuracy'])\n",
        "#checkpoint = ModelCheckpoint(monitor='val_acc', verbose=1, save_best_only=True, save_weights_only=False, mode='auto', period=1)\n",
        "#early = EarlyStopping(monitor='val_acc', min_delta=0, patience=20, verbose=1, mode='auto')\n",
        "#reduce_lr = ReduceLROnPlateau(monitor='val_loss', factor=0.2,\n",
        "                             # patience=5, min_lr=0.0001)\n",
        "history3 = model.fit(XN_train, yn_train,\n",
        "                    batch_size=100,\n",
        "                    epochs=100,\n",
        "                    validation_data=(XN_validation, yn_validation))\n",
        "                     #callbacks=[reduce_lr])"
      ],
      "execution_count": null,
      "outputs": [
        {
          "output_type": "stream",
          "text": [
            "Epoch 1/100\n",
            " 2/84 [..............................] - ETA: 3s - loss: 1.9450 - accuracy: 0.2150WARNING:tensorflow:Callbacks method `on_train_batch_end` is slow compared to the batch time (batch time: 0.0290s vs `on_train_batch_end` time: 0.0574s). Check your callbacks.\n",
            "84/84 [==============================] - 9s 102ms/step - loss: 1.8172 - accuracy: 0.2783 - val_loss: 1.7829 - val_accuracy: 0.3108\n",
            "Epoch 2/100\n",
            "84/84 [==============================] - 8s 89ms/step - loss: 1.7912 - accuracy: 0.2914 - val_loss: 1.7831 - val_accuracy: 0.3108\n",
            "Epoch 3/100\n",
            "84/84 [==============================] - 8s 90ms/step - loss: 1.7636 - accuracy: 0.2943 - val_loss: 1.6235 - val_accuracy: 0.3623\n",
            "Epoch 4/100\n",
            "84/84 [==============================] - 8s 90ms/step - loss: 1.5466 - accuracy: 0.4091 - val_loss: 1.5000 - val_accuracy: 0.4126\n",
            "Epoch 5/100\n",
            "84/84 [==============================] - 8s 91ms/step - loss: 1.4362 - accuracy: 0.4584 - val_loss: 1.4225 - val_accuracy: 0.4737\n",
            "Epoch 6/100\n",
            "84/84 [==============================] - 8s 91ms/step - loss: 1.3552 - accuracy: 0.4903 - val_loss: 1.3484 - val_accuracy: 0.4962\n",
            "Epoch 7/100\n",
            "84/84 [==============================] - 8s 92ms/step - loss: 1.2817 - accuracy: 0.5097 - val_loss: 1.2487 - val_accuracy: 0.5059\n",
            "Epoch 8/100\n",
            "84/84 [==============================] - 8s 92ms/step - loss: 1.2148 - accuracy: 0.5422 - val_loss: 1.2763 - val_accuracy: 0.5198\n",
            "Epoch 9/100\n",
            "84/84 [==============================] - 8s 92ms/step - loss: 1.1511 - accuracy: 0.5657 - val_loss: 1.2012 - val_accuracy: 0.5520\n",
            "Epoch 10/100\n",
            "84/84 [==============================] - 8s 92ms/step - loss: 1.0887 - accuracy: 0.5873 - val_loss: 1.1771 - val_accuracy: 0.5434\n",
            "Epoch 11/100\n",
            "84/84 [==============================] - 8s 93ms/step - loss: 1.0104 - accuracy: 0.6137 - val_loss: 1.2098 - val_accuracy: 0.5756\n",
            "Epoch 12/100\n",
            "84/84 [==============================] - 8s 93ms/step - loss: 0.9485 - accuracy: 0.6404 - val_loss: 1.2026 - val_accuracy: 0.5745\n",
            "Epoch 13/100\n",
            "84/84 [==============================] - 8s 93ms/step - loss: 0.8925 - accuracy: 0.6598 - val_loss: 1.1895 - val_accuracy: 0.5681\n",
            "Epoch 14/100\n",
            "84/84 [==============================] - 8s 94ms/step - loss: 0.8144 - accuracy: 0.6851 - val_loss: 1.2210 - val_accuracy: 0.5766\n",
            "Epoch 15/100\n",
            "84/84 [==============================] - 8s 94ms/step - loss: 0.7525 - accuracy: 0.7128 - val_loss: 1.3606 - val_accuracy: 0.5263\n",
            "Epoch 16/100\n",
            "84/84 [==============================] - 8s 94ms/step - loss: 0.6803 - accuracy: 0.7429 - val_loss: 1.3863 - val_accuracy: 0.5573\n",
            "Epoch 17/100\n",
            "84/84 [==============================] - 8s 95ms/step - loss: 0.6010 - accuracy: 0.7707 - val_loss: 1.3797 - val_accuracy: 0.5734\n",
            "Epoch 18/100\n",
            "84/84 [==============================] - 8s 94ms/step - loss: 0.5700 - accuracy: 0.7807 - val_loss: 1.4506 - val_accuracy: 0.5423\n",
            "Epoch 19/100\n",
            "84/84 [==============================] - 8s 94ms/step - loss: 0.5089 - accuracy: 0.8085 - val_loss: 1.6227 - val_accuracy: 0.5423\n",
            "Epoch 20/100\n",
            "84/84 [==============================] - 8s 94ms/step - loss: 0.4207 - accuracy: 0.8419 - val_loss: 1.6976 - val_accuracy: 0.5627\n",
            "Epoch 21/100\n",
            "84/84 [==============================] - 8s 95ms/step - loss: 0.3914 - accuracy: 0.8493 - val_loss: 1.6341 - val_accuracy: 0.5723\n",
            "Epoch 22/100\n",
            "84/84 [==============================] - 8s 95ms/step - loss: 0.3130 - accuracy: 0.8831 - val_loss: 1.9050 - val_accuracy: 0.5659\n",
            "Epoch 23/100\n",
            "84/84 [==============================] - 8s 95ms/step - loss: 0.2859 - accuracy: 0.8971 - val_loss: 1.8485 - val_accuracy: 0.5713\n",
            "Epoch 24/100\n",
            "84/84 [==============================] - 8s 95ms/step - loss: 0.2412 - accuracy: 0.9148 - val_loss: 1.9687 - val_accuracy: 0.5466\n",
            "Epoch 25/100\n",
            "84/84 [==============================] - 8s 95ms/step - loss: 0.2371 - accuracy: 0.9140 - val_loss: 2.0587 - val_accuracy: 0.5595\n",
            "Epoch 26/100\n",
            "84/84 [==============================] - 8s 95ms/step - loss: 0.1804 - accuracy: 0.9403 - val_loss: 2.2027 - val_accuracy: 0.5520\n",
            "Epoch 27/100\n",
            "84/84 [==============================] - 8s 96ms/step - loss: 0.1608 - accuracy: 0.9456 - val_loss: 2.1938 - val_accuracy: 0.5627\n",
            "Epoch 28/100\n",
            "84/84 [==============================] - 8s 96ms/step - loss: 0.1417 - accuracy: 0.9503 - val_loss: 2.0954 - val_accuracy: 0.5831\n",
            "Epoch 29/100\n",
            "84/84 [==============================] - 8s 96ms/step - loss: 0.1368 - accuracy: 0.9524 - val_loss: 2.3624 - val_accuracy: 0.5916\n",
            "Epoch 30/100\n",
            "84/84 [==============================] - 8s 96ms/step - loss: 0.1346 - accuracy: 0.9540 - val_loss: 2.3456 - val_accuracy: 0.5573\n",
            "Epoch 31/100\n",
            "84/84 [==============================] - 8s 96ms/step - loss: 0.1147 - accuracy: 0.9588 - val_loss: 2.5939 - val_accuracy: 0.5734\n",
            "Epoch 32/100\n",
            "84/84 [==============================] - 8s 96ms/step - loss: 0.1018 - accuracy: 0.9653 - val_loss: 2.6212 - val_accuracy: 0.5466\n",
            "Epoch 33/100\n",
            "84/84 [==============================] - 8s 96ms/step - loss: 0.0970 - accuracy: 0.9644 - val_loss: 2.6055 - val_accuracy: 0.5681\n",
            "Epoch 34/100\n",
            "84/84 [==============================] - 8s 96ms/step - loss: 0.0864 - accuracy: 0.9725 - val_loss: 2.6355 - val_accuracy: 0.5681\n",
            "Epoch 35/100\n",
            "84/84 [==============================] - 8s 96ms/step - loss: 0.0875 - accuracy: 0.9707 - val_loss: 2.4441 - val_accuracy: 0.5766\n",
            "Epoch 36/100\n",
            "84/84 [==============================] - 8s 96ms/step - loss: 0.0817 - accuracy: 0.9726 - val_loss: 2.6225 - val_accuracy: 0.5766\n",
            "Epoch 37/100\n",
            "84/84 [==============================] - 8s 96ms/step - loss: 0.0671 - accuracy: 0.9775 - val_loss: 2.7083 - val_accuracy: 0.5809\n",
            "Epoch 38/100\n",
            "84/84 [==============================] - 8s 96ms/step - loss: 0.0915 - accuracy: 0.9714 - val_loss: 2.4162 - val_accuracy: 0.5863\n",
            "Epoch 39/100\n",
            "84/84 [==============================] - 8s 96ms/step - loss: 0.0752 - accuracy: 0.9764 - val_loss: 2.7902 - val_accuracy: 0.5606\n",
            "Epoch 40/100\n",
            "84/84 [==============================] - 8s 96ms/step - loss: 0.0715 - accuracy: 0.9765 - val_loss: 2.7677 - val_accuracy: 0.5627\n",
            "Epoch 41/100\n",
            "84/84 [==============================] - 8s 96ms/step - loss: 0.0524 - accuracy: 0.9838 - val_loss: 2.8024 - val_accuracy: 0.5831\n",
            "Epoch 42/100\n",
            "84/84 [==============================] - 8s 96ms/step - loss: 0.0490 - accuracy: 0.9838 - val_loss: 2.6768 - val_accuracy: 0.5809\n",
            "Epoch 43/100\n",
            "84/84 [==============================] - 8s 97ms/step - loss: 0.0560 - accuracy: 0.9834 - val_loss: 2.6515 - val_accuracy: 0.5723\n",
            "Epoch 44/100\n",
            "84/84 [==============================] - 8s 96ms/step - loss: 0.0515 - accuracy: 0.9834 - val_loss: 2.6896 - val_accuracy: 0.5616\n",
            "Epoch 45/100\n",
            "84/84 [==============================] - 8s 97ms/step - loss: 0.0627 - accuracy: 0.9817 - val_loss: 2.4916 - val_accuracy: 0.5874\n",
            "Epoch 46/100\n",
            "84/84 [==============================] - 8s 97ms/step - loss: 0.0757 - accuracy: 0.9740 - val_loss: 2.3565 - val_accuracy: 0.5820\n",
            "Epoch 47/100\n",
            "84/84 [==============================] - 8s 97ms/step - loss: 0.0649 - accuracy: 0.9790 - val_loss: 2.4419 - val_accuracy: 0.5723\n",
            "Epoch 48/100\n",
            "84/84 [==============================] - 8s 97ms/step - loss: 0.0651 - accuracy: 0.9794 - val_loss: 2.7040 - val_accuracy: 0.5745\n",
            "Epoch 49/100\n",
            "84/84 [==============================] - 8s 97ms/step - loss: 0.0589 - accuracy: 0.9815 - val_loss: 2.6417 - val_accuracy: 0.5756\n",
            "Epoch 50/100\n",
            "84/84 [==============================] - 8s 97ms/step - loss: 0.0445 - accuracy: 0.9873 - val_loss: 2.6760 - val_accuracy: 0.5970\n",
            "Epoch 51/100\n",
            "84/84 [==============================] - 8s 97ms/step - loss: 0.0420 - accuracy: 0.9857 - val_loss: 2.8252 - val_accuracy: 0.5766\n",
            "Epoch 52/100\n",
            "84/84 [==============================] - 8s 97ms/step - loss: 0.0504 - accuracy: 0.9850 - val_loss: 2.8540 - val_accuracy: 0.5734\n",
            "Epoch 53/100\n",
            "84/84 [==============================] - 8s 97ms/step - loss: 0.0409 - accuracy: 0.9871 - val_loss: 2.5946 - val_accuracy: 0.5713\n",
            "Epoch 54/100\n",
            "84/84 [==============================] - 8s 97ms/step - loss: 0.0477 - accuracy: 0.9859 - val_loss: 2.7402 - val_accuracy: 0.5852\n",
            "Epoch 55/100\n",
            "84/84 [==============================] - 8s 97ms/step - loss: 0.0564 - accuracy: 0.9819 - val_loss: 2.6962 - val_accuracy: 0.5788\n",
            "Epoch 56/100\n",
            "84/84 [==============================] - 8s 97ms/step - loss: 0.0720 - accuracy: 0.9764 - val_loss: 2.4056 - val_accuracy: 0.5756\n",
            "Epoch 57/100\n",
            "84/84 [==============================] - 8s 97ms/step - loss: 0.0664 - accuracy: 0.9787 - val_loss: 2.2794 - val_accuracy: 0.5777\n",
            "Epoch 58/100\n",
            "84/84 [==============================] - 8s 97ms/step - loss: 0.0530 - accuracy: 0.9844 - val_loss: 2.6474 - val_accuracy: 0.5606\n",
            "Epoch 59/100\n",
            "84/84 [==============================] - 8s 97ms/step - loss: 0.0419 - accuracy: 0.9842 - val_loss: 2.9585 - val_accuracy: 0.5691\n",
            "Epoch 60/100\n",
            "84/84 [==============================] - 8s 97ms/step - loss: 0.0495 - accuracy: 0.9840 - val_loss: 2.5674 - val_accuracy: 0.5798\n",
            "Epoch 61/100\n",
            "84/84 [==============================] - 8s 97ms/step - loss: 0.0464 - accuracy: 0.9849 - val_loss: 2.6721 - val_accuracy: 0.5916\n",
            "Epoch 62/100\n",
            "84/84 [==============================] - 8s 97ms/step - loss: 0.0471 - accuracy: 0.9848 - val_loss: 2.5999 - val_accuracy: 0.5970\n",
            "Epoch 63/100\n",
            "84/84 [==============================] - 8s 97ms/step - loss: 0.0278 - accuracy: 0.9906 - val_loss: 3.0264 - val_accuracy: 0.5691\n",
            "Epoch 64/100\n",
            "84/84 [==============================] - 8s 97ms/step - loss: 0.0495 - accuracy: 0.9833 - val_loss: 2.5551 - val_accuracy: 0.5938\n",
            "Epoch 65/100\n",
            "84/84 [==============================] - 8s 97ms/step - loss: 0.0451 - accuracy: 0.9842 - val_loss: 2.6360 - val_accuracy: 0.5949\n",
            "Epoch 66/100\n",
            "84/84 [==============================] - 8s 97ms/step - loss: 0.0418 - accuracy: 0.9868 - val_loss: 2.8282 - val_accuracy: 0.5691\n",
            "Epoch 67/100\n",
            "84/84 [==============================] - 8s 97ms/step - loss: 0.0314 - accuracy: 0.9890 - val_loss: 3.0107 - val_accuracy: 0.5777\n",
            "Epoch 68/100\n",
            "84/84 [==============================] - 8s 97ms/step - loss: 0.0506 - accuracy: 0.9851 - val_loss: 2.5757 - val_accuracy: 0.5809\n",
            "Epoch 69/100\n",
            "84/84 [==============================] - 8s 97ms/step - loss: 0.0495 - accuracy: 0.9811 - val_loss: 2.4722 - val_accuracy: 0.5927\n",
            "Epoch 70/100\n",
            "84/84 [==============================] - 8s 97ms/step - loss: 0.0398 - accuracy: 0.9874 - val_loss: 2.6613 - val_accuracy: 0.5981\n",
            "Epoch 71/100\n",
            "84/84 [==============================] - 8s 97ms/step - loss: 0.0204 - accuracy: 0.9940 - val_loss: 2.7938 - val_accuracy: 0.5991\n",
            "Epoch 72/100\n",
            "84/84 [==============================] - 8s 97ms/step - loss: 0.0230 - accuracy: 0.9932 - val_loss: 3.2919 - val_accuracy: 0.5798\n",
            "Epoch 73/100\n",
            "84/84 [==============================] - 8s 97ms/step - loss: 0.0451 - accuracy: 0.9853 - val_loss: 2.6363 - val_accuracy: 0.5981\n",
            "Epoch 74/100\n",
            "84/84 [==============================] - 8s 97ms/step - loss: 0.0480 - accuracy: 0.9842 - val_loss: 2.5574 - val_accuracy: 0.5788\n",
            "Epoch 75/100\n",
            "84/84 [==============================] - 8s 97ms/step - loss: 0.0437 - accuracy: 0.9846 - val_loss: 2.7169 - val_accuracy: 0.5659\n",
            "Epoch 76/100\n",
            "84/84 [==============================] - 8s 97ms/step - loss: 0.0390 - accuracy: 0.9876 - val_loss: 2.8415 - val_accuracy: 0.5659\n",
            "Epoch 77/100\n",
            "84/84 [==============================] - 8s 97ms/step - loss: 0.0279 - accuracy: 0.9909 - val_loss: 2.9651 - val_accuracy: 0.5745\n",
            "Epoch 78/100\n",
            "84/84 [==============================] - 8s 97ms/step - loss: 0.0363 - accuracy: 0.9870 - val_loss: 2.7470 - val_accuracy: 0.5949\n",
            "Epoch 79/100\n",
            "84/84 [==============================] - 8s 97ms/step - loss: 0.0429 - accuracy: 0.9867 - val_loss: 2.7891 - val_accuracy: 0.5831\n",
            "Epoch 80/100\n",
            "84/84 [==============================] - 8s 97ms/step - loss: 0.0300 - accuracy: 0.9901 - val_loss: 2.9997 - val_accuracy: 0.5959\n",
            "Epoch 81/100\n",
            "84/84 [==============================] - 8s 97ms/step - loss: 0.0174 - accuracy: 0.9945 - val_loss: 3.2456 - val_accuracy: 0.5820\n",
            "Epoch 82/100\n",
            "84/84 [==============================] - 8s 97ms/step - loss: 0.0211 - accuracy: 0.9926 - val_loss: 3.1133 - val_accuracy: 0.5831\n",
            "Epoch 83/100\n",
            "84/84 [==============================] - 8s 97ms/step - loss: 0.0485 - accuracy: 0.9844 - val_loss: 2.7748 - val_accuracy: 0.5863\n",
            "Epoch 84/100\n",
            "84/84 [==============================] - 8s 97ms/step - loss: 0.0474 - accuracy: 0.9856 - val_loss: 2.5448 - val_accuracy: 0.5927\n",
            "Epoch 85/100\n",
            "84/84 [==============================] - 8s 97ms/step - loss: 0.0398 - accuracy: 0.9863 - val_loss: 2.7048 - val_accuracy: 0.5638\n",
            "Epoch 86/100\n",
            "84/84 [==============================] - 8s 97ms/step - loss: 0.0358 - accuracy: 0.9878 - val_loss: 2.6102 - val_accuracy: 0.5959\n",
            "Epoch 87/100\n",
            "84/84 [==============================] - 8s 97ms/step - loss: 0.0251 - accuracy: 0.9907 - val_loss: 3.1044 - val_accuracy: 0.5777\n",
            "Epoch 88/100\n",
            "84/84 [==============================] - 8s 97ms/step - loss: 0.0265 - accuracy: 0.9919 - val_loss: 3.0082 - val_accuracy: 0.6013\n",
            "Epoch 89/100\n",
            "84/84 [==============================] - 8s 97ms/step - loss: 0.0176 - accuracy: 0.9946 - val_loss: 2.9671 - val_accuracy: 0.6024\n",
            "Epoch 90/100\n",
            "84/84 [==============================] - 8s 97ms/step - loss: 0.0236 - accuracy: 0.9921 - val_loss: 3.0075 - val_accuracy: 0.5895\n",
            "Epoch 91/100\n",
            "84/84 [==============================] - 8s 97ms/step - loss: 0.0335 - accuracy: 0.9888 - val_loss: 2.8643 - val_accuracy: 0.5938\n",
            "Epoch 92/100\n",
            "84/84 [==============================] - 8s 97ms/step - loss: 0.0439 - accuracy: 0.9868 - val_loss: 2.7379 - val_accuracy: 0.5831\n",
            "Epoch 93/100\n",
            "84/84 [==============================] - 8s 97ms/step - loss: 0.0341 - accuracy: 0.9878 - val_loss: 2.6574 - val_accuracy: 0.5916\n",
            "Epoch 94/100\n",
            "84/84 [==============================] - 8s 97ms/step - loss: 0.0446 - accuracy: 0.9864 - val_loss: 2.7662 - val_accuracy: 0.5906\n",
            "Epoch 95/100\n",
            "84/84 [==============================] - 8s 97ms/step - loss: 0.0264 - accuracy: 0.9918 - val_loss: 2.8203 - val_accuracy: 0.5648\n",
            "Epoch 96/100\n",
            "84/84 [==============================] - 8s 97ms/step - loss: 0.0347 - accuracy: 0.9895 - val_loss: 2.8887 - val_accuracy: 0.5906\n",
            "Epoch 97/100\n",
            "84/84 [==============================] - 8s 97ms/step - loss: 0.0232 - accuracy: 0.9920 - val_loss: 3.1474 - val_accuracy: 0.5938\n",
            "Epoch 98/100\n",
            "84/84 [==============================] - 8s 97ms/step - loss: 0.0336 - accuracy: 0.9882 - val_loss: 2.3328 - val_accuracy: 0.5831\n",
            "Epoch 99/100\n",
            "84/84 [==============================] - 8s 97ms/step - loss: 0.0461 - accuracy: 0.9843 - val_loss: 2.7239 - val_accuracy: 0.5927\n",
            "Epoch 100/100\n",
            "84/84 [==============================] - 8s 97ms/step - loss: 0.0258 - accuracy: 0.9918 - val_loss: 2.9093 - val_accuracy: 0.5970\n"
          ],
          "name": "stdout"
        }
      ]
    },
    {
      "cell_type": "code",
      "metadata": {
        "id": "KbXFycqmp8qP",
        "colab": {
          "base_uri": "https://localhost:8080/",
          "height": 235
        },
        "outputId": "41024395-1bf6-4b83-e682-ff0e03b6ebe3"
      },
      "source": [
        "fig = plt.figure(figsize=(16,4))\n",
        "ax = fig.add_subplot(121)\n",
        "ax.plot(history3.history[\"val_loss\"])\n",
        "#ax.plot(history10.history[\"val_loss\"])\n",
        "ax.set_title(\"validation loss\")\n",
        "ax.set_xlabel(\"epochs\")\n",
        "\n",
        "ax2 = fig.add_subplot(122)\n",
        "ax2.plot(history3.history[\"val_accuracy\"])\n",
        "#ax2.plot(history10.history[\"val_accuracy\"])\n",
        "ax2.set_title(\"validation accuracy\")\n",
        "ax2.set_xlabel(\"epochs\")\n",
        "ax2.set_ylim(0, 1)\n",
        "\n",
        "plt.show()"
      ],
      "execution_count": null,
      "outputs": [
        {
          "output_type": "display_data",
          "data": {
            "image/png": "[encoded data removed]",
            "text/plain": [
              "<Figure size 1152x288 with 2 Axes>"
            ]
          },
          "metadata": {
            "tags": [],
            "needs_background": "light"
          }
        }
      ]
    },
    {
      "cell_type": "markdown",
      "metadata": {
        "id": "qjXGnX_t7JG2"
      },
      "source": [
        "Validation accuracy is 59% but training accuracy reached 99%. Way too overfitted.\n",
        "\n",
        "(Reference:\n",
        "\n",
        "Rohit Thakur(2019 Aug 06) towards data science *Step by step VGG16 implementation in Keras for beginners*  \n",
        "Retrieved from: https://towardsdatascience.com/step-by-step-vgg16-implementation-in-keras-for-beginners-a833c686ae6c\n",
        ")"
      ]
    },
    {
      "cell_type": "markdown",
      "metadata": {
        "id": "DCEcwWZIgtmJ"
      },
      "source": [
        "### Second submission "
      ]
    },
    {
      "cell_type": "code",
      "metadata": {
        "id": "-7Qa_YvBhaPc",
        "colab": {
          "base_uri": "https://localhost:8080/"
        },
        "outputId": "e3643e76-2178-4385-f34f-837758c5e24d"
      },
      "source": [
        "import pandas as pd\n",
        "#predictions=pd.DataFrame(rfc.predict(X_test))\n",
        "pred_d=pd.DataFrame(model1_m.predict_classes(XN_test))\n",
        "\n",
        "predictions_d=pred_d.reset_index(level=0)\n",
        "predictions_d.columns=[\"ID\",\"Predictions\"]\n",
        "\n",
        "      \n"
      ],
      "execution_count": null,
      "outputs": [
        {
          "output_type": "stream",
          "text": [
            "WARNING:tensorflow:From <ipython-input-47-5cac6ed41a81>:3: Sequential.predict_classes (from tensorflow.python.keras.engine.sequential) is deprecated and will be removed after 2021-01-01.\n",
            "Instructions for updating:\n",
            "Please use instead:* `np.argmax(model.predict(x), axis=-1)`,   if your model does multi-class classification   (e.g. if it uses a `softmax` last-layer activation).* `(model.predict(x) > 0.5).astype(\"int32\")`,   if your model does binary classification   (e.g. if it uses a `sigmoid` last-layer activation).\n"
          ],
          "name": "stdout"
        }
      ]
    },
    {
      "cell_type": "code",
      "metadata": {
        "id": "NcDKvLEPjvct",
        "colab": {
          "base_uri": "https://localhost:8080/"
        },
        "outputId": "249a034b-773e-4aba-9f82-8c57fbe635d6"
      },
      "source": [
        "submission_d = predictions_d\n",
        "print(submission_d.head())\n",
        "submission_d.to_csv('46039791-deep5_model1_m.csv', index=False)"
      ],
      "execution_count": null,
      "outputs": [
        {
          "output_type": "stream",
          "text": [
            "   ID  Predictions\n",
            "0   0            3\n",
            "1   1            3\n",
            "2   2            2\n",
            "3   3            0\n",
            "4   4            6\n"
          ],
          "name": "stdout"
        }
      ]
    },
    {
      "cell_type": "markdown",
      "metadata": {
        "id": "OhN935TCLxJU"
      },
      "source": [
        "### Private test submission"
      ]
    },
    {
      "cell_type": "code",
      "metadata": {
        "id": "99BrvEbKj7gI",
        "colab": {
          "base_uri": "https://localhost:8080/"
        },
        "outputId": "2a006f68-6405-4eae-a411-e0b23bcb2431"
      },
      "source": [
        "import pandas as pd\n",
        "\n",
        "pred_p=pd.DataFrame(model1.predict_classes(X_test_private))\n",
        "\n",
        "predictions_p=pred_p.reset_index(level=0)\n",
        "predictions_p.columns=[\"ID\",\"Predictions\"]\n",
        "\n",
        "submission_p = predictions_p\n",
        "print(submission_p.head())\n",
        "submission_p.to_csv('46039791_private2.csv', index=False)\n"
      ],
      "execution_count": null,
      "outputs": [
        {
          "output_type": "stream",
          "text": [
            "WARNING:tensorflow:From <ipython-input-52-002c425fab2d>:3: Sequential.predict_classes (from tensorflow.python.keras.engine.sequential) is deprecated and will be removed after 2021-01-01.\n",
            "Instructions for updating:\n",
            "Please use instead:* `np.argmax(model.predict(x), axis=-1)`,   if your model does multi-class classification   (e.g. if it uses a `softmax` last-layer activation).* `(model.predict(x) > 0.5).astype(\"int32\")`,   if your model does binary classification   (e.g. if it uses a `sigmoid` last-layer activation).\n",
            "   ID  Predictions\n",
            "0   0            6\n",
            "1   1            3\n",
            "2   2            3\n",
            "3   3            6\n",
            "4   4            3\n"
          ],
          "name": "stdout"
        }
      ]
    },
    {
      "cell_type": "markdown",
      "metadata": {
        "id": "OK8ZsOGFEbix"
      },
      "source": [
        "# Discussion of Model Performance and Implementation\n",
        "\n",
        "Comparing final conventional ML and deep learning models, the deep learning one outperformed by 7.57% on the public test set. The deep learning model ranked #33 out of 69 submissions on the public test set, with the 61.09% accuracy.\n",
        "\n",
        "For public test accuracy, the private test accuary outperformed by 1.1%. Considering the overall improvement of performance in the private test, it is observed that the private dataset might randomly more similar with training set would been used.\n",
        "\n",
        "For validation accuracy, Over 63% of public test accuracy was expected. Whereas, the actual accuracy was 2% less. Assuming one of the reasons might be the best model already started overfitting (training accuracy 81%) during the training phase.\n",
        "\n",
        "One of the concern is how imbalanced dataset would impact the perfomance. Minimum accuracy difference between imbalanced and balanced dataset was observed. \n",
        "\n",
        "The next tryout would be dealing with overfittling based on the current achitectures and tryout F1 or ROC plot as the metrics of imbalanced dataset. "
      ]
    },
    {
      "cell_type": "code",
      "metadata": {
        "id": "GdrCyBGNO0L7"
      },
      "source": [
        ""
      ],
      "execution_count": null,
      "outputs": []
    }
  ]
}
